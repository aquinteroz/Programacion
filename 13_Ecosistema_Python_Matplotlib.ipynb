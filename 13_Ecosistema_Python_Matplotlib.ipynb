{
 "cells": [
  {
   "cell_type": "markdown",
   "metadata": {
    "slideshow": {
     "slide_type": "notes"
    }
   },
   "source": [
    "<h1 align=\"center\">Programación &#8212; PRE2013A45</h1>\n",
    "<h3 align=\"center\">Docente: Andrés Quintero Zea, PhD.</h3>\n",
    "<h3 align=\"center\">e-mail: andres.quintero27@eia.edu.co</h3>\n",
    "<h3 align=\"center\">Semana 14: Ecosistema Python - Matplotlib</h3>\n",
    "<h3 align=\"center\">Trabajo autónomo</h3>"
   ]
  },
  {
   "cell_type": "markdown",
   "metadata": {},
   "source": [
    "# Mini _challenge_ 14\n",
    "\n",
    "1. En el archivo <tt>titanic.csv</tt> encontrará una data sobre los pasajeros del Titanic. Cargue los datos en un `DataFrame`y realice gráficos que permitan visualizar las siguientes informaciones:\n",
    "    1. Gráfico circular (*pie chart*) con los fallecidos y supervivientes.\n",
    "    1. Histograma con las edades. \n",
    "    1. Diagrama de barras con el número de personas en cada clase. \n",
    "    1. Diagrama de barras con el número de personas fallecidas y supervivientes en cada clase.\n",
    "\n",
    "2. Con base en la data del archivo <tt>fallecidos_covid.xlsx</tt>, haga una visualización de diagrama de caja (*boxplot*) comparativo para los fallecidos hombres vs fallecidos mujeres, agrupados por el tipo de diagnóstico (columna **CLASIFICACION_DEF**). Repita para rangos de edad cada 10 años, en lugar del tipo de diagnóstico.\n",
    "\n",
    "3. Cree un gráfico de dispersión para los datos del archivo <tt>climate_change.csv</tt>. Incluya un ajuste de curva lineal con bandas de confianza, como se muestra a continuación:\n",
    "\n",
    "![Gráfico de dispersión](./Images/climate.png)\n",
    "\n",
    "4. El archivo <tt>Noisy_Signal.csv</tt> contiene 50 muestras de una señal. La primera columna es el índice de tiempo y las 50 restantes las medidad repetidas de la señal. Grafique el promedio de las 50 medidas en el tiempo e incluya bandas con la desviación estándar, como se muestra a continuación:\n",
    "\n",
    "![Gráfico de dispersión](./Images/signal.png)\n",
    "\n",
    "## Condiciones de entrega\n",
    "Para este Mini *challenge* se debe hacer entrega, a través del aula digital, de un archivo IPYNB con las soluciones a los problemas y que cuente con lo siguiente:\n",
    "- Un primer bloque en Markdown a manera de portada, con la siguiente información centrada:\n",
    "    * Identificación del curso\n",
    "    * Nombre del estudiante\n",
    "    * Identificación del mini *challenge*\n",
    "    * Fecha\n",
    "- Presentación de cada ejercicio en celda Markdown\n",
    "- Celdas ejecutables con los problemas desarrollados"
   ]
  },
  {
   "cell_type": "markdown",
   "metadata": {},
   "source": [
    "<img src=\"Images/by_nc_sa.svg\" style=\"float:left;width: 50px;\"/> &nbsp; El material de este curso está bajo una licencia Creative Commons [Atribución-NoComercial-CompartirIgual 4.0 Internacional](LICENSE.MD) (CC BY-NC-SA 4.0)"
   ]
  }
 ],
 "metadata": {
  "kernelspec": {
   "display_name": "Python 3 (ipykernel)",
   "language": "python",
   "name": "python3"
  },
  "language_info": {
   "codemirror_mode": {
    "name": "ipython",
    "version": 3
   },
   "file_extension": ".py",
   "mimetype": "text/x-python",
   "name": "python",
   "nbconvert_exporter": "python",
   "pygments_lexer": "ipython3",
   "version": "3.10.10"
  },
  "latex_envs": {
   "LaTeX_envs_menu_present": true,
   "autocomplete": true,
   "bibliofile": "biblio.bib",
   "cite_by": "apalike",
   "current_citInitial": 1,
   "eqLabelWithNumbers": true,
   "eqNumInitial": 1,
   "hotkeys": {
    "equation": "Ctrl-E",
    "itemize": "Ctrl-I"
   },
   "labels_anchors": false,
   "latex_user_defs": false,
   "report_style_numbering": true,
   "user_envs_cfg": true
  },
  "toc": {
   "base_numbering": 1,
   "nav_menu": {},
   "number_sections": true,
   "sideBar": true,
   "skip_h1_title": true,
   "title_cell": "Tabla de Contenidos",
   "title_sidebar": "Contenidos",
   "toc_cell": true,
   "toc_position": {
    "height": "calc(100% - 180px)",
    "left": "10px",
    "top": "150px",
    "width": "165px"
   },
   "toc_section_display": true,
   "toc_window_display": true
  }
 },
 "nbformat": 4,
 "nbformat_minor": 4
}
