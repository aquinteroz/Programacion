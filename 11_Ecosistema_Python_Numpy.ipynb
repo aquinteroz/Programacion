{
 "cells": [
  {
   "cell_type": "markdown",
   "metadata": {
    "slideshow": {
     "slide_type": "notes"
    }
   },
   "source": [
    "<h1 align=\"center\">Programación &#8212; PRE2013A45</h1>\n",
    "<h3 align=\"center\">Docente: Andrés Quintero Zea, PhD.</h3>\n",
    "<h3 align=\"center\">e-mail: andres.quintero27@eia.edu.co</h3>\n",
    "<h3 align=\"center\">Semana 11: Ecosistema Python - Numpy</h3>"
   ]
  },
  {
   "cell_type": "markdown",
   "metadata": {},
   "source": [
    "`NumPy` (*Numerical Python*) es uno de los `módulos` más importantes y probablemente el más utilizado en el campo del cálculo numérico en el ecosistema de `Python`. \n",
    "\n",
    "- Ofrece el objeto `ndarray`, similar a una lista de `Python` pero optimizada para el cálculo numérico. Nos referiremos a este objeto como `array` de `NumPy`, o simplemente `array`.\n",
    "- Implementa funciones matemáticas que pueden trabajar directamente sobre `arrays` sin tener que implementar ciclos.\n",
    "- Proporciona funciones para leer/escribir datos a archivos de manera optimizada.\n",
    "- Permite aplicaciones de álgebra lineal, generación de números aleatorios y transformadas de Fourier.\n",
    "\n",
    "El núcleo de `Numpy` está implementado en C, ofreciendo *bindings* en `Python` para interactuar con él. Esto se traduce en que `NumPy` es más rápido que el equivalente en puro `Python`. Muchas otras librerías para el análisis de datos están construidas sobre `NumPy`, utilizando los `ndarrays` como la estructura de datos básica debido a su eficiencia."
   ]
  },
  {
   "cell_type": "code",
   "execution_count": null,
   "metadata": {},
   "outputs": [],
   "source": [
    "import numpy as np\n",
    "np.__version__"
   ]
  },
  {
   "cell_type": "markdown",
   "metadata": {},
   "source": [
    "# 1. Fundamentos de los arreglos `NumPy`\n",
    "La manipulación de datos en `Python` es casi sinónimo de la manipulación de arreglos `NumPy`. A continuación veremos varios ejemplos del uso de la manipulación de arreglos `NumPy` para acceder a datos y subarreglos. Y para dividir, reestructurar y unir los arreglos.\n",
    "\n",
    "## 1.1 Atributos de arreglos `Numpy`\n",
    "Primero analicemos algunos atributos útiles. Comenzaremos definiendo tres arreglos aleatorias, una matriz unidimensional, bidimensional y tridimensional. Usaremos el generador de números aleatorios de `NumPy`, que inicializaremos con un valor establecido para garantizar que se generen las mismas matrices aleatorias cada vez que se ejecute este código:"
   ]
  },
  {
   "cell_type": "code",
   "execution_count": null,
   "metadata": {},
   "outputs": [],
   "source": [
    "np.random.seed(0)\n",
    "\n",
    "x1 = np.random.randint(10, size=6)\n",
    "x2 = np.random.randint(10, size=(3, 4))\n",
    "x3 = np.random.randint(10, size=(3, 4, 5)) "
   ]
  },
  {
   "cell_type": "markdown",
   "metadata": {},
   "source": [
    "Cada matriz tiene atributos `ndim` (el número de dimensiones), `shape` (el tamaño de cada dimensión) y `size` (el tamaño total de la matriz):"
   ]
  },
  {
   "cell_type": "code",
   "execution_count": null,
   "metadata": {},
   "outputs": [],
   "source": [
    "print(\"x3 ndim: \", x3.ndim)\n",
    "print(\"x3 shape:\", x3.shape)\n",
    "print(\"x3 size: \", x3.size)"
   ]
  },
  {
   "cell_type": "markdown",
   "metadata": {},
   "source": [
    "Otro atributo útil es el `dtype`, el tipo de datos de la matriz."
   ]
  },
  {
   "cell_type": "code",
   "execution_count": null,
   "metadata": {},
   "outputs": [],
   "source": [
    "print(\"dtype:\", x3.dtype)"
   ]
  },
  {
   "cell_type": "markdown",
   "metadata": {},
   "source": [
    "Otros atributos incluyen `itemsize`, que enumera el tamaño (en bytes) de cada elemento de la matriz, y `nbytes`, que enumera el tamaño total (en bytes) de la matriz:"
   ]
  },
  {
   "cell_type": "code",
   "execution_count": null,
   "metadata": {
    "scrolled": true
   },
   "outputs": [],
   "source": [
    "print(\"itemsize:\", x3.itemsize, \"bytes\")\n",
    "print(\"nbytes:\", x3.nbytes, \"bytes\")"
   ]
  },
  {
   "cell_type": "markdown",
   "metadata": {},
   "source": [
    "## 1.2 Indexación de arreglos `Numpy`\n",
    "Ya estamos familiarizados con la indexación de listas estándar de `Python`, por lo que la indexación en `NumPy` nos resultará bastante familiar. En una matriz unidimensional, se puede acceder al $i$-ésimo valor (contando desde cero) especificando el índice deseado entre corchetes, al igual que con las listas de Python:"
   ]
  },
  {
   "cell_type": "code",
   "execution_count": null,
   "metadata": {},
   "outputs": [],
   "source": [
    "print(x1)\n",
    "print(x1[0])\n",
    "print(x1[-1])"
   ]
  },
  {
   "cell_type": "code",
   "execution_count": null,
   "metadata": {},
   "outputs": [],
   "source": [
    "print(x2)\n",
    "print(x2[0])\n",
    "print(x2[-1])\n",
    "print(x2[0][0])\n",
    "print(x2[0][-1])\n",
    "print(x2[-3][-2])"
   ]
  },
  {
   "cell_type": "markdown",
   "metadata": {},
   "source": [
    "Los valores también se pueden modificar utilizando cualquiera de las notaciones de índice anteriores:"
   ]
  },
  {
   "cell_type": "code",
   "execution_count": null,
   "metadata": {},
   "outputs": [],
   "source": [
    "x2[0, 0] = 12\n",
    "print(x2)"
   ]
  },
  {
   "cell_type": "markdown",
   "metadata": {},
   "source": [
    "Tenga en cuenta que, a diferencia de las listas de `Python`, las matrices `NumPy` tienen un tipo fijo. Esto significa, por ejemplo, que si intenta insertar un valor de punto flotante en una matriz de enteros, el valor se truncará silenciosamente. **¡No se deje sorprender por este comportamiento!**"
   ]
  },
  {
   "cell_type": "code",
   "execution_count": null,
   "metadata": {},
   "outputs": [],
   "source": [
    "x1[0] = 3.14159\n",
    "print(x1)"
   ]
  },
  {
   "cell_type": "markdown",
   "metadata": {},
   "source": [
    "## 1.3 Acceso a subarreglos\n",
    "Así como podemos usar corchetes para acceder a elementos individuales de la matriz, también podemos usarlos para acceder a subarreglos con la notación de división, marcada por el carácter de dos puntos (`:`). La sintaxis de corte de `NumPy` sigue la de la lista estándar de Python `x[start:stop:step]`.\n",
    "### 1.3.1 Arreglos unidimensionales"
   ]
  },
  {
   "cell_type": "code",
   "execution_count": null,
   "metadata": {},
   "outputs": [],
   "source": [
    "y1 = np.arange(10)\n",
    "print(f'y1 = {y1}')\n",
    "print(f'y1[:5] = {y1[:5]}')\n",
    "print(f'y1[::-1] = {y1[::-1]}')\n",
    "\n",
    "y2 = np.arange(0, 20, 2)\n",
    "print(f'\\ny2 = {y2}')\n",
    "print(f'y2[5:] = {y2[5:]}')\n",
    "\n",
    "y3 = np.linspace(0, 1,  9)\n",
    "print(f'\\ny3 = {y3}')\n",
    "print(f'y3[2:5] = {y3[2:5]}')"
   ]
  },
  {
   "cell_type": "markdown",
   "metadata": {},
   "source": [
    "### 1.3.2 Arreglos multidimensionales\n",
    "Los cortes multidimensionales funcionan de la misma manera, con varios cortes separados por comas. Por ejemplo:"
   ]
  },
  {
   "cell_type": "code",
   "execution_count": null,
   "metadata": {},
   "outputs": [],
   "source": [
    "print(f'x2 =\\n {x2}')\n",
    "print(f'\\nx2[:2, :3] =\\n{x2[:2, :3]}')\n",
    "print(f'\\nx2[:3, ::2] =\\n {x2[:3, ::2]}')"
   ]
  },
  {
   "cell_type": "markdown",
   "metadata": {},
   "source": [
    "Una rutina comúnmente necesaria es acceder a filas o columnas individuales de una matriz. Esto se puede hacer combinando la indexación y el corte, utilizando un segmento vacío marcado con dos puntos (`:`):"
   ]
  },
  {
   "cell_type": "code",
   "execution_count": null,
   "metadata": {},
   "outputs": [],
   "source": [
    "print(f'x2[:, 0] = \\n {x2[:, 0]}')  # Primera columna de x2\n",
    "print(f'x2[0, ;] = \\n {x2[0, :]}')  # Primera fila de x2"
   ]
  },
  {
   "cell_type": "markdown",
   "metadata": {},
   "source": [
    "Una cosa importante, y extremadamente útil, que debe saber sobre los segmentos de matriz es que devuelven vistas en lugar de copias de los datos de la matriz. Esta es un área en la que el corte de matrices `NumPy` difiere del corte de listas de `Python`: en las listas, los cortes serán copias. Considere nuestra matriz bidimensional de antes:"
   ]
  },
  {
   "cell_type": "code",
   "execution_count": null,
   "metadata": {},
   "outputs": [],
   "source": [
    "print(f'x2 = \\n {x2}')\n",
    "x2_sub = x2[:2, :2]\n",
    "print(f'\\nx2_sub =\\n {x2_sub}')"
   ]
  },
  {
   "cell_type": "markdown",
   "metadata": {},
   "source": [
    "Ahora, si modificamos este subarreglo, **¡veremos que el arreglo original ha cambiado!**"
   ]
  },
  {
   "cell_type": "code",
   "execution_count": null,
   "metadata": {},
   "outputs": [],
   "source": [
    "x2_sub[0, 0] = 150\n",
    "print(f'\\nx2_sub =\\n {x2_sub}')\n",
    "print(f'\\nx2 = \\n {x2}')"
   ]
  },
  {
   "cell_type": "markdown",
   "metadata": {},
   "source": [
    "Este comportamiento predeterminado es bastante útil: significa que cuando trabajamos con grandes conjuntos de datos, podemos acceder y procesar partes de estos conjuntos de datos sin necesidad de copiar el búfer de datos subyacente. Pero si queremos crear una copia independiente, podemos usar el método `copy()` de los arreglos."
   ]
  },
  {
   "cell_type": "code",
   "execution_count": null,
   "metadata": {},
   "outputs": [],
   "source": [
    "x2_sub_copy = x2[:2, :2].copy()\n",
    "print(f'x2_sub_copy =\\n {x2_sub_copy}')\n",
    "x2_sub_copy[0, 0] = 42\n",
    "print(f'\\nx2_sub_copy =\\n {x2_sub_copy}')\n",
    "print(f'\\nx2 = \\n {x2}')"
   ]
  },
  {
   "cell_type": "markdown",
   "metadata": {},
   "source": [
    "### 1.3.3 Reestructuración de arreglos\n",
    "Otro tipo útil de operación es la reestructuración de matrices. Por ejemplo, si desea poner los números del 1 al 9 en una matriz $3 \\times 3$, puede hacer lo siguiente:"
   ]
  },
  {
   "cell_type": "code",
   "execution_count": null,
   "metadata": {},
   "outputs": [],
   "source": [
    "grid = np.arange(1, 10).reshape((3, 3))\n",
    "print(grid)"
   ]
  },
  {
   "cell_type": "markdown",
   "metadata": {},
   "source": [
    "Tenga en cuenta que para que esto funcione, el tamaño de la matriz inicial debe coincidir con el tamaño de la matriz reestructurada. Siempre que sea posible, el método de reestructuración utilizará una vista sin copia de la matriz inicial, pero con búferes de memoria no contiguos, este no es siempre el caso.\n",
    "\n",
    "Otro patrón de reestructuració común es la conversión de una matriz unidimensional en una matriz bidimensional de filas o columnas. Esto se puede hacer con el método `reshape()`, o más fácilmente usando la palabra clave `newaxis` dentro de una operación de división:"
   ]
  },
  {
   "cell_type": "code",
   "execution_count": null,
   "metadata": {},
   "outputs": [],
   "source": [
    "x = np.array([1, 2, 3])\n",
    "x"
   ]
  },
  {
   "cell_type": "code",
   "execution_count": null,
   "metadata": {},
   "outputs": [],
   "source": [
    "x.reshape((3, 1))"
   ]
  },
  {
   "cell_type": "code",
   "execution_count": null,
   "metadata": {},
   "outputs": [],
   "source": [
    "x[:, np.newaxis]"
   ]
  },
  {
   "cell_type": "markdown",
   "metadata": {},
   "source": [
    "## 1.4 Concatenación y división de matrices\n",
    "Todas las rutinas anteriores funcionaron en matrices individuales. También es posible combinar varios arreglos en uno y, a la inversa, dividir un solo arreglo en varios arreglos. Echaremos un vistazo a esas operaciones aquí.\n",
    "### 1.4.1 Concatenación\n",
    "La concatenación, o unión de dos matrices en `NumPy`, se logra principalmente mediante las rutinas `np.concatenate`, `np.vstack` y `np.hstack`. `np.concatenate` toma una tupla o lista de matrices como primer argumento, como podemos ver aquí:"
   ]
  },
  {
   "cell_type": "code",
   "execution_count": null,
   "metadata": {},
   "outputs": [],
   "source": [
    "x = np.array([1, 2, 3])\n",
    "y = np.array([3, 2, 1])\n",
    "np.concatenate([x, y])"
   ]
  },
  {
   "cell_type": "markdown",
   "metadata": {},
   "source": [
    "También puede concatenar más de dos matrices a la vez y para matrices bidimensionales:"
   ]
  },
  {
   "cell_type": "code",
   "execution_count": null,
   "metadata": {},
   "outputs": [],
   "source": [
    "z = [99, 99, 99]\n",
    "np.concatenate([x, y, z])"
   ]
  },
  {
   "cell_type": "code",
   "execution_count": null,
   "metadata": {},
   "outputs": [],
   "source": [
    "grid = np.array([[1, 2, 3],\n",
    "                 [4, 5, 6]])\n",
    "np.concatenate([grid, grid])"
   ]
  },
  {
   "cell_type": "code",
   "execution_count": null,
   "metadata": {},
   "outputs": [],
   "source": [
    "np.concatenate([grid, grid], axis=1)"
   ]
  },
  {
   "cell_type": "markdown",
   "metadata": {},
   "source": [
    "Para trabajar con arreglos de dimensiones mixtas, puede ser más claro usar las funciones `np.vstack` (apilado vertical) y `np.hstack` (apilado horizontal):"
   ]
  },
  {
   "cell_type": "code",
   "execution_count": null,
   "metadata": {},
   "outputs": [],
   "source": [
    "x = np.array([1, 2, 3])\n",
    "grid = np.array([[9, 8, 7],\n",
    "                 [6, 5, 4]])\n",
    "\n",
    "np.vstack([x, grid])"
   ]
  },
  {
   "cell_type": "code",
   "execution_count": null,
   "metadata": {},
   "outputs": [],
   "source": [
    "y = np.array([[99],\n",
    "              [99]])\n",
    "np.hstack([grid, y])"
   ]
  },
  {
   "cell_type": "markdown",
   "metadata": {},
   "source": [
    "De manera similar, `np.dstack` apilará matrices a lo largo del tercer eje."
   ]
  },
  {
   "cell_type": "markdown",
   "metadata": {},
   "source": [
    "### 1.4.2 División\n",
    "Lo opuesto a la concatenación es la división, que se implementa mediante las funciones `np.split`, `np.hsplit` y `np.vsplit`. Para cada uno de estos, podemos pasar una lista de índices que dan los puntos de división:"
   ]
  },
  {
   "cell_type": "code",
   "execution_count": null,
   "metadata": {},
   "outputs": [],
   "source": [
    "x = [1, 2, 3, 99, 99, 3, 2, 1]\n",
    "x1, x2, x3 = np.split(x, [3, 5])\n",
    "print(x1, x2, x3)"
   ]
  },
  {
   "cell_type": "markdown",
   "metadata": {},
   "source": [
    "Observe que $N$ puntos de división conducen a $N + 1$ subarreglos. Las funciones relacionadas `np.hsplit` y `np.vsplit` son similares:"
   ]
  },
  {
   "cell_type": "code",
   "execution_count": null,
   "metadata": {},
   "outputs": [],
   "source": [
    "grid = np.arange(16).reshape((4, 4))\n",
    "grid"
   ]
  },
  {
   "cell_type": "code",
   "execution_count": null,
   "metadata": {},
   "outputs": [],
   "source": [
    "upper, lower = np.vsplit(grid, [2])\n",
    "print(upper)\n",
    "print(lower)"
   ]
  },
  {
   "cell_type": "code",
   "execution_count": null,
   "metadata": {},
   "outputs": [],
   "source": [
    "left, right = np.hsplit(grid, [2])\n",
    "print(left)\n",
    "print(right)"
   ]
  },
  {
   "cell_type": "markdown",
   "metadata": {},
   "source": [
    "De manera similar, `np.dsplit` dividirá matrices a lo largo del tercer eje."
   ]
  },
  {
   "cell_type": "markdown",
   "metadata": {},
   "source": [
    "# 2. Cálculo en matrices `NumPy`: funciones universales\n",
    "Hasta ahora, hemos discutido algunos de los aspectos básicos de `NumPy`; En las próximas secciones, profundizaremos en las razones por las que `NumPy` es tan importante en el mundo de la ciencia de datos de `Python`. Es decir, proporciona una interfaz fácil y flexible para el cálculo optimizado con matrices de datos.\n",
    "\n",
    "El cálculo en matrices `NumPy` puede ser muy rápido o muy lento. La clave para hacerlo rápido es usar operaciones vectorizadas, generalmente implementadas a través de las funciones universales de `NumPy` (*UFuncs*). Esta sección motiva la necesidad de los *UFuncs* de `NumPy`, que se pueden usar para hacer que los cálculos repetidos en los elementos de la matriz sean mucho más eficientes. Luego presenta muchos de los *UFuncs* aritméticos más comunes y útiles disponibles en el paquete `NumPy`.\n",
    "## 2.1 Fundamentos de *UFuncs*\n",
    "Para muchos tipos de operaciones, `NumPy` proporciona una interfaz conveniente para este tipo de rutina compilada y tipificada estáticamente. Esto se conoce como operación vectorizada. Esto se puede lograr simplemente realizando una operación en la matriz, que luego se aplicará a cada elemento. Este enfoque vectorizado está diseñado para insertar el bucle en la capa compilada que subyace a `NumPy`, lo que lleva a una ejecución mucho más rápida.\n",
    "\n",
    "Compare los resultados de las siguientes ejecuciones:"
   ]
  },
  {
   "cell_type": "code",
   "execution_count": null,
   "metadata": {},
   "outputs": [],
   "source": [
    "np.random.seed(0)\n",
    "\n",
    "def compute_reciprocals(values):\n",
    "    output = np.empty(len(values))\n",
    "    for i in range(len(values)):\n",
    "        output[i] = 1.0 / values[i]\n",
    "    return output\n",
    "        \n",
    "values = np.random.randint(1, 10, size=5)\n",
    "compute_reciprocals(values)\n",
    "big_array = np.random.randint(1, 100, size=1000000)\n",
    "%timeit compute_reciprocals(big_array)"
   ]
  },
  {
   "cell_type": "code",
   "execution_count": null,
   "metadata": {},
   "outputs": [],
   "source": [
    "%timeit (1.0 / big_array)"
   ]
  },
  {
   "cell_type": "markdown",
   "metadata": {},
   "source": [
    "Las operaciones vectorizadas en `NumPy` se implementan a través de *UFuncs*, cuyo objetivo principal es ejecutar rápidamente operaciones repetidas en valores en matrices `NumPy`. Las *UFuncs* son extremadamente flexibles: antes vimos una operación entre un escalar y una matriz, pero también podemos operar entre dos matrices:"
   ]
  },
  {
   "cell_type": "code",
   "execution_count": null,
   "metadata": {},
   "outputs": [],
   "source": [
    "x = np.arange(5)\n",
    "print(f'x = {x}')\n",
    "y = np.arange(1, 6)\n",
    "print(f'y = {y}')\n",
    "print(f'x/y = {x/y}')"
   ]
  },
  {
   "cell_type": "code",
   "execution_count": null,
   "metadata": {},
   "outputs": [],
   "source": [
    "z = np.arange(9).reshape((3, 3))\n",
    "print(f'z = \\n{z}')\n",
    "print(f'\\n  2 ** z = \\n{ 2 ** z}')"
   ]
  },
  {
   "cell_type": "markdown",
   "metadata": {},
   "source": [
    "## 2.2 Explorando las UFuncs de `NumPy`\n",
    "Los UFuncs existen en dos versiones: unarias, que operan en una sola entrada y binarias, que operan en dos entradas. Veremos ejemplos de ambos tipos de funciones aquí.\n",
    "### 2.2.1 Aritmética de matrices\n",
    "Los UFuncs de `NumPy` se sienten muy naturales de usar porque hacen uso de los operadores aritméticos nativos de `Python`. Se pueden usar las sumas, restas, multiplicaciones y divisiones estándar:"
   ]
  },
  {
   "cell_type": "code",
   "execution_count": null,
   "metadata": {},
   "outputs": [],
   "source": [
    "x = np.arange(4)\n",
    "print(\"x =\", x)\n",
    "print(\"x + 5 =\", x + 5)\n",
    "print(\"x - 5 =\", x - 5)\n",
    "print(\"x * 2 =\", x * 2)\n",
    "print(\"x / 2 =\", x / 2)\n",
    "print(\"x // 2 =\", x // 2)\n",
    "print(\"-x     = \", -x)\n",
    "print(\"x ** 2 = \", x ** 2)\n",
    "print(\"x % 2  = \", x % 2)"
   ]
  },
  {
   "cell_type": "markdown",
   "metadata": {},
   "source": [
    "Además, se pueden encadenar como se desee y se respeta el orden estándar de las operaciones:"
   ]
  },
  {
   "cell_type": "code",
   "execution_count": null,
   "metadata": {},
   "outputs": [],
   "source": [
    "-(0.5*x + 1) ** 2"
   ]
  },
  {
   "cell_type": "markdown",
   "metadata": {},
   "source": [
    "Cada una de estas operaciones aritméticas son simplemente envoltorios convenientes alrededor de funciones específicas integradas en `NumPy`. Por ejemplo, el operador `+` es un envoltorio para la función `add()`:"
   ]
  },
  {
   "cell_type": "code",
   "execution_count": null,
   "metadata": {},
   "outputs": [],
   "source": [
    "np.add(x, 2)"
   ]
  },
  {
   "cell_type": "markdown",
   "metadata": {},
   "source": [
    "La siguiente tabla enumera los operadores aritméticos implementados en `NumPy`:\n",
    "\n",
    "| Operador\t    | UFunc equivalente   |\n",
    "|:-------------:|:--------------------|\n",
    "|``+``          |``np.add``           |\n",
    "|``-``          |``np.subtract``      |\n",
    "|``-``          |``np.negative``      |\n",
    "|``*``          |``np.multiply``      |\n",
    "|``/``          |``np.divide``        |\n",
    "|``//``         |``np.floor_divide``  |\n",
    "|``**``         |``np.power``         |\n",
    "|``%``          |``np.mod``           |\n"
   ]
  },
  {
   "cell_type": "markdown",
   "metadata": {},
   "source": [
    "### 2.2.2 Funciones útiles\n",
    "`Numpy` integra funciones útiles, como las trigonométricas, valor absoluto, signo, logaritmo, etc.\n",
    "#### 2.2.2.1 Valor absoluto, signo y magnitud"
   ]
  },
  {
   "cell_type": "code",
   "execution_count": null,
   "metadata": {},
   "outputs": [],
   "source": [
    "x = np.array([-2, -1, 0, 1, 2])\n",
    "print(np.abs(x))\n",
    "print(np.sign(x))"
   ]
  },
  {
   "cell_type": "code",
   "execution_count": null,
   "metadata": {},
   "outputs": [],
   "source": [
    "x = np.array([3 - 4j, 4 - 3j, 2 + 0j, 0 + 1j])\n",
    "np.abs(x)"
   ]
  },
  {
   "cell_type": "markdown",
   "metadata": {},
   "source": [
    "#### 2.2.2.2 Funciones trigonométricas\n",
    "**`Numpy` trabaja sobre ángulos en radianes**"
   ]
  },
  {
   "cell_type": "code",
   "execution_count": null,
   "metadata": {
    "scrolled": true
   },
   "outputs": [],
   "source": [
    "theta = np.linspace(0, np.pi, 3)\n",
    "print(\"theta      = \", theta)\n",
    "print(\"sin(theta) = \", np.sin(theta))\n",
    "print(\"cos(theta) = \", np.cos(theta))\n",
    "print(\"tan(theta) = \", np.tan(theta))"
   ]
  },
  {
   "cell_type": "markdown",
   "metadata": {},
   "source": [
    "Los valores se calculan dentro de la precisión de la máquina, por lo que los valores que deberían ser cero no siempre llegan exactamente a cero. Las funciones trigonométricas inversas también están disponibles:"
   ]
  },
  {
   "cell_type": "code",
   "execution_count": null,
   "metadata": {},
   "outputs": [],
   "source": [
    "x = [-1, 0, 1]\n",
    "print(\"x         = \", x)\n",
    "print(\"arcsin(x) = \", np.arcsin(x))\n",
    "print(\"arccos(x) = \", np.arccos(x))\n",
    "print(\"arctan(x) = \", np.arctan(x))"
   ]
  },
  {
   "cell_type": "markdown",
   "metadata": {},
   "source": [
    "Para trabajar ángulos en radianes, se puede usar el método `deg2rad()` o implementar una función lambda:"
   ]
  },
  {
   "cell_type": "code",
   "execution_count": null,
   "metadata": {},
   "outputs": [],
   "source": [
    "np.sin(np.deg2rad(90))"
   ]
  },
  {
   "cell_type": "code",
   "execution_count": null,
   "metadata": {},
   "outputs": [],
   "source": [
    "sind = lambda degrees: np.sin(np.deg2rad(degrees))\n",
    "cosd = lambda degrees: np.cos(np.deg2rad(degrees))\n",
    "print(sind(75))\n",
    "print(cosd(45))"
   ]
  },
  {
   "cell_type": "markdown",
   "metadata": {},
   "source": [
    "#### 2.2.2.3 Exponenciales y logaritmos\n",
    "Otro tipo común de operación disponible en `NumPy` son las exponenciales:"
   ]
  },
  {
   "cell_type": "code",
   "execution_count": null,
   "metadata": {},
   "outputs": [],
   "source": [
    "x = [1, 2, 3]\n",
    "print(\"x     =\", x)\n",
    "print(\"e^x   =\", np.exp(x))\n",
    "print(\"2^x   =\", np.exp2(x))\n",
    "print(\"3^x   =\", np.power(3, x))"
   ]
  },
  {
   "cell_type": "markdown",
   "metadata": {},
   "source": [
    "También están disponibles los inversos de las exponenciales, los logaritmos. El `np.log` básico da el logaritmo **natural**, si prefiere calcular el logaritmo en base 2 o el logaritmo en base 10, también están disponibles:"
   ]
  },
  {
   "cell_type": "code",
   "execution_count": null,
   "metadata": {
    "scrolled": true
   },
   "outputs": [],
   "source": [
    "x = [1, 2, 4, 10]\n",
    "print(\"x        =\", x)\n",
    "print(\"ln(x)    =\", np.log(x))\n",
    "print(\"log2(x)  =\", np.log2(x))\n",
    "print(\"log10(x) =\", np.log10(x))"
   ]
  },
  {
   "cell_type": "markdown",
   "metadata": {},
   "source": [
    "También hay algunas versiones especializadas que son útiles para mantener la precisión con una entrada muy pequeña:"
   ]
  },
  {
   "cell_type": "markdown",
   "metadata": {},
   "source": [
    "### 2.2.3 Funciones especiales\n",
    "`NumPy` tiene muchos más UFuncs disponibles, incluidas funciones trigonométricas hiperbólicas, aritmética bit a bit, operadores de comparación, conversiones de radianes a grados, redondeo y resto, y mucho más. Un vistazo a la [documentación de NumPy](https://numpy.org/doc/stable/reference/index.html) revela muchas funcionalidades interesantes.\n",
    "\n",
    "Otra fuente excelente para UFuncs más especializados y oscuros es el submódulo scipy.special. Si desea calcular alguna función matemática oscura en sus datos, es probable que esté implementada en scipy.special. Hay demasiadas funciones para enumerarlas todas, pero el siguiente fragmento muestra un par que podría surgir en un contexto de estadísticas:"
   ]
  },
  {
   "cell_type": "code",
   "execution_count": null,
   "metadata": {},
   "outputs": [],
   "source": [
    "from scipy import special\n",
    "x = [1, 5, 10]\n",
    "print(\"gamma(x)     =\", special.gamma(x))\n",
    "print(\"ln|gamma(x)| =\", special.gammaln(x))\n",
    "print(\"beta(x, 2)   =\", special.beta(x, 2))"
   ]
  },
  {
   "cell_type": "code",
   "execution_count": null,
   "metadata": {},
   "outputs": [],
   "source": [
    "x = np.array([0, 0.3, 0.7, 1.0])\n",
    "print(\"erf(x)  =\", special.erf(x))\n",
    "print(\"erfc(x) =\", special.erfc(x))\n",
    "print(\"erfinv(x) =\", special.erfinv(x))"
   ]
  },
  {
   "cell_type": "markdown",
   "metadata": {},
   "source": [
    "### 2.2.4 Agregados\n",
    "Para UFuuncs binarias, hay algunos agregados interesantes que se pueden calcular directamente desde el objeto. Por ejemplo, si nos gustaría reducir una matriz con una operación en particular, podemos usar el método `reduce` de cualquier UFunc. Una reducción aplica repetidamente una operación determinada a los elementos de una matriz hasta que solo queda un único resultado.\n",
    "\n",
    "Por ejemplo, llamar a `reduce` en `add` devuelve la suma de todos los elementos en la matriz:"
   ]
  },
  {
   "cell_type": "code",
   "execution_count": null,
   "metadata": {},
   "outputs": [],
   "source": [
    "x = np.arange(1, 6)\n",
    "np.add.reduce(x)"
   ]
  },
  {
   "cell_type": "markdown",
   "metadata": {},
   "source": [
    "De manera similar, llamar a `reduce` en `multiply` da como resultado el producto de todos los elementos de la matriz:"
   ]
  },
  {
   "cell_type": "code",
   "execution_count": null,
   "metadata": {},
   "outputs": [],
   "source": [
    "np.multiply.reduce(x)"
   ]
  },
  {
   "cell_type": "markdown",
   "metadata": {},
   "source": [
    "Si quisiéramos almacenar todos los resultados intermedios del cómputo, podemos usar `accumulate` en su lugar:"
   ]
  },
  {
   "cell_type": "code",
   "execution_count": null,
   "metadata": {},
   "outputs": [],
   "source": [
    "np.add.accumulate(x)"
   ]
  },
  {
   "cell_type": "code",
   "execution_count": null,
   "metadata": {},
   "outputs": [],
   "source": [
    "np.multiply.accumulate(x)"
   ]
  },
  {
   "cell_type": "markdown",
   "metadata": {},
   "source": [
    "Tenga en cuenta que para estos casos particulares, existen funciones `NumPy` dedicadas para calcular los resultados (`np.sum`, `np.prod`, `np.cumsum`, `np.cumprod`)."
   ]
  },
  {
   "cell_type": "markdown",
   "metadata": {},
   "source": [
    "# 3. Ordenamiento de arreglos\n",
    "Hasta este punto, nos hemos preocupado principalmente por las herramientas para acceder y operar en datos de matriz con `NumPy`. Esta sección cubre algoritmos relacionados con ordenamiento de valores en matrices `NumPy`.\n",
    "Aunque `Python` tiene funciones integradas de ordenamiento con listas, no las discutiremos aquí porque la función `np.sort` de `NumPy` resulta ser mucho más eficiente y útil para nuestros propósitos. Por defecto, `np.sort` usa un algoritmo *quicksort* $\\mathcal{O}(n\\log{}n)$, aunque también están disponibles *mergesort* y *heapsort*. Para la mayoría de las aplicaciones, la ordenación rápida predeterminada es más que suficiente.\n",
    "\n",
    "Para devolver una versión ordenada de la matriz sin modificar la entrada, puede usar `np.sort`:"
   ]
  },
  {
   "cell_type": "code",
   "execution_count": null,
   "metadata": {},
   "outputs": [],
   "source": [
    "x = np.array([2, 1, 4, 3, 5])\n",
    "np.sort(x)"
   ]
  },
  {
   "cell_type": "markdown",
   "metadata": {},
   "source": [
    "Una función relacionada es `np.argsort`, que en su lugar devuelve los índices de los elementos ordenados:"
   ]
  },
  {
   "cell_type": "code",
   "execution_count": null,
   "metadata": {},
   "outputs": [],
   "source": [
    "i = np.argsort(x)\n",
    "print(i)"
   ]
  },
  {
   "cell_type": "markdown",
   "metadata": {},
   "source": [
    "El primer elemento de este resultado da el índice del elemento más pequeño, el segundo valor da el índice del segundo más pequeño y así sucesivamente. Estos índices se pueden usar (a través de una indexación elegante) para construir la matriz ordenada si se desea:"
   ]
  },
  {
   "cell_type": "code",
   "execution_count": null,
   "metadata": {},
   "outputs": [],
   "source": [
    "x[i]"
   ]
  },
  {
   "cell_type": "markdown",
   "metadata": {},
   "source": [
    "## 3.1 Ordenamiento de filas y columnas\n",
    "Una característica útil de los algoritmos de ordenamiento de `NumPy` es la capacidad de ordenar filas o columnas específicas de una matriz multidimensional utilizando el argumento `axis`. Por ejemplo:"
   ]
  },
  {
   "cell_type": "code",
   "execution_count": null,
   "metadata": {},
   "outputs": [],
   "source": [
    "rand = np.random.RandomState(42)\n",
    "X = rand.randint(0, 10, (4, 6))\n",
    "print(X)"
   ]
  },
  {
   "cell_type": "code",
   "execution_count": null,
   "metadata": {},
   "outputs": [],
   "source": [
    "np.sort(X, axis=0)"
   ]
  },
  {
   "cell_type": "code",
   "execution_count": null,
   "metadata": {},
   "outputs": [],
   "source": [
    "np.sort(X, axis=1)"
   ]
  },
  {
   "cell_type": "markdown",
   "metadata": {},
   "source": [
    "Tenga en cuenta que esto trata cada fila o columna como una matriz independiente, y se perderá cualquier relación entre los valores de fila o columna."
   ]
  },
  {
   "cell_type": "markdown",
   "metadata": {},
   "source": [
    "# Mini _challenge_ 11\n",
    "\n",
    "### Para todos los puntos de este Mini challenge debe hacer uso de métodos y funciones de `Numpy`.\n",
    "\n",
    "1. Escriba un programa para generar un vector de $N$ números aleatorios a partir de una distribución normal estándar, usando una precisión de dos cifras decimales. Luego, estos números se deben poner sobre la diagonal de una matriz $N \\times N$, cuyos elementos por fuera de esta son todos cero.\n",
    "\n",
    "    Por ejemplo, si se generan $N = 4$ números:\n",
    "\n",
    "    <tt>0.42, 1.81, 0.36, -0.41</tt>\n",
    "\n",
    "    La matriz debe ser:\n",
    "    \n",
    "    $\\begin{matrix} 0.42 & 0 & 0 & 0 \\\\\n",
    "    0 & 1.81 & 0 & 0 \\\\\n",
    "    0 & 0 & 0.36 & 0 \\\\\n",
    "    0 & 0 & 0 & -0.41 \\end{matrix}$\n",
    "\n",
    "    &nbsp;\n",
    "2. Escriba un programa para crear una matriz de $10\\times 10$, en la que los elementos en los bordes sean iguales a un número especificado por el usuario y los interiores iguales a 0.\n",
    "\n",
    "    Por ejemplo, si el número ingresado es 10, la salida bede ser\n",
    "    \n",
    "    <tt>\n",
    "    [[ 10.  10.  10.  10.  10.  10.  10.  10.  10.  10.]<br>\n",
    "     [ 10.  0.  0.  0.  0.  0.  0.  0.  0.  10.]<br>\n",
    "     [ 10.  0.  0.  0.  0.  0.  0.  0.  0.  10.]<br>\n",
    "     [ 10.  0.  0.  0.  0.  0.  0.  0.  0.  10.]<br>\n",
    "     [ 10.  0.  0.  0.  0.  0.  0.  0.  0.  10.]<br>\n",
    "     [ 10.  0.  0.  0.  0.  0.  0.  0.  0.  10.]<br>\n",
    "     [ 10.  0.  0.  0.  0.  0.  0.  0.  0.  10.]<br>\n",
    "     [ 10.  0.  0.  0.  0.  0.  0.  0.  0.  10.]<br>\n",
    "     [ 10.  0.  0.  0.  0.  0.  0.  0.  0.  10.]<br>\n",
    "     [ 10.  10.  10.  10.  10.  10.  10.  10.  10.  10.]]\n",
    "    </tt>\n",
    "    \n",
    "    &nbsp;\n",
    "3. Escriba un programa que calcule un promedio ponderado de 15 números. Para esto deberá crear dos arreglos, `valores` en el que se especifican los números a ponderar y `pesos` en el que se especifica la importancia de cada número. Tenga en cuenta que para el cáalculo, `pesos` debe estar normalizado, es decir, la suma de todos sus elementos es 1. Por ejemplo, si los valores a ponderar son notas, es decir, se desea calcular promedio crédito, `pesos` tiene la información de los créditos asociados a cada nota y se divide por el total de créditos. Un ejemplo, con solo tres valores, sería:\n",
    "\n",
    "   `valores = [4, 5, 3]`\n",
    "    \n",
    "   `pesos = [2, 1, 2]`\n",
    "\n",
    "    El valor de `pesos` final deberá ser:\n",
    "        \n",
    "    `pesos = [0.4, 0.2, 0.4]`\n",
    "        \n",
    "    Y el promedio ponderado será `3.8`\n",
    "## Condiciones de entrega\n",
    "Para este Mini *challenge* se debe hacer entrega, a través del aula digital, de un archivo IPYNB con las soluciones a los problemas y que cuente con lo siguiente:\n",
    "- Un primer bloque en Markdown a manera de portada, con la siguiente información centrada:\n",
    "    * Identificación del curso\n",
    "    * Nombre del estudiante\n",
    "    * Identificación del mini *challenge*\n",
    "    * Fecha\n",
    "- Presentación de cada ejercicio en celda Markdown\n",
    "- Celdas ejecutables con los problemas desarrollados"
   ]
  },
  {
   "cell_type": "markdown",
   "metadata": {},
   "source": [
    "<img src=\"Images/by_nc_sa.svg\" style=\"float:left;width: 50px;\"/> &nbsp; El material de este curso está bajo una licencia Creative Commons [Atribución-NoComercial-CompartirIgual 4.0 Internacional](LICENSE.MD) (CC BY-NC-SA 4.0)\n",
    "Este *Notebook* está parcialmente basado en el material complementario del libro [Python Data Science Handbook](https://www.oreilly.com/library/view/python-data-science/9781491912126/) disponible en [GitHub](https://github.com/jakevdp/PythonDataScienceHandbook)."
   ]
  }
 ],
 "metadata": {
  "kernelspec": {
   "display_name": "Python 3 (ipykernel)",
   "language": "python",
   "name": "python3"
  },
  "language_info": {
   "codemirror_mode": {
    "name": "ipython",
    "version": 3
   },
   "file_extension": ".py",
   "mimetype": "text/x-python",
   "name": "python",
   "nbconvert_exporter": "python",
   "pygments_lexer": "ipython3",
   "version": "3.11.3"
  },
  "latex_envs": {
   "LaTeX_envs_menu_present": true,
   "autocomplete": true,
   "bibliofile": "biblio.bib",
   "cite_by": "apalike",
   "current_citInitial": 1,
   "eqLabelWithNumbers": true,
   "eqNumInitial": 1,
   "hotkeys": {
    "equation": "Ctrl-E",
    "itemize": "Ctrl-I"
   },
   "labels_anchors": false,
   "latex_user_defs": false,
   "report_style_numbering": true,
   "user_envs_cfg": true
  },
  "toc": {
   "base_numbering": 1,
   "nav_menu": {},
   "number_sections": true,
   "sideBar": true,
   "skip_h1_title": true,
   "title_cell": "Tabla de Contenidos",
   "title_sidebar": "Contenidos",
   "toc_cell": true,
   "toc_position": {
    "height": "calc(100% - 180px)",
    "left": "10px",
    "top": "150px",
    "width": "165px"
   },
   "toc_section_display": true,
   "toc_window_display": true
  }
 },
 "nbformat": 4,
 "nbformat_minor": 4
}
