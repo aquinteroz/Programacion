{
 "cells": [
  {
   "cell_type": "markdown",
   "metadata": {
    "slideshow": {
     "slide_type": "notes"
    }
   },
   "source": [
    "<h1 align=\"center\">Programación &#8212; PRE2013A45</h1>\n",
    "<h3 align=\"center\">Docente: Andrés Quintero Zea, PhD.</h3>\n",
    "<h3 align=\"center\">e-mail: andres.quintero27@eia.edu.co</h3>\n",
    "<h3 align=\"center\">Semana 04: Control de flujo repetitivo</h3>"
   ]
  },
  {
   "cell_type": "markdown",
   "metadata": {},
   "source": [
    "La estructura repetitiva (o iterativa) es la otra estructura de control de flujo fundamental, conocida también por el nombre de **bucles** (*loops*). \n",
    "\n",
    "El **control de flujo repetitivo** permite resolver cómodamente una situación frecuente en todo tipo de algoritmos: es necesario ejecutar un conjunto de sentencias una y otra vez.\n",
    "\n",
    "Existen fundamentalmente dos tipos de estructuturas iterativas:\n",
    "* Ciclos controlados por condiciones\n",
    "* Ciclos controlados por contadores\n",
    "\n",
    "# 1. Ciclo `while`\n",
    "\n",
    "El ciclo `while` ejecuta un bloque de instrucciones mientras haya una condición que se cumpla. La sintaxis de `while` es: \n",
    "\n",
    "```Python\n",
    "while condición:\n",
    "    código\n",
    "```\n",
    "\n",
    "Donde `condición` es un valor de tipo booleano que usualmente resulta de realizar una comparación. Si la **condición lógica** o **expresión de control** se evalúa como `True`, se ejecuta el bloque de sentencias, *regresando* de nuevo a la sentencia `while`. Así, de forma iterada, hasta que la condición lógica asociada al `while` se evalúe como `False`."
   ]
  },
  {
   "cell_type": "code",
   "execution_count": 1,
   "metadata": {},
   "outputs": [
    {
     "name": "stdout",
     "output_type": "stream",
     "text": [
      "1\n",
      "2\n",
      "3\n",
      "4\n"
     ]
    }
   ],
   "source": [
    "x = 1\n",
    "while x < 5:\n",
    "    print(x)\n",
    "    x += 1"
   ]
  },
  {
   "cell_type": "markdown",
   "metadata": {},
   "source": [
    "En el código anterior, inicialmente `x` tiene un valor de 1, el flujo del programa *entra* en el ciclo while, puesto que la condición se cumple (dado que en ese momento `1 < 5`), posteriormente se ejecutan de manera repetitiva las instrucciones que están dentro del ciclo while, hasta que `x = 5`. La instrucción `x += 1` suma 1 al valor de `x` en cada iteración.\n",
    "El ciclo `while` suele ser muy utilizado en métodos numéricos, donde el número de iteraciones requeridas puede establecerse por el usuario de manera directa o bien mediante la indicación de una tolerancia.\n",
    "\n",
    "Se debe comprender que, si la condición de control del bucle se evalúa inicialmente como `False`, las sentencias afectadas por el bucle no serán ejecutadas ni siquiera una vez. Por tanto, en el momento en que se realiza la programación, el número de veces que se repite un bucle `while` ¡no puede saberse de antemano!"
   ]
  },
  {
   "cell_type": "code",
   "execution_count": 2,
   "metadata": {},
   "outputs": [
    {
     "name": "stdin",
     "output_type": "stream",
     "text": [
      "Introduzca el mes del año (entre 1 y 12):  13\n"
     ]
    },
    {
     "name": "stdout",
     "output_type": "stream",
     "text": [
      "Mes introducido incorrecto. Inténtelo de nuevo.\n"
     ]
    },
    {
     "name": "stdin",
     "output_type": "stream",
     "text": [
      "Introduzca el mes del año (entre 1 y 12): -23\n"
     ]
    },
    {
     "name": "stdout",
     "output_type": "stream",
     "text": [
      "Mes introducido incorrecto. Inténtelo de nuevo.\n"
     ]
    },
    {
     "name": "stdin",
     "output_type": "stream",
     "text": [
      "Introduzca el mes del año (entre 1 y 12): 5\n"
     ]
    },
    {
     "name": "stdout",
     "output_type": "stream",
     "text": [
      "El mes 5 es válido.\n"
     ]
    }
   ],
   "source": [
    "# Un ciclo para garantizar que el mes introducido es correcto\n",
    "\n",
    "mes = int(input(\"Introduzca el mes del año (entre 1 y 12): \"))\n",
    "\n",
    "while mes > 12 or mes < 1:\n",
    "    print(\"Mes introducido incorrecto. Inténtelo de nuevo.\")\n",
    "    mes = int(input(\"Introduzca el mes del año (entre 1 y 12):\"))\n",
    "\n",
    "print(f'El mes {mes} es válido.')"
   ]
  },
  {
   "cell_type": "markdown",
   "metadata": {},
   "source": [
    "Así, en el ejemplo anterior puede ocurrir: \n",
    "* que no se ejecute el cuerpo del `while` ninguna vez, si el usuario introduce un mes correcto desde el inicio\n",
    "* que se ejecute un número arbitrariamente alto, que dependerá de la mucha o poca *habilidad* del usuario en seguir correctamente las instrucciones que se le dan\n",
    "\n",
    "El ciclo `while` suele ser muy utilizado en **métodos numéricos**, donde el número de iteraciones requeridas puede establecerse por el usuario de manera directa o bien mediante la indicación de una tolerancia.\n",
    "\n",
    "Por ejemplo, el [método de Newton](https://es.wikipedia.org/wiki/M%C3%A9todo_de_Newton) es un algoritmo que se utiliza para aproximar  raíces de una función real. Este método se puede establecer como sigue: \n",
    "\n",
    "> Sea $f$ una función real derivable, y sea r un cero real de $f$. Si $x_n$ es una aproximación a $r$, \n",
    "> entonces la siguiente aproximación $x_{n+1}$ está dada por:\n",
    ">\n",
    "> $$ x_{n+1} = x_n - \\frac{ f(x_n) }{ f'(x_n) } $$\n",
    ">\n",
    "> Donde $ f' $ denota la derivada de $ f $.\n",
    "\n",
    "Vamos a aproximar una de las raíces de la función $ f(x) =  x^3 - 5x^2 + 3$, para ello necesitamos conocer también la derivada de esta función, derivando se tiene que $f'(x) = 3x^2 - 10x$. Observe el siguiente código implementado:"
   ]
  },
  {
   "cell_type": "code",
   "execution_count": 5,
   "metadata": {},
   "outputs": [
    {
     "name": "stdout",
     "output_type": "stream",
     "text": [
      "N = 1 | xn = 4.95238095\n",
      "N = 2 | xn = 4.87621651\n",
      "N = 3 | xn = 4.87370260\n",
      "N = 4 | xn = 4.87369990\n",
      "N = 5 | xn = 4.87369990\n"
     ]
    }
   ],
   "source": [
    "# El uso de funciones LAMBDA lo veremos luego\n",
    "f = lambda x: x**3 - 5*x**2 + 3 # función f\n",
    "fp = lambda x: 3*x**2 - 10*x # derivada de la función f'\n",
    "num_iter = 5 # número de iteraciones\n",
    "k_iter = 0 # contador de iteraciones\n",
    "xn = 4.5 # valor inicial\n",
    "\n",
    "while k_iter < num_iter:\n",
    "    xnm1 = xn - ( f(xn) / fp(xn) )\n",
    "    xn = xnm1\n",
    "    k_iter = k_iter + 1\n",
    "    print(f\"N = {k_iter} | xn = {xn:0.8f}\")"
   ]
  },
  {
   "cell_type": "markdown",
   "metadata": {},
   "source": [
    "En el ejemplo anterior `f` y `fp` se definen como funciones `lambda` de las expresiones correspondientes a la función y su derivada, respectivamente. En la variable `num_iter` establecemos el número de iteraciones a realizar, la variable `k_iter` funciona como un contador de iteraciones y en `xn` se guarda el valor inicial y, posteriormente, cada una de las aproximaciones realizadas.\n",
    "\n",
    "## 1.1 Ciclos infinitos y sentencia `break`\n",
    "En muchas ocasiones resulta conveniente salir de un ciclo, no mediante la evaluación a `False` de la expresión de control, sino desde dentro del bucle utilizando un `if` junto con la sentencia `break` de **salto incondicional**."
   ]
  },
  {
   "cell_type": "code",
   "execution_count": 6,
   "metadata": {},
   "outputs": [
    {
     "name": "stdout",
     "output_type": "stream",
     "text": [
      "¡Bienvenido a Adivina el Número!\n"
     ]
    },
    {
     "name": "stdin",
     "output_type": "stream",
     "text": [
      "Ingrese un entero entre 1 y 10:  3\n"
     ]
    },
    {
     "name": "stdout",
     "output_type": "stream",
     "text": [
      "3 no es el número, intenta nuevamente\n",
      "\n"
     ]
    },
    {
     "name": "stdin",
     "output_type": "stream",
     "text": [
      "Ingrese un entero entre 1 y 10:  5\n"
     ]
    },
    {
     "name": "stdout",
     "output_type": "stream",
     "text": [
      "5 no es el número, intenta nuevamente\n",
      "\n"
     ]
    },
    {
     "name": "stdin",
     "output_type": "stream",
     "text": [
      "Ingrese un entero entre 1 y 10:  7\n"
     ]
    },
    {
     "name": "stdout",
     "output_type": "stream",
     "text": [
      "7 no es el número, intenta nuevamente\n",
      "\n"
     ]
    },
    {
     "name": "stdin",
     "output_type": "stream",
     "text": [
      "Ingrese un entero entre 1 y 10:  8\n"
     ]
    },
    {
     "name": "stdout",
     "output_type": "stream",
     "text": [
      "8 no es el número, intenta nuevamente\n",
      "\n"
     ]
    },
    {
     "name": "stdin",
     "output_type": "stream",
     "text": [
      "Ingrese un entero entre 1 y 10:  4\n"
     ]
    },
    {
     "name": "stdout",
     "output_type": "stream",
     "text": [
      "Has adivinado después de 5 intentos\n"
     ]
    }
   ],
   "source": [
    "from random import randint\n",
    "\n",
    "print(\"¡Bienvenido a Adivina el Número!\")\n",
    "n = randint(1,10) # Genera un entero aleatorio en el intervalo [1,10]\n",
    "k = 1 # número de intentos\n",
    "\n",
    "while True:\n",
    "    x = int( input(\"Ingrese un entero entre 1 y 10: \") )\n",
    "    if x == n:\n",
    "        print(f\"Has adivinado después de {k} intentos\")\n",
    "        break\n",
    "    else:\n",
    "        print(f\"{x} no es el número, intenta nuevamente\\n\")\n",
    "    k = k + 1"
   ]
  },
  {
   "cell_type": "markdown",
   "metadata": {},
   "source": [
    "El código anterior es un juego muy simple de adivinar un número entero entre 1 y 10 que la computadora genera de manera aleatoria mediante la función `randint`. Observa que el ciclo `while`, en principio, se ejecutará de forma indefinida, dado que la condición es la constante booleana `True`; en este caso para *romper* la ejecución iterativa se hace uso de la instrucción `break`, en conjunto con la sentencia de selección `if-else`, observa que si la condición del `if` se cumple (`x == n`) entonces el programa rompe el ciclo `while` con la instrucción `break`, en caso contrario simplemente se sigue ejecutando el juego.\n",
    "\n",
    "# 2. Ciclo `for`\n",
    "El ciclo `for` es una estructura de control de repetición, en la cual se conocen *a priori* el número de iteraciones a realizar. En lenguajes como **C++**  o **Java**, el ciclo `for` necesita de una variable de ciclo de tipo entero que irá incrementándose en cada iteración. En **Python**, la cuestión es un poco diferente, el ciclo `for` *recorre* una secuencia y en la *k*-ésima iteración la variable de ciclo *adopta* el valor del elemento en la *k*-ésima posición del iterable. Un iterable es un objeto que es similar a una lista y contiene una secuencia de valores que se pueden iterar.\n",
    "\n",
    "De manera general, la sintaxis de `for` es:\n",
    "\n",
    "```python\n",
    "for var in secuencia:\n",
    "    código\n",
    "```\n",
    "\n",
    "Donde `var` es la **variable de ciclo** o **variable de control** y `secuencia` la secuencia de valores que deberá iterarse. Es necesario remarcar la importancia de los dos puntos al final de esta primera línea y en indentar el bloque de código subsecuente que definirá el cuerpo del ciclo `for`.\n",
    "\n",
    "Como primer ejemplo vamos a recorrer una lista de números y mostrarlos por consola:"
   ]
  },
  {
   "cell_type": "code",
   "execution_count": 7,
   "metadata": {},
   "outputs": [
    {
     "name": "stdout",
     "output_type": "stream",
     "text": [
      "18\n",
      "50\n",
      "90\n",
      "-20\n",
      "100\n",
      "80\n",
      "37\n"
     ]
    }
   ],
   "source": [
    "numeros = [18, 50, 90, -20, 100, 80, 37]\n",
    "for n in numeros:\n",
    "    print(n)"
   ]
  },
  {
   "cell_type": "markdown",
   "metadata": {},
   "source": [
    "Observe que en cada iteración la variable de ciclo `n` adopta el valor de cada uno de los elementos de la \n",
    "lista `numeros`.\n",
    "\n",
    "Como ya se mencionó, en `Python` la variable de ciclo no necesariamente adopta valores numéricos enteros secuenciales, \n",
    "si no valores dentro de una secuencia. Esta secuencia podría ser también una cadena de caracteres, por ejemplo:"
   ]
  },
  {
   "cell_type": "code",
   "execution_count": 8,
   "metadata": {
    "scrolled": true
   },
   "outputs": [
    {
     "name": "stdout",
     "output_type": "stream",
     "text": [
      "P\n",
      "y\n",
      "t\n",
      "h\n",
      "o\n",
      "n\n"
     ]
    }
   ],
   "source": [
    "palabra = 'Python'\n",
    "for letra in palabra:\n",
    "    print(letra)"
   ]
  },
  {
   "cell_type": "markdown",
   "metadata": {},
   "source": [
    "En `Python` también se puede iterar sobre una lista de palabras, así:"
   ]
  },
  {
   "cell_type": "code",
   "execution_count": 9,
   "metadata": {
    "scrolled": true
   },
   "outputs": [
    {
     "name": "stdout",
     "output_type": "stream",
     "text": [
      "Siguiente paciente: Andrés\n",
      "Siguiente paciente: Camila\n",
      "Siguiente paciente: Martín\n"
     ]
    }
   ],
   "source": [
    "names = ['Andrés','Camila','Martín']\n",
    "\n",
    "for name in names:\n",
    "    print(f'Siguiente paciente: {name}')"
   ]
  },
  {
   "cell_type": "markdown",
   "metadata": {},
   "source": [
    "## 2.1 Función `range`\n",
    "\n",
    "`Python` proporciona una función integrada llamada `range` que simplifica el proceso de escribir un ciclo `for` controlado por conteo, ya que crea un iterable entero con condiciones específicas.\n",
    "\n",
    "<div class=\"alert alert-block alert-info\"> <b>NOTA:</b> La función <tt>range</tt> devuelve <b>de forma predeterminada</b> una secuencia de números que comienza en 0, con incrementos de 1  y se detiene antes de un número específico.</div>"
   ]
  },
  {
   "cell_type": "code",
   "execution_count": 18,
   "metadata": {},
   "outputs": [
    {
     "name": "stdout",
     "output_type": "stream",
     "text": [
      "1\n",
      "3\n",
      "5\n",
      "7\n",
      "9\n"
     ]
    }
   ],
   "source": [
    "for idx in range(1,11,2):\n",
    "    print(idx)"
   ]
  },
  {
   "cell_type": "markdown",
   "metadata": {},
   "source": [
    "La función `range` permite modificaciones haciendo uso de dos parámetros opcionales, así:\n",
    "```Python\n",
    "range(start, stop, step)\n",
    "```\n",
    "\n",
    "|**Parámetro**|**Descripción**|\n",
    "|:-------:|:-----------|\n",
    "|`start`|**Opcional.** Un número entero que especifica en qué posición comenzar. El valor predeterminado es 0|\n",
    "|`stop`|**Requerido.** Un número entero que especifica en qué posición detenerse (no incluido).|\n",
    "|`step`|**Opcional.** Un número entero que especifica el incremento. El valor predeterminado es 1|"
   ]
  },
  {
   "cell_type": "code",
   "execution_count": null,
   "metadata": {
    "scrolled": true
   },
   "outputs": [],
   "source": [
    "for i in range(5, 20, 2):\n",
    "    print(i)"
   ]
  },
  {
   "cell_type": "markdown",
   "metadata": {},
   "source": [
    "Se pueden generar también secuencias inversas, empezando por un número mayor y terminando en uno menor, pero para ello el salto deberá ser negativo."
   ]
  },
  {
   "cell_type": "code",
   "execution_count": 20,
   "metadata": {
    "scrolled": true
   },
   "outputs": [
    {
     "name": "stdout",
     "output_type": "stream",
     "text": [
      "5\n",
      "4\n",
      "3\n",
      "2\n",
      "1\n",
      "0\n"
     ]
    }
   ],
   "source": [
    "for i in range (5, -1, -1):\n",
    "    print(i)"
   ]
  },
  {
   "cell_type": "markdown",
   "metadata": {},
   "source": [
    "## 2.2 Uso del iterable en cálculos internos del ciclo\n",
    "En un ciclo for, el propósito de la variable de destino es hacer referencia a cada elemento en una secuencia de elementos a medida que el ciclo itera. En muchas situaciones, es útil usar la variable de destino en un cálculo u otra tarea dentro del cuerpo del bucle. Por ejemplo, suponga que necesita escribir un programa que convierta la velocidad en kilómetros por hora en millas por hora, sabiendo que $\\text{v}_{mph} = 0.6214 \\text{v}_{kph}$."
   ]
  },
  {
   "cell_type": "code",
   "execution_count": 21,
   "metadata": {
    "scrolled": true
   },
   "outputs": [
    {
     "name": "stdout",
     "output_type": "stream",
     "text": [
      "      KPH             MPH      \n",
      "  ----------      ----------   \n",
      "      10       \t     6.21      \n",
      "      20       \t     12.43     \n",
      "      30       \t     18.64     \n",
      "      40       \t     24.86     \n",
      "      50       \t     31.07     \n",
      "      60       \t     37.28     \n",
      "      70       \t     43.50     \n",
      "      80       \t     49.71     \n",
      "      90       \t     55.93     \n",
      "      100      \t     62.14     \n",
      "      110      \t     68.35     \n",
      "      120      \t     74.57     \n",
      "      130      \t     80.78     \n"
     ]
    }
   ],
   "source": [
    "START_SPEED = 10\n",
    "END_SPEED = 131\n",
    "INCREMENT = 10\n",
    "CONVERSION_FACTOR = 0.6214\n",
    "\n",
    "print(f\"{'KPH':^15} {'MPH':^15}\")\n",
    "print(f\"{'----------':^15} {'----------':^15}\")\n",
    "\n",
    "for kph in range(START_SPEED, END_SPEED, INCREMENT): \n",
    "    mph = kph * CONVERSION_FACTOR\n",
    "    print(f'{kph:^15}\\t{mph:^15.2f}') "
   ]
  },
  {
   "cell_type": "markdown",
   "metadata": {},
   "source": [
    "# 3. Los operadores de asignación aumentada\n",
    "Muy a menudo, los programas tienen sentencias de asignación en las que la variable que está a la izquierda del operador `=` también aparece a la derecha del operador `=`, por ejemplo `x = x + 1`. Este tipo de operaciones son comunes en la programación. Para mayor comodidad, `Python` ofrece un conjunto especial de operadores diseñados específicamente para estos trabajos.\n",
    "\n",
    "\n",
    "| Operador | Ejemplo | Uso equivalente |\n",
    "|:--------:|:-------:|:---------------:|\n",
    "| `+=`       |`x += 5`   | `x = x + 5`       |\n",
    "| `−=`       |`y −= 2`   |`y = y − 2`\n",
    "| `*`       |`z *= 10`|`z = z * 10`|\n",
    "|`/=`         |`a /= b`    |`a = a / b`|\n",
    "|`%=`|`c %= 3`|`c = c % 3`|\n",
    "|`//=`|`x //= 3`|`x = x // 3`|\n",
    "|`**=`|`y **= 2`|`y = y**2`"
   ]
  },
  {
   "cell_type": "code",
   "execution_count": 22,
   "metadata": {},
   "outputs": [
    {
     "name": "stdin",
     "output_type": "stream",
     "text": [
      "Diga cuantos números reales quiere sumar:  4\n",
      "Deme el valor real 0 a sumar:  6\n",
      "Deme el valor real 1 a sumar:  9\n",
      "Deme el valor real 2 a sumar:  7\n",
      "Deme el valor real 3 a sumar:  4\n"
     ]
    },
    {
     "name": "stdout",
     "output_type": "stream",
     "text": [
      "La suma de los 4 números introducidos es 26.0\n"
     ]
    }
   ],
   "source": [
    "num_valores = int(input(\"Diga cuantos números reales quiere sumar: \"))\n",
    "\n",
    "suma = 0.0\n",
    "for i in range(num_valores):\n",
    "    valor = float(input(f'Deme el valor real {i} a sumar: '))\n",
    "    suma += valor\n",
    "\n",
    "if num_valores > 0:\n",
    "    print(f'La suma de los {num_valores} números introducidos es {suma}')\n",
    "else:\n",
    "    print(\"El usuario no introdujo ningún valor.\")"
   ]
  },
  {
   "cell_type": "markdown",
   "metadata": {},
   "source": [
    "## 4.  Listas por comprensión\n",
    "En `Python`, un uso *pythonic* del ciclo `for` es transformar una lista en otra. Las **listas por comprensión** son una forma compacta de lograr el mismo efecto en una única línea.\n",
    "\n",
    "Supongamos un sencillo ejemplo en el que deseamos obtener una lista de los residuos de los números el 1 al 10. Una solución con un bucle `for` sería la siguiente:"
   ]
  },
  {
   "cell_type": "code",
   "execution_count": 23,
   "metadata": {},
   "outputs": [
    {
     "name": "stdout",
     "output_type": "stream",
     "text": [
      "[1, 8, 27, 64, 125, 216, 343, 512, 729, 1000]\n"
     ]
    }
   ],
   "source": [
    "cubos = []\n",
    "for x in range(1,11):\n",
    "    cubos.append(x**3)\n",
    "\n",
    "print(cubos)"
   ]
  },
  {
   "cell_type": "markdown",
   "metadata": {},
   "source": [
    "Este mismo resultado podríamos obtenerlo con una **lista por comprensión** mediante el siguiente fragmento de código:"
   ]
  },
  {
   "cell_type": "code",
   "execution_count": 24,
   "metadata": {},
   "outputs": [
    {
     "name": "stdout",
     "output_type": "stream",
     "text": [
      "[1, 8, 27, 64, 125, 216, 343, 512, 729, 1000]\n"
     ]
    }
   ],
   "source": [
    "a = [x**3 for x in range(1,11)]\n",
    "print(a)"
   ]
  },
  {
   "cell_type": "markdown",
   "metadata": {},
   "source": [
    "Las listas por comprensión también se pueden crear mezclando el ciclo `for` con una estrutura `if`. Por ejemplo, si solo queremos los cubos de los números múltiplos de 3 entre 1 y 10, se puede escribir lo siguiente:"
   ]
  },
  {
   "cell_type": "code",
   "execution_count": 28,
   "metadata": {},
   "outputs": [
    {
     "name": "stdout",
     "output_type": "stream",
     "text": [
      "[27, 216, 729]\n"
     ]
    }
   ],
   "source": [
    "a = [x**3 for x in range(1,11) if x % 3 == 0]\n",
    "print(a)"
   ]
  },
  {
   "cell_type": "markdown",
   "metadata": {},
   "source": [
    "Otro uso de las listas por comprensión es cuando se requiere la introducción de varios datos por parte de un usuario. Imaginemos que solicitamos la introducción de una serie de valores de una lista de `float` separados por espacios en blanco o por comas:"
   ]
  },
  {
   "cell_type": "code",
   "execution_count": 33,
   "metadata": {},
   "outputs": [
    {
     "name": "stdin",
     "output_type": "stream",
     "text": [
      "Introduzca valores separados por comas:  1\n"
     ]
    },
    {
     "name": "stdout",
     "output_type": "stream",
     "text": [
      "['1']\n"
     ]
    }
   ],
   "source": [
    "lista = [float(x) for x in input('Introduzca valores separados por comas: ').split(sep=',')]\n",
    "print(lista)"
   ]
  },
  {
   "cell_type": "code",
   "execution_count": 37,
   "metadata": {},
   "outputs": [
    {
     "name": "stdout",
     "output_type": "stream",
     "text": [
      "[0.0, 0.2, 0.4, 0.6, 0.8, 1.0]\n"
     ]
    }
   ],
   "source": [
    "#Lista por comprensión de números del 0 al 1, con pasos de 0.1 \n",
    "numeros = [x/10 for x in range(0,11,2)]\n",
    "print(numeros)"
   ]
  },
  {
   "cell_type": "markdown",
   "metadata": {},
   "source": [
    "## 5. Uso de `else` en estructuras repetitivas\n",
    "En `Python`, los ciclos `while` y `for` pueden tener una cláusula `else` opcional.\n",
    "\n",
    "```Python\n",
    "while condition:\n",
    "    código 1\n",
    "else:\n",
    "    código 2\n",
    "\n",
    "for var in secuencia\n",
    "    código 1\n",
    "else:\n",
    "    código 2\n",
    "```\n",
    "\n",
    "Una cláusula `else` en un ciclo es útil **solo cuando** el ciclo contiene una declaración `break`. Esto se debe a que el bloque de sentencias que aparece después de la cláusula `else` se ejecuta solo cuando el ciclo termina normalmente, sin encontrar una sentencia `break`. Si el ciclo termina debido a una sentencia `break`, la cláusula `else` no ejecutará su bloque de sentencias."
   ]
  },
  {
   "cell_type": "code",
   "execution_count": 39,
   "metadata": {},
   "outputs": [
    {
     "name": "stdout",
     "output_type": "stream",
     "text": [
      "0\n",
      "1\n",
      "2\n",
      "3\n",
      "No se interrumió el ciclo, idx vale 3\n"
     ]
    }
   ],
   "source": [
    "for idx in range(4):\n",
    "    if idx == 5:\n",
    "        print('Se interrumpió el ciclo')\n",
    "        break\n",
    "    print(idx)\n",
    "else:\n",
    "    print(f'No se interrumió el ciclo, idx vale {idx}')"
   ]
  },
  {
   "cell_type": "markdown",
   "metadata": {},
   "source": [
    "# Mini _challenge_ 4\n",
    "\n",
    "1. Escriba un programa que utilice ciclos anidados para recopilar datos y calcular la precipitación promedio durante un período de años. El programa primero debe preguntar por el número de años. El ciclo externo iterará una vez por cada año. El ciclo interno iterará doce veces, una vez por cada mes. Cada iteración del ciclo interno le pedirá al usuario los milímetros de lluvia para ese mes. Después de todas las iteraciones, el programa debe mostrar el número de meses, el total de milímetros de lluvia y el promedio de lluvia por mes durante todo el período.\n",
    "\n",
    "2. Escriba un programa que prediga el tamaño aproximado de una población de organismos. La aplicación debe solicitar al usuario que ingrese el número inicial de organismos, el aumento diario promedio de la población (como porcentaje) y el número de días que los organismos tendrán que multiplicarse. Por ejemplo, suponga que el usuario ingresa los siguientes valores: \n",
    "    - Número inicial de organismos: 2 \n",
    "    - Incremento diario promedio: 30% \n",
    "    - Número de días para multiplicar: 10 \n",
    "   \n",
    "   El programa debe mostrar la siguiente tabla de datos:\n",
    "    \n",
    "|Día|Población aproximada|\n",
    "|:-----:|:-----------------------:|\n",
    "|1|2.00|\n",
    "|2|2.60|\n",
    "|3|3.38|\n",
    "|4|4.39|\n",
    "|5|5.71|\n",
    "|6|7.43|\n",
    "|7|9.65|\n",
    "|8|12.55|\n",
    "|9|16.31|\n",
    "|10|21.21|\n",
    "\n",
    "3. Escriba un programa que implemente el juego de **Punto y Fama**, que consiste en adivinar las cifras, y su posición, de un número entero de cuatro dígitos **únicos**, generado de manera aleatoria. El usuario tiene **diez** intentos para lograrlo y el juego provee pistas al jugador en cada intento, denominados **Puntos** y **Famas**. Las pistas no son suministradas en un orden específico, por ende el usuario no sabe cuál de los números introducidos es punto o fama. Una fama corresponde a una cifra correcta y en la posición corecta. Un punto corresponde solo a una cifra correcta.\n",
    "\n",
    "    **Ejemplo:** Si el número oculto del computador es: 4263 y el jugador digita 2861. El juego indica que se obtuvo una fama y un punto; ya que el 2 está en la casilla incorrecta (punto) y  el 6 en la posición correcta (fama).\n",
    "    Requisitos:\n",
    "    \n",
    "    * El programa debe validar que los valores introducidos sean numéricos. \n",
    "    * La partida debe terminar cuando el jugador agote sus 10 intentos, cuando adivina el número o cuando el usuario ingresa el número 0000.\n",
    "    * Después de cada intento, debe indicar cuantos puntos y cuantas famas logró el jugador y la cantidad de oportunidades restantes.\n",
    "    * Cuando la partida termine, se debe indicar si el jugador ganó, perdió o abandonó la partida.\n",
    "    * Al final de cada partida debe preguntar al usuario si quiere iniciar una nueva.\n",
    "\n",
    "## Condiciones de entrega\n",
    "Para este Mini *challenge* se debe hacer entrega, a través del aula digital, de un archivo IPYNB con las soluciones a los problemas.\n",
    "El archivo IPYNB debe contar con lo siguiente:\n",
    "- Un primer bloque en Markdown a manera de portada, con la siguiente información centrada:\n",
    "    * Identificación del curso\n",
    "    * Nombre del estudiante\n",
    "    * Identificación del mini *challenge*\n",
    "    * Fecha\n",
    "- Presentación de cada ejercicio en celda Markdown\n",
    "- Celdas ejecutables con la solución de cada ejercicio "
   ]
  },
  {
   "cell_type": "markdown",
   "metadata": {},
   "source": [
    "<img src=\"Images/by_nc_sa.svg\" style=\"float:left;width: 50px;\"/> &nbsp; El material de este curso está bajo una licencia Creative Commons [Atribución-NoComercial-CompartirIgual 4.0 Internacional](LICENSE.MD) (CC BY-NC-SA 4.0)"
   ]
  }
 ],
 "metadata": {
  "kernelspec": {
   "display_name": "Python 3 (ipykernel)",
   "language": "python",
   "name": "python3"
  },
  "language_info": {
   "codemirror_mode": {
    "name": "ipython",
    "version": 3
   },
   "file_extension": ".py",
   "mimetype": "text/x-python",
   "name": "python",
   "nbconvert_exporter": "python",
   "pygments_lexer": "ipython3",
   "version": "3.10.9"
  },
  "latex_envs": {
   "LaTeX_envs_menu_present": true,
   "autocomplete": true,
   "bibliofile": "biblio.bib",
   "cite_by": "apalike",
   "current_citInitial": 1,
   "eqLabelWithNumbers": true,
   "eqNumInitial": 1,
   "hotkeys": {
    "equation": "Ctrl-E",
    "itemize": "Ctrl-I"
   },
   "labels_anchors": false,
   "latex_user_defs": false,
   "report_style_numbering": true,
   "user_envs_cfg": true
  },
  "toc": {
   "base_numbering": 1,
   "nav_menu": {},
   "number_sections": true,
   "sideBar": true,
   "skip_h1_title": true,
   "title_cell": "Tabla de Contenidos",
   "title_sidebar": "Contenidos",
   "toc_cell": true,
   "toc_position": {
    "height": "calc(100% - 180px)",
    "left": "10px",
    "top": "150px",
    "width": "165px"
   },
   "toc_section_display": true,
   "toc_window_display": true
  }
 },
 "nbformat": 4,
 "nbformat_minor": 4
}
