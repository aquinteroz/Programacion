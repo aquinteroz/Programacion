{
 "cells": [
  {
   "cell_type": "markdown",
   "metadata": {
    "_uuid": "e829dfe21eb6f932696dcc1346f2a821aab41114"
   },
   "source": [
    "# <span style=\"color:#323232\"> Introducción al análisis de datos con Numpy, Pandas y Matplotlib </span>"
   ]
  },
  {
   "cell_type": "markdown",
   "metadata": {
    "_uuid": "c9b7c9d03d7d0b526583a4aad8896ce78ed8b8dc"
   },
   "source": [
    "## <span style=\"color:#323232\"> Análisis de datos </span>"
   ]
  },
  {
   "cell_type": "markdown",
   "metadata": {
    "_uuid": "b88b4cc9b3eae8d2a5178a0df022738a62e3e575"
   },
   "source": [
    "<span style=\"color:#323232; font-size:18px; line-height:35px; font-family: Calibri;\">El análisis de datos es un proceso de inspeccionar, limpiar, transformar y modelar datos con el objetivo de descubrir información útil, sugerir conclusiones y apoyar la toma de decisiones. </span>\n",
    "\n",
    "### Pasos para el análisis, manipulación y visualización de datos:\n",
    "1. Transformar datos sin procesar en el formato deseado\n",
    "2. Limpiar los datos transformados (Pasos 1 y 2 en conjunto de llama **preprocesamiento de datos**\n",
    "3. Prepara un modelo\n",
    "4. Analizar tendencias y tomar decisiones\n",
    "\n",
    "<span style=\"color:#1D4289; font-size:18px; line-height:35px; font-family: Calibri;\">Para analizar datos usaremos las librerías ``Numpy``,``Pandas``, ``Matplotlib`` y ``Seaborn``. </span>"
   ]
  },
  {
   "cell_type": "code",
   "execution_count": null,
   "metadata": {
    "_uuid": "08c7be017b26d279f29cc310e8e4d963d4ae2da2"
   },
   "outputs": [],
   "source": [
    "import numpy as np\n",
    "import pandas as pd\n",
    "import matplotlib.pyplot as plt\n",
    "import matplotlib\n",
    "import seaborn as sns\n",
    "%matplotlib inline"
   ]
  },
  {
   "cell_type": "markdown",
   "metadata": {
    "_uuid": "2619456897a5f6e5c18b78bdc15f75842a0bb5e6"
   },
   "source": [
    "### <span style=\"color:#D3273E\">Lectura y escritura de datos desde archivos </span>"
   ]
  },
  {
   "cell_type": "code",
   "execution_count": null,
   "metadata": {
    "_uuid": "f62d1c9aa9cac65306e433bbbbe06e50a436c92e"
   },
   "outputs": [],
   "source": [
    "# Lectura de datos desde archivo CSV a un arreglo NumPy\n",
    "arr_csv = np.genfromtxt('Hurricanes.csv', delimiter = ',')\n",
    "np.savetxt('newfilex.csv', arr_csv, delimiter = ',')"
   ]
  },
  {
   "cell_type": "code",
   "execution_count": null,
   "metadata": {
    "_uuid": "5a3eb1090913736f1f19a808d2dcf32f873d7de0"
   },
   "outputs": [],
   "source": [
    "# Lectura de datos desde archivo CSV a un DataFrame Pandas\n",
    "table_csv = pd.read_csv('Cars2015.csv')"
   ]
  },
  {
   "cell_type": "code",
   "execution_count": null,
   "metadata": {
    "_uuid": "5f36b9c05638af526e6960d971c140dbace933d1"
   },
   "outputs": [],
   "source": [
    "table_csv.to_csv('newcars2015.csv')"
   ]
  },
  {
   "cell_type": "markdown",
   "metadata": {
    "_uuid": "904d2b7af43896885e018826a55aeef7f8aa4658"
   },
   "source": [
    "## <span style=\"color:#D3273E\"> Matplotlib </span>\n",
    "\n",
    "1. Matplotlib es una biblioteca de Python especialmente diseñada para el desarrollo de gráficos, tablas, etc., con el fin de proporcionar visualización de datos interactiva.\r\n",
    "2. Matplotlib está inspirado en el software MATLAB y reproduce muchas de sus características."
   ]
  },
  {
   "cell_type": "markdown",
   "metadata": {},
   "source": [
    "#### <span style=\"color:#1D4289\"> Gráficas sencillas </span>"
   ]
  },
  {
   "cell_type": "code",
   "execution_count": null,
   "metadata": {
    "_uuid": "d66714fdd84d0942fa729f7dc554b3e16b88fa6e"
   },
   "outputs": [],
   "source": [
    "plt.plot([1,2,3,4])\n",
    "plt.show()"
   ]
  },
  {
   "cell_type": "code",
   "execution_count": null,
   "metadata": {
    "_uuid": "0c69eb3c06ed11469232121e1e5b434da4a6c417"
   },
   "outputs": [],
   "source": [
    "x = [x/4 for x in range(21)]\n",
    "plt.plot(x, [x1**2 for x1 in x])\n",
    "plt.show()"
   ]
  },
  {
   "cell_type": "code",
   "execution_count": null,
   "metadata": {
    "_uuid": "3c48d1ee2591b04ac33ea2072e5ad0d1f23d177f"
   },
   "outputs": [],
   "source": [
    "x = np.arange(0, 5, 0.01)\n",
    "plt.plot(x, [x1**2 for x1 in x])\n",
    "plt.show()"
   ]
  },
  {
   "cell_type": "markdown",
   "metadata": {},
   "source": [
    "#### <span style=\"color:#1D4289\"> Gráficas múltiples </span>"
   ]
  },
  {
   "cell_type": "code",
   "execution_count": null,
   "metadata": {
    "_uuid": "89882db0d96110ab8372d085aaf7cb6a887283be"
   },
   "outputs": [],
   "source": [
    "plt.style.use('default')\n",
    "x = [x/4 for x in range(21)]\n",
    "plt.plot(x, [x1 for x1 in x])\n",
    "plt.plot(x, [x1*x1 for x1 in x])\n",
    "plt.plot(x, [x1*x1*x1 for x1 in x])\n",
    "plt.show()"
   ]
  },
  {
   "cell_type": "code",
   "execution_count": null,
   "metadata": {
    "_uuid": "de97da239b07d2349f73a3390fff7e4b5c367e44"
   },
   "outputs": [],
   "source": [
    "x = [x/4 for x in range(21)]\n",
    "plt.plot(x, [x1 for x1 in x],\n",
    "         x, [x1*x1 for x1 in x],\n",
    "         x, [x1*x1*x1 for x1 in x])\n",
    "plt.show()"
   ]
  },
  {
   "cell_type": "markdown",
   "metadata": {},
   "source": [
    "#### <span style=\"color:#1D4289\"> Grillas </span>"
   ]
  },
  {
   "cell_type": "code",
   "execution_count": null,
   "metadata": {
    "_uuid": "73b88ebef410242f116af8e509869af2a6ea19b9"
   },
   "outputs": [],
   "source": [
    "x = [x/4 for x in range(21)]\n",
    "plt.plot(x, [x1 for x1 in x],\n",
    "         x, [x1*2 for x1 in x],\n",
    "         x, [x1*4 for x1 in x])\n",
    "plt.grid(True)\n",
    "plt.show()"
   ]
  },
  {
   "cell_type": "markdown",
   "metadata": {
    "_uuid": "231a396290779a9d8e52ed10fef8aa4bbe9d47fa"
   },
   "source": [
    "#### <span style=\"color:#1D4289\"> Límites de los ejes </span>"
   ]
  },
  {
   "cell_type": "code",
   "execution_count": null,
   "metadata": {
    "_uuid": "74034e58aeb7ae32b01ed7ae319f23348c349b22"
   },
   "outputs": [],
   "source": [
    "x = range(5)\n",
    "plt.plot(x, [x1 for x1 in x],\n",
    "         x, [x1*2 for x1 in x],\n",
    "         x, [x1*4 for x1 in x])\n",
    "plt.grid(True)\n",
    "plt.axis([-1, 5, -1, 10]) # Sets new axes limits\n",
    "plt.show()"
   ]
  },
  {
   "cell_type": "code",
   "execution_count": null,
   "metadata": {
    "_uuid": "072cbd4d32eb29645ca3ee15f5281e5fa9c11e06"
   },
   "outputs": [],
   "source": [
    "x = range(5)\n",
    "plt.plot(x, [x1 for x1 in x],\n",
    "         x, [x1*2 for x1 in x],\n",
    "         x, [x1*4 for x1 in x])\n",
    "plt.grid(True)\n",
    "plt.xlim(-1, 5)\n",
    "plt.ylim(-1, 10)\n",
    "plt.show()"
   ]
  },
  {
   "cell_type": "markdown",
   "metadata": {
    "_uuid": "8cc38d6770e2f10609866bf296fa15459b6fb7f3"
   },
   "source": [
    "#### <span style=\"color:#1D4289\"> Etiquetas </span>"
   ]
  },
  {
   "cell_type": "code",
   "execution_count": null,
   "metadata": {
    "_uuid": "be88c8566bda7feaaf9b9c8b70bcbd36892139d3"
   },
   "outputs": [],
   "source": [
    "x = range(5)\n",
    "plt.plot(x, [x1 for x1 in x],\n",
    "         x, [x1*2 for x1 in x],\n",
    "         x, [x1*4 for x1 in x])\n",
    "plt.grid(True)\n",
    "plt.xlabel('X-axis')\n",
    "plt.ylabel('Y-axis')\n",
    "plt.show()"
   ]
  },
  {
   "cell_type": "markdown",
   "metadata": {
    "_uuid": "5169d447c2d92d6fe31ee1c18179e6b11491858a"
   },
   "source": [
    "#### <span style=\"color:#1D4289\"> Títulos </span>"
   ]
  },
  {
   "cell_type": "code",
   "execution_count": null,
   "metadata": {
    "_uuid": "b94aae589c431fb5fcecbe03f6570f437a7d0228"
   },
   "outputs": [],
   "source": [
    "x = range(5)\n",
    "plt.plot(x, [x1 for x1 in x],\n",
    "         x, [x1*2 for x1 in x],\n",
    "         x, [x1*4 for x1 in x])\n",
    "plt.grid(True)\n",
    "plt.xlabel('X-axis')\n",
    "plt.ylabel('Y-axis')\n",
    "plt.title(\"Polynomial Graph\")\n",
    "plt.show()"
   ]
  },
  {
   "cell_type": "markdown",
   "metadata": {
    "_uuid": "172f61af59f5a8ad35c59ae3df347de5af35bce4"
   },
   "source": [
    "#### <span style=\"color:#1D4289\"> Leyendas </span>"
   ]
  },
  {
   "cell_type": "code",
   "execution_count": null,
   "metadata": {
    "_uuid": "814d4b6c6130370dee9ab6f9e99bc2e01b65fbbf"
   },
   "outputs": [],
   "source": [
    "x = np.arange(5)\n",
    "plt.plot(x, x, label = 'linear')\n",
    "plt.plot(x, x*x, label = 'square')\n",
    "plt.plot(x, x*x*x, label = 'cube')\n",
    "plt.grid(True)\n",
    "plt.xlabel('X-axis')\n",
    "plt.ylabel('Y-axis')\n",
    "plt.title(\"Polynomial Graph\")\n",
    "plt.legend()\n",
    "plt.show()"
   ]
  },
  {
   "cell_type": "markdown",
   "metadata": {
    "_uuid": "57dff004230d951523b4a62ba9d6e809bd588f15"
   },
   "source": [
    "#### <span style=\"color:#1D4289\"> Marcadores </span>"
   ]
  },
  {
   "cell_type": "code",
   "execution_count": null,
   "metadata": {
    "_uuid": "21f95e777e4c6917c33bedf753f382a91e79633b"
   },
   "outputs": [],
   "source": [
    "x = [1, 2, 3, 4, 5, 6]\n",
    "y = [11, 22, 33, 44, 55, 66]\n",
    "plt.plot(x, y, 'bo')\n",
    "for i in range(len(x)):\n",
    "    x_cord = x[i]\n",
    "    y_cord = y[i]\n",
    "    plt.text(x_cord, y_cord, (x_cord, y_cord), fontsize = 10)\n",
    "plt.show()"
   ]
  },
  {
   "cell_type": "markdown",
   "metadata": {
    "_uuid": "98731e989a1f6d56ddd51ac5a11dd4e8b70f16e1"
   },
   "source": [
    "#### <span style=\"color:#1D4289\"> Guardar gráficas </span>"
   ]
  },
  {
   "cell_type": "code",
   "execution_count": null,
   "metadata": {
    "_uuid": "f7805cfc4fe4a2fa21d52cb65c9e6dce59b19307"
   },
   "outputs": [],
   "source": [
    "x = np.arange(5)\n",
    "plt.plot(x, x, label = 'linear')\n",
    "plt.plot(x, x*x, label = 'square')\n",
    "plt.plot(x, x*x*x, label = 'cube')\n",
    "plt.grid(True)\n",
    "plt.xlabel('X-axis')\n",
    "plt.ylabel('Y-axis')\n",
    "plt.title(\"Polynomial Graph\")\n",
    "plt.legend()\n",
    "plt.savefig('plot.png') # Saves an image names 'plot.png' in the current directory\n",
    "plt.show()"
   ]
  },
  {
   "cell_type": "markdown",
   "metadata": {
    "_uuid": "da78a859581c6ea5f494209ed5d1137e21bae067"
   },
   "source": [
    "#### <span style=\"color:#1D4289\"> Histograma </span>"
   ]
  },
  {
   "cell_type": "code",
   "execution_count": null,
   "metadata": {
    "_uuid": "07f9d1e6cc0b19b171682b2569cff740944bcc99"
   },
   "outputs": [],
   "source": [
    "y = np.random.randn(100, 100)\n",
    "plt.hist(y)\n",
    "plt.show()"
   ]
  },
  {
   "cell_type": "code",
   "execution_count": null,
   "metadata": {
    "_uuid": "c48f91fe7b9049934d81529961d437deba41263e"
   },
   "outputs": [],
   "source": [
    "y = np.random.randn(1000)\n",
    "plt.hist(y, 100)\n",
    "plt.show()"
   ]
  },
  {
   "cell_type": "markdown",
   "metadata": {
    "_uuid": "1275a1de4261dcd82518f331378f69d7d358608b"
   },
   "source": [
    "#### <span style=\"color:#1D4289\"> Gráficas de barras </span>"
   ]
  },
  {
   "cell_type": "code",
   "execution_count": null,
   "metadata": {
    "_uuid": "a1f25ce1fe76a701fc83510efaccb5ab576b8636"
   },
   "outputs": [],
   "source": [
    "plt.bar([1,2,3], [1,4,9])\n",
    "plt.show()"
   ]
  },
  {
   "cell_type": "code",
   "execution_count": null,
   "metadata": {
    "_uuid": "c82164448b4ec1ff485cffd03ede3de7b31d3667"
   },
   "outputs": [],
   "source": [
    "dictionary = {'A':25, 'B':70, 'C':55, 'D':90}\n",
    "for i, key in enumerate(dictionary):\n",
    "    plt.bar(i, dictionary[key])\n",
    "plt.show()"
   ]
  },
  {
   "cell_type": "code",
   "execution_count": null,
   "metadata": {
    "_uuid": "8e368f70500b7b7c603a60854f2525ac8f737edb"
   },
   "outputs": [],
   "source": [
    "dictionary = {'A':25, 'B':70, 'C':55, 'D':90}\n",
    "for i, key in enumerate(dictionary):\n",
    "    plt.bar(i, dictionary[key])\n",
    "plt.xticks(np.arange(len(dictionary)), dictionary.keys())\n",
    "plt.show()"
   ]
  },
  {
   "cell_type": "markdown",
   "metadata": {
    "_uuid": "9195735d8fc3b6a42ad8c03c24f628ee1e715a32"
   },
   "source": [
    "#### <span style=\"color:#1D4289\"> Gráfica circular </span>"
   ]
  },
  {
   "cell_type": "code",
   "execution_count": null,
   "metadata": {
    "_uuid": "71823d0849f9ca477619d95940cd8c15da89898f"
   },
   "outputs": [],
   "source": [
    "plt.figure(figsize = (3,3))\n",
    "x = [40, 20, 5\n",
    "labels = ['Bikes', 'Cars', 'Buses']\n",
    "plt.pie(x, labels = labels)\n",
    "plt.show()"
   ]
  },
  {
   "cell_type": "markdown",
   "metadata": {
    "_uuid": "d822c7ae1a456073223dc037cc9171040bbc7f84"
   },
   "source": [
    "#### <span style=\"color:#1D4289\"> Gráfica de dispersión </span>"
   ]
  },
  {
   "cell_type": "code",
   "execution_count": null,
   "metadata": {
    "_uuid": "6c0584e7fa4d5ee9a12b8912552a840ea7055955"
   },
   "outputs": [],
   "source": [
    "x = np.random.rand(1000)\n",
    "y = np.random.rand(1000)\n",
    "plt.scatter(x, y)\n",
    "plt.show()"
   ]
  },
  {
   "cell_type": "markdown",
   "metadata": {
    "_uuid": "f7581aa4d0b981323ee0749dead69228820b71e2"
   },
   "source": [
    "#### <span style=\"color:#1D4289\"> Personalización </span>"
   ]
  },
  {
   "cell_type": "code",
   "execution_count": null,
   "metadata": {
    "_uuid": "8bdecd2648a9546f7ce5855125a21ffc8fea30ce"
   },
   "outputs": [],
   "source": [
    "y = np.arange(1, 3)\n",
    "plt.plot(y, 'y')\n",
    "plt.plot(y+5, 'm')\n",
    "plt.plot(y+10, 'c')\n",
    "plt.show()"
   ]
  },
  {
   "cell_type": "code",
   "execution_count": null,
   "metadata": {
    "_uuid": "20cf6a6db7f23468ec7e0faa4d2e01207cd63f70"
   },
   "outputs": [],
   "source": [
    "y = np.arange(1, 100)\n",
    "plt.plot(y, '--', y*5, '-.', y*10, ':')\n",
    "plt.show()"
   ]
  },
  {
   "cell_type": "code",
   "execution_count": null,
   "metadata": {
    "_uuid": "bd8de81dda276dc4517e302a628de7b35cd3886d"
   },
   "outputs": [],
   "source": [
    "y = np.arange(1, 3, 0.2)\n",
    "plt.plot(y, '*',\n",
    "        y+0.5, 'o',\n",
    "        y+1, 'D',\n",
    "        y+2, '^',\n",
    "        y+3, 's')\n",
    "plt.show()"
   ]
  },
  {
   "cell_type": "code",
   "execution_count": null,
   "metadata": {},
   "outputs": [],
   "source": [
    "matplotlib.style.available"
   ]
  },
  {
   "cell_type": "code",
   "execution_count": null,
   "metadata": {},
   "outputs": [],
   "source": [
    "import matplotlib.pyplot as plt\n",
    "import numpy as np\n",
    "\n",
    "import matplotlib.colors as mcolors\n",
    "from matplotlib.patches import Rectangle\n",
    "\n",
    "np.random.seed(19680801)\n",
    "\n",
    "\n",
    "def plot_scatter(ax, prng, nb_samples=100):\n",
    "    \"\"\"Scatter plot.\"\"\"\n",
    "    for mu, sigma, marker in [(-.5, 0.75, 'o'), (0.75, 1., 's')]:\n",
    "        x, y = prng.normal(loc=mu, scale=sigma, size=(2, nb_samples))\n",
    "        ax.plot(x, y, ls='none', marker=marker)\n",
    "    ax.set_xlabel('X-label')\n",
    "    ax.set_title('Axes title')\n",
    "    return ax\n",
    "\n",
    "\n",
    "def plot_colored_lines(ax):\n",
    "    \"\"\"Plot lines with colors following the style color cycle.\"\"\"\n",
    "    t = np.linspace(-10, 10, 100)\n",
    "\n",
    "    def sigmoid(t, t0):\n",
    "        return 1 / (1 + np.exp(-(t - t0)))\n",
    "\n",
    "    nb_colors = len(plt.rcParams['axes.prop_cycle'])\n",
    "    shifts = np.linspace(-5, 5, nb_colors)\n",
    "    amplitudes = np.linspace(1, 1.5, nb_colors)\n",
    "    for t0, a in zip(shifts, amplitudes):\n",
    "        ax.plot(t, a * sigmoid(t, t0), '-')\n",
    "    ax.set_xlim(-10, 10)\n",
    "    return ax\n",
    "\n",
    "\n",
    "def plot_bar_graphs(ax, prng, min_value=5, max_value=25, nb_samples=5):\n",
    "    \"\"\"Plot two bar graphs side by side, with letters as x-tick labels.\"\"\"\n",
    "    x = np.arange(nb_samples)\n",
    "    ya, yb = prng.randint(min_value, max_value, size=(2, nb_samples))\n",
    "    width = 0.25\n",
    "    ax.bar(x, ya, width)\n",
    "    ax.bar(x + width, yb, width, color='C2')\n",
    "    ax.set_xticks(x + width, labels=['a', 'b', 'c', 'd', 'e'])\n",
    "    return ax\n",
    "\n",
    "\n",
    "def plot_colored_circles(ax, prng, nb_samples=15):\n",
    "    \"\"\"\n",
    "    Plot circle patches.\n",
    "\n",
    "    NB: draws a fixed amount of samples, rather than using the length of\n",
    "    the color cycle, because different styles may have different numbers\n",
    "    of colors.\n",
    "    \"\"\"\n",
    "    for sty_dict, j in zip(plt.rcParams['axes.prop_cycle'](),\n",
    "                           range(nb_samples)):\n",
    "        ax.add_patch(plt.Circle(prng.normal(scale=3, size=2),\n",
    "                                radius=1.0, color=sty_dict['color']))\n",
    "    ax.grid(visible=True)\n",
    "\n",
    "    plt.title('ax.grid(True)', family='monospace', fontsize='small')\n",
    "\n",
    "    ax.set_xlim([-4, 8])\n",
    "    ax.set_ylim([-5, 6])\n",
    "    ax.set_aspect('equal', adjustable='box')  # to plot circles as circles\n",
    "    return ax\n",
    "\n",
    "\n",
    "def plot_image_and_patch(ax, prng, size=(20, 20)):\n",
    "    \"\"\"Plot an image with random values and superimpose a circular patch.\"\"\"\n",
    "    values = prng.random_sample(size=size)\n",
    "    ax.imshow(values, interpolation='none')\n",
    "    c = plt.Circle((5, 5), radius=5, label='patch')\n",
    "    ax.add_patch(c)\n",
    "    # Remove ticks\n",
    "    ax.set_xticks([])\n",
    "    ax.set_yticks([])\n",
    "\n",
    "\n",
    "def plot_histograms(ax, prng, nb_samples=10000):\n",
    "    \"\"\"Plot 4 histograms and a text annotation.\"\"\"\n",
    "    params = ((10, 10), (4, 12), (50, 12), (6, 55))\n",
    "    for a, b in params:\n",
    "        values = prng.beta(a, b, size=nb_samples)\n",
    "        ax.hist(values, histtype=\"stepfilled\", bins=30,\n",
    "                alpha=0.8, density=True)\n",
    "\n",
    "    ax.annotate('Annotation', xy=(0.25, 4.25),\n",
    "                xytext=(0.9, 0.9), textcoords=ax.transAxes,\n",
    "                va=\"top\", ha=\"right\",\n",
    "                bbox=dict(boxstyle=\"round\", alpha=0.2),\n",
    "                arrowprops=dict(\n",
    "                          arrowstyle=\"->\",\n",
    "                          connectionstyle=\"angle,angleA=-95,angleB=35,rad=10\"),\n",
    "                )\n",
    "    return ax\n",
    "\n",
    "\n",
    "def plot_figure(style_label=\"\"):\n",
    "    \"\"\"Setup and plot the demonstration figure with a given style.\"\"\"\n",
    "    prng = np.random.RandomState(96917002)\n",
    "\n",
    "    fig, axs = plt.subplots(ncols=6, nrows=1, num=style_label,\n",
    "                            figsize=(14.8, 2.8), layout='constrained')\n",
    "\n",
    "    background_color = mcolors.rgb_to_hsv(\n",
    "        mcolors.to_rgb(plt.rcParams['figure.facecolor']))[2]\n",
    "    if background_color < 0.5:\n",
    "        title_color = [0.8, 0.8, 1]\n",
    "    else:\n",
    "        title_color = np.array([19, 6, 84]) / 256\n",
    "    fig.suptitle(style_label, x=0.01, ha='left', color=title_color,\n",
    "                 fontsize=14, fontfamily='DejaVu Sans', fontweight='normal')\n",
    "\n",
    "    plot_scatter(axs[0], prng)\n",
    "    plot_image_and_patch(axs[1], prng)\n",
    "    plot_bar_graphs(axs[2], prng)\n",
    "    plot_colored_lines(axs[3])\n",
    "    plot_histograms(axs[4], prng)\n",
    "    plot_colored_circles(axs[5], prng)\n",
    "\n",
    "    rec = Rectangle((1 + 0.025, -2), 0.05, 16,\n",
    "                    clip_on=False, color='gray')\n",
    "\n",
    "    axs[4].add_artist(rec)\n",
    "\n",
    "if __name__ == \"__main__\":\n",
    "\n",
    "    style_list = ['default', 'classic'] + sorted(\n",
    "        style for style in plt.style.available\n",
    "        if style != 'classic' and not style.startswith('_'))\n",
    "\n",
    "    for style_label in style_list:\n",
    "        with plt.rc_context({\"figure.max_open_warning\": len(style_list)}):\n",
    "            with plt.style.context(style_label):\n",
    "                plot_figure(style_label=style_label)\n",
    "\n",
    "    plt.show()"
   ]
  },
  {
   "cell_type": "markdown",
   "metadata": {},
   "source": [
    "## <span style=\"color:#D3273E\"> Seaborn </span>\n",
    "\n",
    "Una manera fácil de hacer que sus gráficos se vean más bonitos es usar algunos estilos predeterminados de la biblioteca de **Seaborn**. Estos se pueden aplicar globalmente usando la función ``sns.set_style``. Puede ver una lista completa de estilos predefinidos aquí:"
   ]
  },
  {
   "cell_type": "code",
   "execution_count": null,
   "metadata": {},
   "outputs": [],
   "source": [
    "years = range(2000, 2012)\n",
    "apples = [0.895, 0.91, 0.919, 0.926, 0.929, 0.931, 0.934, 0.936, 0.937, 0.9375, 0.9372, 0.939]\n",
    "oranges = [0.962, 0.941, 0.930, 0.923, 0.918, 0.908, 0.907, 0.904, 0.901, 0.898, 0.9, 0.896, ]"
   ]
  },
  {
   "cell_type": "code",
   "execution_count": null,
   "metadata": {},
   "outputs": [],
   "source": [
    "sns.set_style(\"whitegrid\")\n",
    "plt.plot(years, apples, 's-b')\n",
    "plt.plot(years, oranges, 'o--r')\n",
    "\n",
    "plt.xlabel('Año')\n",
    "plt.ylabel('Rendimiento (toneladas por hectárea)')\n",
    "\n",
    "plt.title(\"Rendimiento de los cultivos en Kanto\")\n",
    "plt.legend(['Manzanas', 'Naranjas']);"
   ]
  },
  {
   "cell_type": "code",
   "execution_count": null,
   "metadata": {},
   "outputs": [],
   "source": [
    "sns.set_style(\"darkgrid\")\n",
    "plt.plot(years, apples, 's-b')\n",
    "plt.plot(years, oranges, 'o--r')\n",
    "\n",
    "plt.xlabel('Año')\n",
    "plt.ylabel('Rendimiento (toneladas por hectárea)')\n",
    "\n",
    "plt.title(\"Rendimiento de los cultivos en Kanto\")\n",
    "plt.legend(['Manzanas', 'Naranjas']);"
   ]
  },
  {
   "cell_type": "markdown",
   "metadata": {},
   "source": [
    "#### <span style=\"color:#1D4289\"> Gráfica de dispersión por grupos </span>"
   ]
  },
  {
   "cell_type": "code",
   "execution_count": null,
   "metadata": {},
   "outputs": [],
   "source": [
    "flowers_df = sns.load_dataset(\"iris\")\n",
    "sns.scatterplot(x=flowers_df.sepal_length, \n",
    "                y=flowers_df.sepal_width, \n",
    "                hue=flowers_df.species, \n",
    "                s=100);"
   ]
  },
  {
   "cell_type": "code",
   "execution_count": null,
   "metadata": {},
   "outputs": [],
   "source": [
    "plt.figure(figsize=(12, 6))\n",
    "plt.title('Sepal Dimensions')\n",
    "\n",
    "sns.scatterplot(x=flowers_df.sepal_length, \n",
    "                y=flowers_df.sepal_width, \n",
    "                hue=flowers_df.species,\n",
    "                s=100);"
   ]
  },
  {
   "cell_type": "code",
   "execution_count": null,
   "metadata": {},
   "outputs": [],
   "source": [
    "plt.title('Petal Dimensions')\n",
    "sns.scatterplot(x='petal_length', \n",
    "                y='petal_width', \n",
    "                hue='species',\n",
    "                s=100,\n",
    "                data=flowers_df);"
   ]
  },
  {
   "cell_type": "markdown",
   "metadata": {},
   "source": [
    "#### <span style=\"color:#1D4289\"> Histograma por grupos </span>"
   ]
  },
  {
   "cell_type": "code",
   "execution_count": null,
   "metadata": {},
   "outputs": [],
   "source": [
    "setosa_df = flowers_df[flowers_df.species == 'setosa']\n",
    "versicolor_df = flowers_df[flowers_df.species == 'versicolor']\n",
    "virginica_df = flowers_df[flowers_df.species == 'virginica']\n",
    "plt.hist(setosa_df.sepal_width, alpha=0.4, bins=np.arange(2, 5, 0.25));\n",
    "plt.hist(versicolor_df.sepal_width, alpha=0.4, bins=np.arange(2, 5, 0.25));\n",
    "plt.hist(virginica_df.sepal_width, alpha=0.4, bins=np.arange(2, 5, 0.25));"
   ]
  },
  {
   "cell_type": "markdown",
   "metadata": {},
   "source": [
    "#### <span style=\"color:#1D4289\"> Gráficas de barras (mejorados) </span>"
   ]
  },
  {
   "cell_type": "code",
   "execution_count": null,
   "metadata": {},
   "outputs": [],
   "source": [
    "tips_df = sns.load_dataset(\"tips\");\n",
    "sns.barplot(x='day', y='total_bill', data=tips_df);"
   ]
  },
  {
   "cell_type": "code",
   "execution_count": null,
   "metadata": {},
   "outputs": [],
   "source": [
    "sns.barplot(x='day', y='total_bill', hue='sex', data=tips_df);"
   ]
  },
  {
   "cell_type": "code",
   "execution_count": null,
   "metadata": {},
   "outputs": [],
   "source": [
    "sns.barplot(x='total_bill', y='day', hue='sex', data=tips_df);"
   ]
  },
  {
   "cell_type": "markdown",
   "metadata": {},
   "source": [
    "#### <span style=\"color:#1D4289\"> Mapas de calor </span>"
   ]
  },
  {
   "cell_type": "code",
   "execution_count": null,
   "metadata": {},
   "outputs": [],
   "source": [
    "flights_df = sns.load_dataset(\"flights\").pivot(index = 'month', \n",
    "                                               columns = 'year', \n",
    "                                               values = 'passengers')\n",
    "flights_df.head(5)"
   ]
  },
  {
   "cell_type": "code",
   "execution_count": null,
   "metadata": {},
   "outputs": [],
   "source": [
    "plt.title(\"No. de pasajeros (1000s)\")\n",
    "sns.heatmap(flights_df);"
   ]
  },
  {
   "cell_type": "code",
   "execution_count": null,
   "metadata": {},
   "outputs": [],
   "source": [
    "sns.heatmap(flights_df, fmt=\"d\", annot=True, cmap='Blues');"
   ]
  },
  {
   "cell_type": "markdown",
   "metadata": {},
   "source": [
    "#### <span style=\"color:#1D4289\"> Gráfico de series temporales con bandas de error </span>"
   ]
  },
  {
   "cell_type": "code",
   "execution_count": null,
   "metadata": {},
   "outputs": [],
   "source": [
    "fmri = sns.load_dataset(\"fmri\")\n",
    "sns.lineplot(x=\"timepoint\", y=\"signal\",\n",
    "             hue=\"region\", style=\"event\",\n",
    "             data=fmri)"
   ]
  },
  {
   "cell_type": "markdown",
   "metadata": {},
   "source": [
    "#### <span style=\"color:#1D4289\"> Múltiples gráficas en una figura </span>"
   ]
  },
  {
   "cell_type": "code",
   "execution_count": null,
   "metadata": {},
   "outputs": [],
   "source": [
    "fig, axes = plt.subplots(2, 3, figsize=(16, 8))\n",
    "\n",
    "axes[0,0].plot(years, apples, 's-b')\n",
    "axes[0,0].plot(years, oranges, 'o--r')\n",
    "axes[0,0].set_xlabel('Year')\n",
    "axes[0,0].set_ylabel('Yield (tons per hectare)')\n",
    "axes[0,0].legend(['Apples', 'Oranges']);\n",
    "axes[0,0].set_title('Crop Yields in Kanto')\n",
    "\n",
    "axes[0,1].set_title('Sepal Length vs. Sepal Width')\n",
    "sns.scatterplot(x=flowers_df.sepal_length, \n",
    "                y=flowers_df.sepal_width, \n",
    "                hue=flowers_df.species, \n",
    "                s=100, \n",
    "                ax=axes[0,1]);\n",
    "\n",
    "axes[0,2].set_title('Distribution of Sepal Width')\n",
    "axes[0,2].hist([setosa_df.sepal_width, versicolor_df.sepal_width, virginica_df.sepal_width], \n",
    "         bins=np.arange(2, 5, 0.25), \n",
    "         stacked=True);\n",
    "\n",
    "axes[0,2].legend(['Setosa', 'Versicolor', 'Virginica']);\n",
    "\n",
    "axes[1,0].set_title('Restaurant bills')\n",
    "sns.barplot(x='day', y='total_bill', hue='sex', data=tips_df, ax=axes[1,0]);\n",
    "\n",
    "axes[1,1].set_title('Flight traffic')\n",
    "sns.heatmap(flights_df, cmap='Blues', ax=axes[1,1]);\n",
    "\n",
    "axes[1,2].set_title('fMRI responses')\n",
    "sns.lineplot(x=\"timepoint\", y=\"signal\",\n",
    "             hue=\"region\", style=\"event\",\n",
    "             data=fmri)\n",
    "\n",
    "plt.tight_layout(pad=2);"
   ]
  },
  {
   "cell_type": "markdown",
   "metadata": {},
   "source": [
    "#### <span style=\"color:#1D4289\"> Gráficos por pares </span>"
   ]
  },
  {
   "cell_type": "code",
   "execution_count": null,
   "metadata": {},
   "outputs": [],
   "source": [
    "sns.pairplot(flowers_df, hue='species');"
   ]
  },
  {
   "cell_type": "code",
   "execution_count": null,
   "metadata": {},
   "outputs": [],
   "source": [
    "sns.pairplot(tips_df, hue='sex');"
   ]
  }
 ],
 "metadata": {
  "kernelspec": {
   "display_name": "Python 3 (ipykernel)",
   "language": "python",
   "name": "python3"
  },
  "language_info": {
   "codemirror_mode": {
    "name": "ipython",
    "version": 3
   },
   "file_extension": ".py",
   "mimetype": "text/x-python",
   "name": "python",
   "nbconvert_exporter": "python",
   "pygments_lexer": "ipython3",
   "version": "3.11.8"
  }
 },
 "nbformat": 4,
 "nbformat_minor": 4
}
