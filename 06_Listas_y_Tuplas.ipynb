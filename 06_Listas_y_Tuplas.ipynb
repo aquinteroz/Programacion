{
 "cells": [
  {
   "cell_type": "markdown",
   "metadata": {
    "slideshow": {
     "slide_type": "notes"
    }
   },
   "source": [
    "<h1 align=\"center\">Programación &#8212; PRE2013A45</h1>\n",
    "<h3 align=\"center\">Docente: Andrés Quintero Zea, PhD.</h3>\n",
    "<h3 align=\"center\">e-mail: andres.quintero27@eia.edu.co</h3>\n",
    "<h3 align=\"center\">Semana 06: Listas y Tuplas</h3>"
   ]
  },
  {
   "cell_type": "markdown",
   "metadata": {},
   "source": [
    "# Secuencias\n",
    "Una secuencia es un objeto que contiene varios elementos de datos. Los elementos que están en una secuencia se almacenan uno tras otro. `Python` proporciona varias formas de realizar operaciones en los elementos que se almacenan en una secuencia.\n",
    "Hay varios tipos diferentes de objetos de secuencia en `Python`. Esta semana veremos dos de los tipos de secuencias fundamentales: listas y tuplas. Tanto las listas como las tuplas son secuencias que pueden contener varios tipos de datos. La diferencia entre listas y tuplas es simple: una lista es mutable, lo que significa que un programa puede cambiar su contenido, pero una tupla es inmutable, lo que significa que una vez creada, su contenido no se puede cambiar. Exploraremos algunas de las operaciones que puede realizar en estas secuencias, incluidas las formas de acceder y manipular sus contenidos.\n",
    "\n",
    "# 1. Listas\n",
    "Una lista es un objeto que contiene varios elementos de datos. Las listas son estructuras de datos dinámicas, lo que significa que se les pueden agregar o quitar elementos. Puede usar la indexación, el corte y varios métodos para trabajar con listas en un programa.\n",
    "\n",
    "Las listas se relacionan a arreglos (arrays) en lenguajes como `C`, `C++` o `Java`, pero en `Python` las listas son más fexibles y poderosas que los clásicos arreglos. Por ejemplo, los ítems en una lista no necesitan ser todos del mismo tipo, más aún, pueden crecer en la ejecución del programa, mientras que en `C` el tamaño de un arreglo es fijo.\n",
    "\n",
    "Las principales propiedades de una lista son:\n",
    "\n",
    "* Están ordenados\n",
    "* Contienen una colección arbitraria de objetos (números, cadenas, booleanos, otras listas)\n",
    "* Los elementos de una lista pueden ser accedidos por un índice\n",
    "* Variable en tamaño\n",
    "* Son mutables, es decir, los elementos en una lista pueden cambiar\n",
    "\n",
    "Para definir una lista basta ubicar los diferentes elementos que la compondrán, separados por coma y entre corchetes"
   ]
  },
  {
   "cell_type": "code",
   "execution_count": null,
   "metadata": {},
   "outputs": [],
   "source": [
    "mi_lista = ['dato', 15, 2.8, \"otro dato\", True, \"98456226\", 27]\n",
    "print(type(mi_lista))\n",
    "print(mi_lista)"
   ]
  },
  {
   "cell_type": "markdown",
   "metadata": {},
   "source": [
    "La numeración de los índices siempre empieza en cero (0) si se acceden desde el primer elemento a la izquierda y se recorren hacia la derecha. O desde -1, si se acceden desde el último elemento a la derecha y se recorre hacia la izquierda."
   ]
  },
  {
   "cell_type": "code",
   "execution_count": null,
   "metadata": {},
   "outputs": [],
   "source": [
    "n = len(mi_lista)\n",
    "print(mi_lista[0])\n",
    "print(mi_lista[-n])"
   ]
  },
  {
   "cell_type": "markdown",
   "metadata": {},
   "source": [
    "## 1.1 Operador de repetición\n",
    "Vimos previamente que el símbolo `*` multiplica dos números. Sin embargo, cuando el operando del lado izquierdo del símbolo `*` es una secuencia (como una lista) y el operando del lado derecho es un número entero, se convierte en el **operador de repetición**. El operador de repetición hace múltiples copias de una lista y las une todas."
   ]
  },
  {
   "cell_type": "code",
   "execution_count": null,
   "metadata": {},
   "outputs": [],
   "source": [
    "lista1 = [1, 2, 3]\n",
    "lista2 = lista1 * 5\n",
    "print(lista2)"
   ]
  },
  {
   "cell_type": "markdown",
   "metadata": {},
   "source": [
    "## 1.2 Indexación\n",
    "Una de las formas más sencillas de acceder a los elementos individuales de una lista es utilizar el bucle `for`. Este es el formato general:\n",
    "```Python\n",
    "for variable in lista:\n",
    "    código\n",
    "    código\n",
    "    etc.\n",
    "```"
   ]
  },
  {
   "cell_type": "code",
   "execution_count": null,
   "metadata": {},
   "outputs": [],
   "source": [
    "numbers = [1, 2, 3, 4]\n",
    "for num in numbers:\n",
    "    print(num)"
   ]
  },
  {
   "cell_type": "markdown",
   "metadata": {},
   "source": [
    "Otra forma de acceder a los elementos individuales de una lista es con un índice. Cada elemento de una lista tiene un índice que especifica su posición en la lista. La indexación comienza en 0, por lo que el índice del primer elemento es 0, el índice del segundo elemento es 1 y así sucesivamente. El índice del último elemento de una lista es 1 menos que el número de elementos de la lista."
   ]
  },
  {
   "cell_type": "code",
   "execution_count": null,
   "metadata": {},
   "outputs": [],
   "source": [
    "my_list = [10, 20, 30, 40]\n",
    "index = 0\n",
    "while index < 4:\n",
    "    print(my_list[index])\n",
    "    index += 1"
   ]
  },
  {
   "cell_type": "markdown",
   "metadata": {},
   "source": [
    "También se pueden usar índices negativos con listas para identificar las posiciones de los elementos en relación con el final de la lista. El intérprete de `Python` agrega índices negativos a la longitud de la lista para determinar la posición del elemento. El índice -1 identifica el último elemento de una lista, -2 identifica el penúltimo elemento y así sucesivamente. El siguiente código muestra un ejemplo:"
   ]
  },
  {
   "cell_type": "code",
   "execution_count": null,
   "metadata": {},
   "outputs": [],
   "source": [
    "my_list = [10, 20, 30, 40]\n",
    "print(my_list[-1], my_list[-2], my_list[-3], my_list[-4])"
   ]
  },
  {
   "cell_type": "markdown",
   "metadata": {},
   "source": [
    "## 1.3 La función `len`\n",
    "Python tiene una función integrada llamada `len` que devuelve la longitud de una secuencia, como una lista."
   ]
  },
  {
   "cell_type": "code",
   "execution_count": null,
   "metadata": {},
   "outputs": [],
   "source": [
    "my_list = [10, 20, 30, 40]\n",
    "print(len(my_list))"
   ]
  },
  {
   "cell_type": "markdown",
   "metadata": {},
   "source": [
    "Puede usar la función len junto con la función range para obtener los índices de una lista. Por ejemplo, supongamos que tenemos la siguiente lista de cadenas:\n",
    "```\n",
    "names = ['Jenny', 'Kelly', 'Chloe', 'Aubrey']\n",
    "```\n",
    "La expresión `range(len(names))` nos dará los valores 0, 1, 2 y 3. Debido a que estos valores son los índices válidos para la lista, podemos usar la expresión en un bucle `for`, como se muestra en el siguiente código :"
   ]
  },
  {
   "cell_type": "code",
   "execution_count": null,
   "metadata": {},
   "outputs": [],
   "source": [
    "names = ['Jenny', 'Kelly', 'Chloe', 'Aubrey']\n",
    "for index in range(len(names)):\n",
    "    print(names[index])"
   ]
  },
  {
   "cell_type": "markdown",
   "metadata": {},
   "source": [
    "## 1.4 Sobreescitura de valores de las listas\n",
    "Como ya dijimos, las listas en `Python` son mutables, lo que significa que sus elementos se pueden cambiar. En consecuencia, una expresión en la forma `lista[índice]` puede aparecer en el lado izquierdo de un operador de asignación. Cuando se usa una expresión de indexación para asignar un valor a un elemento de lista, se debe usar un índice válido para un elemento existente. Si desea utilizar expresiones de indexación para llenar una lista con valores, primero debe crear la lista"
   ]
  },
  {
   "cell_type": "code",
   "execution_count": null,
   "metadata": {},
   "outputs": [],
   "source": [
    "def main():\n",
    "    sales = [0] * NUM_DAYS\n",
    "\n",
    "    index = 0\n",
    "\n",
    "    print('Ingrese el total de ventas de cada día.')\n",
    "    \n",
    "    while index < NUM_DAYS:\n",
    "        print('Día #', index + 1, ': ', sep='', end='')\n",
    "        sales[index] = float(input())\n",
    "        index += 1\n",
    "\n",
    "    print('Los valores que ingresó fueron:')\n",
    "    for value in sales:\n",
    "        print(value)\n",
    "\n",
    "\n",
    "NUM_DAYS = 5\n",
    "main()"
   ]
  },
  {
   "cell_type": "markdown",
   "metadata": {},
   "source": [
    "## 1.5 Concatenación de listas\n",
    "Concatenar significa unir dos cosas. Se usa el operador `+` o `+=` para concatenar dos listas. "
   ]
  },
  {
   "cell_type": "code",
   "execution_count": null,
   "metadata": {},
   "outputs": [],
   "source": [
    "list1 = [1, 2, 3, 4]\n",
    "list2 = [5, 6, 7, 8]\n",
    "list3 = list1 + list2\n",
    "list1 += list2\n",
    "print(list1)\n",
    "print(list2)\n",
    "print(list3)"
   ]
  },
  {
   "cell_type": "markdown",
   "metadata": {},
   "source": [
    "## 1.5 Segmentación de listas\n",
    "Hemos visto cómo la indexación permite seleccionar un elemento específico en una secuencia. A veces se desea seleccionar más de un elemento de una secuencia. En `Python` se pueden escribir expresiones que seleccionen subsecciones de una secuencia, conocidas como segmentos.\n",
    "Un segmento es un intervalo de elementos que se toman de una secuencia. Cuando toma un segmento de una lista, obtiene una serie de elementos dentro de la lista. Para obtener una porción de una lista, escriba una expresión en el siguiente formato general:\n",
    "```\n",
    "list_name[start : end]\n",
    "list_name[start : end : step]\n",
    "```"
   ]
  },
  {
   "cell_type": "code",
   "execution_count": null,
   "metadata": {},
   "outputs": [],
   "source": [
    "days = ['Sunday', 'Monday', 'Tuesday', 'Wednesday', 'Thursday', 'Friday', 'Saturday']\n",
    "mid_days = days[2:5]\n",
    "print(mid_days)"
   ]
  },
  {
   "cell_type": "code",
   "execution_count": null,
   "metadata": {},
   "outputs": [],
   "source": [
    "numbers = [1, 2, 3, 4, 5, 6, 7, 8, 9, 10]\n",
    "print(numbers[1:3])\n",
    "print(numbers[1:8:3])"
   ]
  },
  {
   "cell_type": "markdown",
   "metadata": {},
   "source": [
    "## 1.6 Búsqueda de elementos en listas con el operador `in`\n",
    "\n",
    "En `Python`, puede usar el operador `in` para determinar si un elemento está contenido en una lista. El formato general de una expresión escrita con el operador `in` para buscar un elemento en una lista es:\n",
    "```python\n",
    "item in list\n",
    "```\n",
    "En el formato general, `item` es el elemento que se está buscando y `list` es una lista. La expresión devuelve verdadero si el elemento se encuentra en la lista o falso en caso contrario."
   ]
  },
  {
   "cell_type": "code",
   "execution_count": null,
   "metadata": {},
   "outputs": [],
   "source": [
    "ID_nums = ['526312','44546','55522','455555']\n",
    "\n",
    "search = input('Ingrese el código de producto: ')\n",
    "\n",
    "if search in ID_nums:\n",
    "    print(search, 'está en la lista.')\n",
    "else:\n",
    "    print(search, 'no está en la lista.')"
   ]
  },
  {
   "cell_type": "markdown",
   "metadata": {},
   "source": [
    "## 1.7 Métodos para listas\n",
    "Las listas tienen numerosos métodos que permiten trabajar con los elementos que contienen. `Python` también proporciona algunas funciones integradas que son útiles para trabajar con listas.\n",
    "\n",
    "|Método   |Descripción|\n",
    "|:--------|:----------|\n",
    "|append() |Añade un elemento al final de la lista.\n",
    "|clear()  |Elimina todos los elementos de la lista.\n",
    "|copy()   |Devuelve una copia de la lista.\n",
    "|count()  |Devuelve el número de elementos con el valor especificado\n",
    "|extend() |Agregue los elementos de una lista (o cualquier iterable), al final de la lista actual\n",
    "|index()  |Devuelve el índice del primer elemento con el valor especificado\n",
    "|insert() |Agrega un elemento en la posición especificada\n",
    "|pop()    |Elimina el elemento en la posición especificada\n",
    "|remove() |Elimina el primer elemento con el valor especificado\n",
    "|reverse()|Invierte el orden de la lista\n",
    "|sort()   |Ordena la lista"
   ]
  },
  {
   "cell_type": "code",
   "execution_count": null,
   "metadata": {},
   "outputs": [],
   "source": [
    "lista = [1,2,3,4,5,7]\n",
    "lista.append(8)\n",
    "print(lista)\n",
    "lista2 = lista.copy()\n",
    "print(lista2)\n",
    "print(lista.count(6))\n",
    "lista.extend(range(9,15))\n",
    "print(lista)\n",
    "print(lista.index(4))\n",
    "lista.insert(5,6)\n",
    "print(lista)\n",
    "lista.pop()\n",
    "print(lista)"
   ]
  },
  {
   "cell_type": "markdown",
   "metadata": {},
   "source": [
    "# 2. Tuplas\n",
    "Una tupla es una secuencia, muy parecida a una lista. La principal diferencia entre tuplas y listas es que las tuplas son inmutables. Eso significa que una vez que se crea una tupla, no se puede cambiar. Las tuplas se crean encerrando sus elementos entre paréntesis."
   ]
  },
  {
   "cell_type": "code",
   "execution_count": null,
   "metadata": {},
   "outputs": [],
   "source": [
    "mi_tupla = ('Andrés','Camila','Simón')\n",
    "\n",
    "for idx in mi_tupla:\n",
    "    print(idx)\n",
    "\n",
    "print('\\n')\n",
    "\n",
    "for idx in range(len(mi_tupla)):\n",
    "    print(mi_tupla[idx])"
   ]
  },
  {
   "cell_type": "markdown",
   "metadata": {},
   "source": [
    "De hecho, las tuplas admiten todas las mismas operaciones que las listas, excepto aquellas que cambian el contenido de la lista. Las tuplas admiten lo siguiente:\n",
    "\n",
    "* Indexación de subíndices (solo para recuperar valores de elementos)\n",
    "* Métodos como `index`\n",
    "* Funciones integradas como `len`, `min` y `max`\n",
    "* Segmentación\n",
    "* El operador `in`\n",
    "* Los operadores `+` y `*`\n",
    "\n",
    "Las tuplas no admiten métodos como `append`, `remove`, `insert`, `reverse` y `sort`."
   ]
  },
  {
   "cell_type": "markdown",
   "metadata": {},
   "source": [
    "Si la única diferencia entre las listas y las tuplas es la inmutabilidad, quizás se pregunte por qué existen las tuplas. Una razón por la que existen las tuplas es el rendimiento. Procesar una tupla es más rápido que procesar una lista, por lo que las tuplas son buenas opciones cuando procesa muchos datos y esos datos no se modificarán. Otra razón es que las tuplas son seguras. Debido a que no se puede cambiar el contenido de una tupla, se pueden almacenar datos en una y estar seguro de que no será modificado (accidentalmente o de otra manera) por ningún código en su programa.\n",
    "Además, hay ciertas operaciones en `Python` que requieren el uso de una tupla. A medida que aprenda más sobre `Python` encontrará tuplas con más frecuencia."
   ]
  },
  {
   "cell_type": "markdown",
   "metadata": {},
   "source": [
    "## 2.1 Conversión entre listas y tuplas\n",
    "Se puede usar las funciones *built-in* `list()` para convertir una tupla en una lista y `tuple()` integrada para convertir una lista en una tupla."
   ]
  },
  {
   "cell_type": "code",
   "execution_count": null,
   "metadata": {},
   "outputs": [],
   "source": [
    "number_tuple = (1, 2, 3) \n",
    "number_list = list(number_tuple) \n",
    "print(number_list) \n",
    "str_list = ['one', 'two', 'three'] \n",
    "str_tuple = tuple(str_list) \n",
    "print(str_tuple) "
   ]
  },
  {
   "cell_type": "markdown",
   "metadata": {},
   "source": [
    "# 3 Secuencias y archivos de texto\n",
    "Algunas tareas pueden requerir guardar el contenido de una lista en un archivo, de modo que los datos se puedan usar más adelante. Así mismo, algunas situaciones pueden requerir leer los datos de un archivo en una lista. \n",
    "Guardar el contenido de una lista en un archivo es un procedimiento sencillo. De hecho, los objetos de archivo de `Python` tienen un método llamado `writelines` que escribe una lista completa en un archivo. Sin embargo, un inconveniente del método es que no escribe automáticamente una nueva línea (`'\\n'`) al final de cada elemento. En consecuencia, cada elemento se escribe en una línea larga del archivo."
   ]
  },
  {
   "cell_type": "code",
   "execution_count": null,
   "metadata": {},
   "outputs": [],
   "source": [
    "# Apertura de archivo para sobreescribir el contenido\n",
    "outfile = open('Material/numeros.txt', 'w')\n",
    "\n",
    "for item in range(1,16):\n",
    "    outfile.write(str(item) + ',' + str(item**2) + '\\n')\n",
    "\n",
    "outfile.close()"
   ]
  },
  {
   "cell_type": "code",
   "execution_count": null,
   "metadata": {},
   "outputs": [],
   "source": [
    "# Apertura de archivo para agregar nuevo contenido al final del archivo\n",
    "outfile = open('Material/numeros.txt', 'a')\n",
    "\n",
    "for item in range(1,16):\n",
    "    outfile.write(str(item) + ',' + str(item**2) + '\\n')\n",
    "\n",
    "outfile.close()"
   ]
  },
  {
   "cell_type": "code",
   "execution_count": null,
   "metadata": {},
   "outputs": [],
   "source": [
    "cities = ['New York', 'Boston', 'Atlanta', 'Dallas']\n",
    "\n",
    "outfile = open('Material/ciudades.txt', 'w')\n",
    "\n",
    "for item in cities:\n",
    "    outfile.write(item + '\\n')\n",
    "\n",
    "outfile.close()"
   ]
  },
  {
   "cell_type": "code",
   "execution_count": null,
   "metadata": {},
   "outputs": [],
   "source": [
    "infile = open('Material/ciudades.txt', 'r')\n",
    "\n",
    "cities = infile.readlines()\n",
    "\n",
    "infile.close()\n",
    "\n",
    "index = 0\n",
    "while index < len(cities):\n",
    "    cities[index] = cities[index].rstrip('\\n')\n",
    "    index += 1\n",
    "\n",
    "print(cities)"
   ]
  },
  {
   "cell_type": "code",
   "execution_count": null,
   "metadata": {
    "scrolled": false
   },
   "outputs": [],
   "source": [
    "import csv; \n",
    "lst = list(tuple(line) for line in csv.reader(open('Material/numeros.csv'))); \n",
    "print(lst)\n",
    "print(type(lst))\n",
    "print(type(lst[1]))"
   ]
  },
  {
   "cell_type": "markdown",
   "metadata": {},
   "source": [
    "# 4. Graficos de datos con el paquete [`matplotlib`](https://matplotlib.org/)\n",
    "El paquete `matplotlib` es una librería para crear cuadros y gráficos bidimensionales. No es parte de la librería estándar de `Python`, por lo que deberá instalarlo por separado, después de haber instalado `Python` usando `pip` o `conda`.\n",
    "\n",
    "```\n",
    "pip install matplotlib\n",
    "conda install -n myenv matplotlib\n",
    "```\n",
    "\n",
    "El paquete `matplotlib` contiene un módulo llamado [`pyplot`](https://matplotlib.org/stable/api/pyplot_summary.html#module-matplotlib.pyplot) que se debe importar para crear todos los gráficos que realizaremos a continuación.\n",
    "\n",
    "## 4.1 Gráficos de líneas\n",
    "\n",
    "El gráfico de líneas se construye con el método [`plot`](https://matplotlib.org/stable/api/_as_gen/matplotlib.pyplot.plot.html). Aunque en un *Notebook* de Jupyter la gráfica aparece al invocar el método, es una mejor práctica invocar el método `show()` cuando se desee mostrar la gráfica."
   ]
  },
  {
   "cell_type": "code",
   "execution_count": null,
   "metadata": {},
   "outputs": [],
   "source": [
    "import matplotlib.pyplot as plt\n",
    "\n",
    "x_coords = [0, 1, 2, 3, 4]\n",
    "y_coords = [0, 3, 1, 5, 2]\n",
    "plt.plot(x_coords, y_coords)\n",
    "plt.show()"
   ]
  },
  {
   "cell_type": "markdown",
   "metadata": {},
   "source": [
    "Por defecto, la gráfica se muestra en color azul, esto se puede cambiar manipulando la propiedad `color` al momento de invocar el método `plot`. Además, existen otro métodos que permiten personalizar las gráficas."
   ]
  },
  {
   "cell_type": "code",
   "execution_count": null,
   "metadata": {},
   "outputs": [],
   "source": [
    "plt.plot(x_coords, y_coords, color = 'k')\n",
    "plt.title('Primera gráfica')\n",
    "plt.xlabel('x')\n",
    "plt.ylabel('f(x)')\n",
    "plt.xlim(xmin = min(x_coords) - 0.1, xmax = max(x_coords) + 0.1)\n",
    "plt.ylim(ymin = min(x_coords) - 0.1, ymax = max(y_coords) + 0.1)\n",
    "plt.show()"
   ]
  },
  {
   "cell_type": "markdown",
   "metadata": {},
   "source": [
    "La especificación de colores se puede hacer de difrentes formas. Estas se pueden consultar en la [documentación](https://matplotlib.org/stable/tutorials/colors/colors.html) de la librería."
   ]
  },
  {
   "cell_type": "code",
   "execution_count": null,
   "metadata": {
    "scrolled": false
   },
   "outputs": [],
   "source": [
    "x_coords = [0, 1, 2, 3, 4]\n",
    "y_coords = [0, 3, 1, 5, 2]\n",
    "\n",
    "plt.plot(x_coords, y_coords, marker = 'o', color = 'xkcd:navy blue')\n",
    "\n",
    "plt.title('Ventas anuales')\n",
    "\n",
    "plt.xlabel('Año')\n",
    "plt.ylabel('Ventas')\n",
    "\n",
    "plt.xticks([0, 1, 2, 3, 4], ['2016', '2017', '2018', '2019', '2020'])\n",
    "plt.yticks([0, 1, 2, 3, 4, 5], ['$0m', '$1m', '$2m', '$3m', '$4m', '$5m'])\n",
    "\n",
    "plt.grid(True)\n",
    "\n",
    "plt.show()"
   ]
  },
  {
   "cell_type": "markdown",
   "metadata": {},
   "source": [
    "## 4.2 Gráficos de barra\n",
    "Puede usar la función `bar` en el módulo `pyplot` para crear un gráfico de barras. Un gráfico de barras tiene un eje $x$ horizontal, un eje $y$ vertical y una serie de barras que normalmente se originan en el eje $x$. Cada barra representa un valor y la altura de la barra es proporcional al valor que representa la barra.\n",
    "Para crear un gráfico de barras, primero debe crear dos listas: una que contenga las coordenadas $x$ de cada barra y otra que contenga las alturas de cada barra a lo largo del eje $y$."
   ]
  },
  {
   "cell_type": "code",
   "execution_count": null,
   "metadata": {},
   "outputs": [],
   "source": [
    "edges = [0, 10, 20, 30, 40]\n",
    "heights = [100, 200, 300, 400, 500]\n",
    "bar_width = 10\n",
    "plt.bar(edges, heights, bar_width, color=('tab:blue','tab:orange','tab:green','tab:red','tab:purple',\n",
    "                                          'tab:brown','tab:pink','tab:gray','tab:olive','tab:cyan'))\n",
    "plt.title('Ventas anuales')\n",
    "plt.xlabel('Año')\n",
    "plt.ylabel('Ventas')\n",
    "plt.xticks([0,10,20,30,40],\n",
    "           ['2016', '2017', '2018', '2019', '2020'])\n",
    "plt.yticks([0, 100, 200, 300, 400, 500],\n",
    "           ['$0m', '$1m', '$2m', '$3m', '$4m', '$5m'])\n",
    "plt.show()"
   ]
  },
  {
   "cell_type": "markdown",
   "metadata": {},
   "source": [
    "## 4.3 Gráficos a partir de archivos `csv`\n",
    "El módulo [`csv`](https://docs.python.org/3/library/csv.html) implementa clases para leer y escribir datos tabulares en formato **CSV**, sin conocer los detalles precisos del formato CSV utilizado por Excel. Es un poco engorroso la lectura de este tipo de archivo, pero más adelante veremos otras formas más adecuadas, usando arreglos de `Numpy` o *dataframes* de `Pandas`.\n",
    "\n",
    "La estructura de apertura y lectura del archivo CSV es:\n",
    "```Python\n",
    "with open(filename, **fmtparams) as alias:\n",
    "```\n",
    "\n",
    "El método `reader` crea un iterable que permite leer datos del archivo CSV cuando este no tiene encabezados. Para que el uso sea exitoso, se debe conocer bien la estructura del archivo CSV y cuáles columnas son las de interés."
   ]
  },
  {
   "cell_type": "code",
   "execution_count": null,
   "metadata": {
    "scrolled": false
   },
   "outputs": [],
   "source": [
    "import csv\n",
    "import matplotlib.pyplot as plt\n",
    "\n",
    "color_list = ('#1f77b4', '#aec7e8', '#ff7f0e', '#ffbb78', '#2ca02c', \n",
    "              '#98df8a', '#d62728', '#ff9896', '#9467bd', '#c5b0d5', \n",
    "              '#8c564b', '#c49c94', '#e377c2', '#f7b6d2', '#7f7f7f', \n",
    "              '#c7c7c7', '#bcbd22', '#dbdb8d', '#17becf', '#9edae5')\n",
    "x = []\n",
    "y = []\n",
    "err = []\n",
    "\n",
    "with open('Material/medicine.csv','r') as csvfile:\n",
    "    plots = csv.reader(csvfile, delimiter = ';')\n",
    "      \n",
    "    for row in plots:\n",
    "        x.append(float(row[0]))\n",
    "        y.append(float(row[2]))\n",
    "        err.append(float(row[3]))\n",
    "\n",
    "plt.bar(x, y, color=color_list,width = 0.85, label = \"Edad promedio\", yerr = err)\n",
    "plt.xlabel('ID medicina')\n",
    "plt.ylabel('Edad (M +/- SD)')\n",
    "plt.title('Edades de usuarios de medicina')\n",
    "plt.xticks(list(range(1,21)), [str(e) for e in list(range(1,21))])\n",
    "plt.legend()\n",
    "plt.show()"
   ]
  },
  {
   "cell_type": "markdown",
   "metadata": {},
   "source": [
    "En caso de que el archivo CSV tenga encabezados de columnas y se vaya a usar el método `reader`, es necesario omitir esta fila del iterable mediante la función `next`. En el siguiente ejemplo, se hace uso además de la función `zip` que, en términos sencillos, transpone los datos adquiridos para así tener los datos por columna en una lista."
   ]
  },
  {
   "cell_type": "code",
   "execution_count": null,
   "metadata": {
    "scrolled": false
   },
   "outputs": [],
   "source": [
    "import csv\n",
    "import matplotlib.pyplot as plt\n",
    "\n",
    "fig, axs = plt.subplots(nrows=1, ncols=2, figsize=(15, 5))\n",
    "filename = 'Material/EEG_data.csv'\n",
    "\n",
    "fields = []\n",
    "data = []\n",
    " \n",
    "with open(filename, 'r') as csvfile:\n",
    "    csvreader = csv.reader(csvfile,delimiter = ';')\n",
    "    fields = next(csvreader)\n",
    "    for row in csvreader:\n",
    "        data.append([float(x) for x in row])\n",
    "\n",
    "all_data = list(zip(*data))\n",
    "\n",
    "axs[0].violinplot(all_data,\n",
    "                  showmeans=False,\n",
    "                  showmedians=True)\n",
    "axs[0].set_title('Violin plot')\n",
    "\n",
    "axs[1].boxplot(all_data)\n",
    "axs[1].set_title('Box plot')\n",
    "\n",
    "for ax in axs:\n",
    "    ax.yaxis.grid(True)\n",
    "    ax.set_xticks([y + 1 for y in range(len(fields))],\n",
    "                  labels=fields)\n",
    "\n",
    "plt.show()"
   ]
  },
  {
   "cell_type": "markdown",
   "metadata": {},
   "source": [
    "Otra forma de leer los datos de archivos CSV es usando el método `DictReader` que permite acceder a cada columna usando su identificador."
   ]
  },
  {
   "cell_type": "code",
   "execution_count": null,
   "metadata": {},
   "outputs": [],
   "source": [
    "import csv\n",
    "import matplotlib.pyplot as plt\n",
    "import statistics\n",
    "\n",
    "glucose = []\n",
    "SpO2 = []\n",
    "\n",
    "with open('Material/MOCK_DATA.csv') as csvfile:\n",
    "    reader = csv.DictReader(csvfile)\n",
    "    for row in reader:\n",
    "        glucose.append(float(row['glucose']))\n",
    "        SpO2.append(float(row['SpO2']))\n",
    "\n",
    "meanG = statistics.mean(glucose)\n",
    "meanS = statistics.mean(SpO2)\n",
    "stdG = statistics.stdev(glucose,mean)\n",
    "stdS = statistics.stdev(glucose,mean)\n",
    "plt.bar(['Glucose','SpO2'], [meanG, meanS], color = ('#1f77b4', '#ff7f0e'), width = 0.55, \n",
    "        label = \"Valor promedio de glucosa y SpO2\", yerr = [stdG, stdS])\n",
    "plt.show()"
   ]
  },
  {
   "attachments": {},
   "cell_type": "markdown",
   "metadata": {},
   "source": [
    "# Mini _challenge_ 6\n",
    "\n",
    "1. En el archivo **client_data.csv** encontrará una base de datos de 1000 personas, separados por `;`. Deberá desarrollar un programa que lea la base de datos y luego pregunte por consola por un número de serie (columna *serial*), buscarlo en la base de datos e imprimir los datos personales de la persona con este ID, siguiendo la estrutura:\n",
    "\n",
    "    <tt> {first_name} {last_name} with ID number {id} lives at {address_street}, {address_line}, works at {company} as {job_title}. You can reach {him/her/them -  depending on gender} at {email} writing in {mother_tongue}.</tt>\n",
    "\n",
    "2. En el archivo **Monthlydata.csv** se registran los niveles mensuales promedio de radiación solar en la ciudad de Edimburgo, Escocia, desde el año 2005 al año 2020. Los nombes de las columnas indican lo siguiente (Source: PVGIS (c) European Union):\n",
    "    - H(h)_m: Irradiation on horizontal plane (kWh/m2/mo) \n",
    "    - H(i_opt)_m: Irradiation on optimally inclined plane (kWh/m2/mo) \n",
    "    - Hb(n)_m: Monthly beam (direct) irradiation on a plane always normal to sun rays (kWh/m2/mo)\n",
    "    - Kd: Ratio of diffuse to global irradiation (-)\n",
    "    - T2m: 24 hour average of temperature (degree Celsius)\n",
    "    \n",
    "    Con estos datos, deberá crear una visualización adecuada para mostrar:\n",
    "    + Evolución en el tiempo de cada variable (gráfica de líneas en diferentes ejes)\n",
    "    + Comparativo de valores promedio por año (gráficos de caja y bigotes)\n",
    "    + Comparativo de valores promedio por mes (gráfico de violín)\n",
    "\n",
    "## Condiciones de entrega\n",
    "Para este Mini *challenge* se debe hacer entrega, a través del aula digital, de un archivo RAR o ZIP con las soluciones a los problemas y que tenga la siguiente estructura:\n",
    "```\n",
    ". \n",
    "└── EntregaMC6\n",
    "    ├── mini_challenge_6.ipynb \n",
    "    └── archivos_csv\n",
    "        ├── client_data.csv\n",
    "        └── Monthlydata.csv\n",
    "```\n",
    "El archivo IPYNB debe contar con lo siguiente:\n",
    "- Un primer bloque en Markdown a manera de portada, con la siguiente información centrada:\n",
    "    * Identificación del curso\n",
    "    * Nombre del estudiante\n",
    "    * Identificación del mini *challenge*\n",
    "    * Fecha\n",
    "- Presentación de cada ejercicio en celda Markdown\n",
    "- Celdas ejecutables con los problemas desarrollados"
   ]
  },
  {
   "cell_type": "markdown",
   "metadata": {},
   "source": [
    "<img src=\"Images/by_nc_sa.svg\" style=\"float:left;width: 50px;\"/> &nbsp; El material de este curso está bajo una licencia Creative Commons [Atribución-NoComercial-CompartirIgual 4.0 Internacional](LICENSE.MD) (CC BY-NC-SA 4.0)"
   ]
  }
 ],
 "metadata": {
  "kernelspec": {
   "display_name": "Python 3 (ipykernel)",
   "language": "python",
   "name": "python3"
  },
  "language_info": {
   "codemirror_mode": {
    "name": "ipython",
    "version": 3
   },
   "file_extension": ".py",
   "mimetype": "text/x-python",
   "name": "python",
   "nbconvert_exporter": "python",
   "pygments_lexer": "ipython3",
   "version": "3.10.9"
  },
  "latex_envs": {
   "LaTeX_envs_menu_present": true,
   "autocomplete": true,
   "bibliofile": "biblio.bib",
   "cite_by": "apalike",
   "current_citInitial": 1,
   "eqLabelWithNumbers": true,
   "eqNumInitial": 1,
   "hotkeys": {
    "equation": "Ctrl-E",
    "itemize": "Ctrl-I"
   },
   "labels_anchors": false,
   "latex_user_defs": false,
   "report_style_numbering": true,
   "user_envs_cfg": true
  },
  "toc": {
   "base_numbering": 1,
   "nav_menu": {},
   "number_sections": true,
   "sideBar": true,
   "skip_h1_title": true,
   "title_cell": "Tabla de Contenidos",
   "title_sidebar": "Contenidos",
   "toc_cell": true,
   "toc_position": {
    "height": "calc(100% - 180px)",
    "left": "10px",
    "top": "150px",
    "width": "165px"
   },
   "toc_section_display": true,
   "toc_window_display": true
  }
 },
 "nbformat": 4,
 "nbformat_minor": 4
}
