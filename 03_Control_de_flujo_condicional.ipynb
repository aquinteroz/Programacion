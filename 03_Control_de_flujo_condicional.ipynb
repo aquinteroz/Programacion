{
 "cells": [
  {
   "cell_type": "markdown",
   "metadata": {
    "slideshow": {
     "slide_type": "notes"
    }
   },
   "source": [
    "<h1 align=\"center\">Programación &#8212; PRE2013A45</h1>\n",
    "<h3 align=\"center\">Docente: Andrés Quintero Zea, PhD.</h3>\n",
    "<h3 align=\"center\">e-mail: andres.quintero27@eia.edu.co</h3>\n",
    "<h3 align=\"center\">Semana 03: Control de flujo condicional</h3>"
   ]
  },
  {
   "cell_type": "markdown",
   "metadata": {},
   "source": [
    "# 1. Estructura condicional: `if`, `else`, `if-else`\n",
    "Las estructuras condicionales se relacionan con las variables **boleanas**, recordemos que hay únicamente 2 tipos de estas variables: `True` y `False`.\n",
    "\n",
    "Con este tipo de variables se pueden realizar múltiples operaciones, ya que `True` equivale a `1` y `False` equivale a `0`, además, el operador `not` cambia una variable de `True` a `False` y viceversa."
   ]
  },
  {
   "cell_type": "code",
   "execution_count": null,
   "metadata": {},
   "outputs": [],
   "source": [
    "a = True\n",
    "b = False\n",
    "print(a)\n",
    "print(b)\n",
    "print(not a)\n",
    "print(not b)\n",
    "print(True + True)\n",
    "print(False * True)\n",
    "print(- False - False)\n",
    "print(3 * True)"
   ]
  },
  {
   "cell_type": "markdown",
   "metadata": {},
   "source": [
    "Existen operadores adicionales que están específicamente diseñadors para variables booleanas. El primero de ellos es el operador `and` ('y' en inglés). La sintaxis del operador `and` es la siguiente:\n",
    "```Python\n",
    "a and b\n",
    "```\n",
    "donde `a` y `b` son variables booleanas. El resultado de esta operación es otra variable booleana que será `True` siempre que `a` **Y** `b` sean también `True`. Veamos algunos ejemplos:"
   ]
  },
  {
   "cell_type": "code",
   "execution_count": null,
   "metadata": {},
   "outputs": [],
   "source": [
    "print(True and True)\n",
    "print(True and False)\n",
    "print(False and True)\n",
    "print(False and False)"
   ]
  },
  {
   "cell_type": "markdown",
   "metadata": {},
   "source": [
    "También puedes concatenar múltiples variables booleanas entre operadores `and`"
   ]
  },
  {
   "cell_type": "code",
   "execution_count": null,
   "metadata": {},
   "outputs": [],
   "source": [
    "a, b, c, d = True, True, True, False\n",
    "print(a and b and c)\n",
    "print(a and b and d)"
   ]
  },
  {
   "cell_type": "markdown",
   "metadata": {},
   "source": [
    "Otro operador booleano es el operador `or` (\"o\" en inglés). De la misma forma, su sintaxis es la siguiente\n",
    "```Python\n",
    "a or b\n",
    "```\n",
    "donde `a` y `b` son variables booleanas. El resultado de esta operación es otra variable booleana que será `True` siempre que `a` **O** `b` sean también `True` (por lo menos uno de ellos debe ser `True`). Aquí tienes algunos ejemplos:"
   ]
  },
  {
   "cell_type": "code",
   "execution_count": null,
   "metadata": {},
   "outputs": [],
   "source": [
    "print(True or True)\n",
    "print(True or False)\n",
    "print(False or True)\n",
    "print(False or False)\n",
    "a, b, c, d = False, False, False, True\n",
    "print(a or b or c)\n",
    "print(a or b or d)"
   ]
  },
  {
   "cell_type": "markdown",
   "metadata": {},
   "source": [
    "Los operadores `and` y `or` se pueden combinar en la misma \"sentencia booleana\". En ese caso, el operador `and` tiene prioridad por encima del `or` y por tanto se evaluará primero. Algunos ejemplos:"
   ]
  },
  {
   "cell_type": "code",
   "execution_count": null,
   "metadata": {},
   "outputs": [],
   "source": [
    "print(False or True and False)\n",
    "print(False or False and True or False)"
   ]
  },
  {
   "cell_type": "markdown",
   "metadata": {},
   "source": [
    "Otra forma de generar variables booleanas es con los **operadores de comparación**: `>, <, >=, <=, ==, !=`. Por ejemplo:"
   ]
  },
  {
   "cell_type": "code",
   "execution_count": null,
   "metadata": {},
   "outputs": [],
   "source": [
    "print(2 > 1)\n",
    "print(9 < 5)\n",
    "\n",
    "print(2 >= 1)\n",
    "print(9 <= 5)\n",
    "print(2 <= 2)\n",
    "print(-1 >= -1)\n",
    "\n",
    "print(1 == 2)\n",
    "print(4.55555 == 4.55556)\n",
    "print(1 == 1)\n",
    "print(1 == 1.0)\n",
    "\n",
    "print(1 != 2)\n",
    "print(4.5555 != 4.5556)\n",
    "print(1 != 1)\n",
    "print(1 != 1.0)"
   ]
  },
  {
   "cell_type": "markdown",
   "metadata": {},
   "source": [
    "Las relaciones de comparación también se pueden establecer entre **strings**. Un string `s1` será considerado menor que otro string `s2` si `s1` aparecería antes que `s2` en el diccionario. Veamos algunos ejemplos:"
   ]
  },
  {
   "cell_type": "code",
   "execution_count": null,
   "metadata": {},
   "outputs": [],
   "source": [
    "print('aaaaa' < 'bbbbb')\n",
    "print('alphabet' > 'zebra')\n",
    "print('cactus' == 'cacti')"
   ]
  },
  {
   "cell_type": "markdown",
   "metadata": {},
   "source": [
    "Como curiosidad, cualquier letra mayúscula se considera que aparecería **antes** en el diccionario que las letras minúsculas, por ello ocurren los siguientes resultados al comparar palabras con letras mayúsculas y/o minúsculas:"
   ]
  },
  {
   "cell_type": "code",
   "execution_count": null,
   "metadata": {},
   "outputs": [],
   "source": [
    "print('AAAAA' < 'bbbbb')\n",
    "print('alphabet' > 'Zebra')\n",
    "print('library' == 'librarY')"
   ]
  },
  {
   "cell_type": "markdown",
   "metadata": {},
   "source": [
    "Por qué todos estos operadores booleanos y operadores de comparación son importantes al programar? Porque permiten la elaboración de estructuras condicionales. Una estructura condicional en Python viene dada por la operación `if`, cuya sintaxis es la siguiente:\n",
    "```Python\n",
    "if condición:\n",
    "    código\n",
    "```\n",
    "donde `condición` es una expresión booleana que debe ser `True` para que se ejecute el `código`. Fíjate en que las instrucciones que dependen de esa estrucutra condicional deben estar **sangradas** (tabuladas hacia la derecha). También **debes añadir dos puntos `:` tras la condición**. Fíjate en los siguientes dos ejemplos:"
   ]
  },
  {
   "cell_type": "code",
   "execution_count": null,
   "metadata": {},
   "outputs": [],
   "source": [
    "if True:\n",
    "    print(\"Esta es una expresión verdadera.\")\n",
    "if False:\n",
    "    print(\"Esta es una expresión falsa.\")"
   ]
  },
  {
   "cell_type": "markdown",
   "metadata": {},
   "source": [
    "Cuando la condición es `False`, las instrucciones que están indentadas no se evalúan (no ocurren). Veamos un ejemplo más para ver cómo funciona el sangrado:"
   ]
  },
  {
   "cell_type": "code",
   "execution_count": null,
   "metadata": {},
   "outputs": [],
   "source": [
    "print('Uno')\n",
    "if True:\n",
    "      print('Dos')\n",
    "print('Tres')\n",
    "if False:\n",
    "      print('Cuatro')\n",
    "print('Cinco')"
   ]
  },
  {
   "cell_type": "markdown",
   "metadata": {},
   "source": [
    "`Uno`, `Tres` y `Cinco` se muestran por pantalla porque no dependen de ninguna estructura condicional (no están sangrados). `Dos` se muestra porque depende de una estructura condicional cuya condición es `True`. Finalmente, `Cuatro` no se muestra porque depende de una estructura condicional cuya condición es `False`. Cualquier cosa que dependa de una estructura condicional debe estar sangrada. \n",
    "Puedes tener estructuras condicionales dentro de otras estructuras condicionales:"
   ]
  },
  {
   "cell_type": "code",
   "execution_count": null,
   "metadata": {},
   "outputs": [],
   "source": [
    "if True:\n",
    "    print(1)\n",
    "    if False:\n",
    "        print(2)\n",
    "    if True:\n",
    "        print(3)\n",
    "    print(4)\n",
    "if False:\n",
    "    print(5)\n",
    "    if True:\n",
    "        print(6)"
   ]
  },
  {
   "cell_type": "markdown",
   "metadata": {},
   "source": [
    "¿Entiendes por qué sólo se han mostrado los números 1, 3 y 4?\n",
    "Ahora veamos algunos ejemplos con los operadores de comparación que hemos visto antes, puedes adivinar cuáles de los siguientes strings se mostrarán por pantalla?"
   ]
  },
  {
   "cell_type": "code",
   "execution_count": null,
   "metadata": {},
   "outputs": [],
   "source": [
    "if 3 > 4:\n",
    "      print('Uno')\n",
    "if True and False:\n",
    "      print('Dos')\n",
    "if 8 >= 9 or 5 < 6:\n",
    "      print('Tres')\n",
    "if 4 == 4.0:\n",
    "      print('Cuatro')\n",
    "if not True:\n",
    "    print('Cinco')\n",
    "if 3 != 4:\n",
    "      print('Seis')"
   ]
  },
  {
   "cell_type": "markdown",
   "metadata": {},
   "source": [
    "La estructura condicional tiene dos extensiones con respecto a la que acabas de ver. La primera de ellas es la operación `else`, cuya sintaxis es la siguiente:\n",
    "```Python\n",
    "if condición:\n",
    "    código 1\n",
    "else:\n",
    "    código 2\n",
    "```\n",
    "Básicamente, esta estructura va a ejecutar `código 2` en caso de que la `condición` sea `False`. En el caso en que la `condición` sea `True`, la estructura seguirá ejecutando `código 1`. **Debes añadir dos puntos `:` detrás de la `condición` y detrás de `else`**. Veamos algunos ejemplos:"
   ]
  },
  {
   "cell_type": "code",
   "execution_count": null,
   "metadata": {},
   "outputs": [],
   "source": [
    "if True:\n",
    "    print('Plan A')\n",
    "else:\n",
    "    print('Plan B')\n",
    "    \n",
    "temperatura = 25\n",
    "if temperatura < 0:\n",
    "    print('¡Hace mucho frío!')\n",
    "else:\n",
    "    print('Se está bien')"
   ]
  },
  {
   "cell_type": "markdown",
   "metadata": {},
   "source": [
    "Eso es útil, pero en muchas ocasiones las cosas no se dividen en frío o caliente, existen puntos intermedios. Para ello es por lo que se añade la segunda extensión a la estructura `if-else`. Vamos a introducir el operador `elif` (**no confundir con la telenovela turca**), con la siguiente sintaxis:\n",
    "```Python\n",
    "if condición_1:\n",
    "    código 1\n",
    "elif condición_2:\n",
    "    código 2\n",
    "else:\n",
    "    código 3\n",
    "```\n",
    "En este caso, si la `condición_1` es `True`, se ejecutará el `código 1`. En caso de que `condición_1` sea `False`, **si la `condición_2` es `True`**, entonces se ejecutará el `código 2`. Finalmente, tanto si la `condición_1` como la `condición_2` son `False`, entonces se ejecutará el `código 3` de la parte del `else`. **Recuerda añadir los dos puntos `:`**. Veamos cómo funciona el operador `elif` haciendo una extensión del código de la temperatura que acabamos de ver:"
   ]
  },
  {
   "cell_type": "code",
   "execution_count": null,
   "metadata": {},
   "outputs": [],
   "source": [
    "temperatura = 15\n",
    "if temperatura < 0: \n",
    "    print('¡Hace mucho frío!')\n",
    "elif temperatura < 10:\n",
    "    print('El ambiente es fresco')\n",
    "elif temperatura < 20:\n",
    "    print('Se está bien')\n",
    "else:\n",
    "    print('Hace calor')"
   ]
  },
  {
   "cell_type": "markdown",
   "metadata": {},
   "source": [
    "# 2. Estructura selectiva: `match-case`\n",
    "<div class=\"alert alert-block alert-danger\">\n",
    "En este apartado se usan funciones que están disponibles únicamente a partir de la versión <b>3.10</b>\n",
    "</div>\n",
    "\n",
    "A partir de la versión 3.10 de Python, se añadió la posibilidad de utilizar el condicional `match` (switch). Son similares a los condicionales `if`, pero sirven para simplificar comparaciones donde tenemos que escribir muchos `elif`. Puede consultar la [documentación](https://peps.python.org/pep-0622/) de la estructura `match-case`."
   ]
  },
  {
   "cell_type": "code",
   "execution_count": null,
   "metadata": {},
   "outputs": [],
   "source": [
    "error = input('Introduzca un código de error:\\n')\n",
    " \n",
    "match error:\n",
    "    case \"200\":\n",
    "        print('Todo ok.')\n",
    "    case \"301\":\n",
    "        print('Movimiento permanente de la página.')\n",
    "    case \"302\":\n",
    "        print('Movimiento temporal de la página.')\n",
    "    case \"404\":\n",
    "        print('Página no encontrada.')\n",
    "    case \"500\":\n",
    "        print('Error interno del servidor.')\n",
    "    case \"503\":\n",
    "        print('Servicio no disponible.')\n",
    "    case _:\n",
    "        print('Error no disponible.')"
   ]
  },
  {
   "cell_type": "markdown",
   "metadata": {},
   "source": [
    "**Combinación de múltiples opciones**\n",
    "\n",
    "En el caso de que una acción se deba ejecutar para más de un valor no es necesario repetir varios case, ya que se puede usar el operador `|` para indicar más de una opción."
   ]
  },
  {
   "cell_type": "code",
   "execution_count": null,
   "metadata": {},
   "outputs": [],
   "source": [
    "name = input(\"¿Cuál es su nombre?\\n\")\n",
    "\n",
    "match name.title(): \n",
    "    case \"Harry\" | \"Hermione\" | \"Ron\":\n",
    "        print(\"Gryffindor\")\n",
    "    case \"Draco\":\n",
    "        print(\"Slytherin\")\n",
    "    case _:\n",
    "        print(\"No te reconozco\")"
   ]
  },
  {
   "cell_type": "markdown",
   "metadata": {},
   "source": [
    "# 3. Algo *Pythonic*\n",
    "En el mundo de la programación, existen tipos de programación que se denominan \"*Pythonic*\" por naturaleza. Es decir, hay formas de programar que a veces solo se ven en la programación de `Python`. Como punto de partida, considere lo siguiente:"
   ]
  },
  {
   "cell_type": "code",
   "execution_count": null,
   "metadata": {},
   "outputs": [],
   "source": [
    "# Ejemplo un-Pythonic\n",
    "\n",
    "def main():\n",
    "    x = int(input(\"Ingrese el valor de 'x'\\n\"))\n",
    "    if es_par(x):\n",
    "        print(\"Par\")\n",
    "    else:\n",
    "        print(\"Impar\")\n",
    "\n",
    "\n",
    "def es_par(n):\n",
    "    if n % 2 == 0:\n",
    "        return True\n",
    "    else:\n",
    "        return False\n",
    "\n",
    "main()"
   ]
  },
  {
   "cell_type": "markdown",
   "metadata": {},
   "source": [
    "La función `es_par()` se puede mejorar en una forma más *Pythonic*, así:"
   ]
  },
  {
   "cell_type": "code",
   "execution_count": null,
   "metadata": {},
   "outputs": [],
   "source": [
    "def main():\n",
    "    x = int(input(\"Ingrese el valor de 'x'\\n\"))\n",
    "    if es_par(x):\n",
    "        print(\"Par\")\n",
    "    else:\n",
    "        print(\"Impar\")\n",
    "\n",
    "\n",
    "def es_par(n):\n",
    "    return True if n % 2 == 0 else False\n",
    "\n",
    "\n",
    "main()"
   ]
  },
  {
   "cell_type": "markdown",
   "metadata": {},
   "source": [
    "Y finalmente, una versión más *Pythonic* aún:"
   ]
  },
  {
   "cell_type": "code",
   "execution_count": null,
   "metadata": {},
   "outputs": [],
   "source": [
    "def main():\n",
    "    x = int(input(\"Ingrese el valor de 'x'\\n\"))\n",
    "    if es_par(x):\n",
    "        print(\"Par\")\n",
    "    else:\n",
    "        print(\"Impar\")\n",
    "\n",
    "\n",
    "def es_par(n):\n",
    "    return n % 2 == 0\n",
    "\n",
    "\n",
    "main()"
   ]
  },
  {
   "cell_type": "markdown",
   "metadata": {},
   "source": [
    "# Mini _challenge_ 3\n",
    "\n",
    "1. Escriba un programa que:\n",
    "    * Le solicite al usuario su peso y su estatura.\n",
    "    * Calcule su índice de masa corporal.\n",
    "    * Indique el valor del índice y si este es considerado bajo (menor que 18.5), normal (entre 18.5 y 25) o alto (mayor o igual que 25).\n",
    "\n",
    "\n",
    "2. Un tipo de medio (también conocido como tipo MIME y/o tipo de contenido) es un identificador de **dos partes** para formatos de archivo transmitidos por Internet. Escriba un programa que pida una extensión y devuelva el tipo MIME. Para que el programa no sea muy extenso, considere únicamente las siguientes extensiones: `.doc`, `.gif`, `.jpg`, `.jpeg`, `.png`, `.pdf`, `.ppt`, `.rar`, `.txt` y `.zip`. En caso de que la extensión no pertenezca a la lista, deberá retornar el tipo MIME por defecto:\n",
    "```\n",
    "application/octet-stream\n",
    "```\n",
    "Puede consultar los tipos MIME en el siguiente [enlace](https://developer.mozilla.org/es/docs/Web/HTTP/Basics_of_HTTP/MIME_types/Common_types).\n",
    "\n",
    "\n",
    "3. Suponga que está en un país donde se acostumbra desayunar entre las 7:00 y las 8:00, almorzar entre las 12:00 y las 13:00 y cenar entre las 18:00 y las 19:00. Implemente un programa que solicite al usuario una hora y le indique si es la hora del desayuno, la hora del almuerzo y la hora de la cena. Si no es hora de comer, debe salir un mensaje que así lo establezca. Suponga que la entrada del usuario se formateará en formato de 24 horas como `##:##`. Y suponga que el rango de tiempo de cada comida es inclusivo. Por ejemplo, ya sean las 7:00, las 7:01, las 7:59 o las 8:00, o en cualquier momento intermedio, es hora de desayunar.\n",
    "\n",
    "    Estructure su programa según lo siguiente, donde convert es una función que puede ser llamada por `main` y que convierte el tiempo, una cadena en formato de 24 horas, al número correspondiente de horas como un *float*. Por ejemplo, dada una hora como \"7:30\" (es decir, 7 horas y 30 minutos), `convert` debería devolver 7.5 (es decir, 7.5 horas).\n",
    "    \n",
    "```python\n",
    "def main():\n",
    "    # TODO\n",
    "    # Solicitar datos y mostrar salida\n",
    "\n",
    "def convert(time):\n",
    "    '''\n",
    "    #TODO docstring\n",
    "    '''\n",
    "    # TODO\n",
    "    # Convertir la hora en formato 24H a float\n",
    "    # TIP: consultar el método split() para variables tipo str\n",
    "\n",
    "main()\n",
    "```\n",
    "    \n",
    "## Condiciones de entrega\n",
    "Para este Mini *challenge* se debe hacer entrega, a través del aula digital, de un archivo IPYNB con las soluciones a los problemas.\n",
    "El archivo IPYNB debe contar con lo siguiente:\n",
    "- Un primer bloque en Markdown a manera de portada, con la siguiente información centrada:\n",
    "    * Identificación del curso\n",
    "    * Nombre del estudiante\n",
    "    * Identificación del mini *challenge*\n",
    "    * Fecha\n",
    "- Presentación de cada ejercicio en celda Markdown\n",
    "- Para el ejercicio 3, el *docstring* de la función `convert`\n",
    "- Celdas ejecutables con la solución de cada ejercicio "
   ]
  },
  {
   "cell_type": "markdown",
   "metadata": {},
   "source": [
    "<img src=\"Images/by_nc_sa.svg\" style=\"float:left;width: 50px;\"/> &nbsp; El material de este curso está bajo una licencia Creative Commons [Atribución-NoComercial-CompartirIgual 4.0 Internacional](LICENSE.MD) (CC BY-NC-SA 4.0)"
   ]
  }
 ],
 "metadata": {
  "kernelspec": {
   "display_name": "Python 3 (ipykernel)",
   "language": "python",
   "name": "python3"
  },
  "language_info": {
   "codemirror_mode": {
    "name": "ipython",
    "version": 3
   },
   "file_extension": ".py",
   "mimetype": "text/x-python",
   "name": "python",
   "nbconvert_exporter": "python",
   "pygments_lexer": "ipython3",
   "version": "3.10.8"
  },
  "latex_envs": {
   "LaTeX_envs_menu_present": true,
   "autocomplete": true,
   "bibliofile": "biblio.bib",
   "cite_by": "apalike",
   "current_citInitial": 1,
   "eqLabelWithNumbers": true,
   "eqNumInitial": 1,
   "hotkeys": {
    "equation": "Ctrl-E",
    "itemize": "Ctrl-I"
   },
   "labels_anchors": false,
   "latex_user_defs": false,
   "report_style_numbering": true,
   "user_envs_cfg": true
  },
  "toc": {
   "base_numbering": 1,
   "nav_menu": {},
   "number_sections": true,
   "sideBar": true,
   "skip_h1_title": true,
   "title_cell": "Tabla de Contenidos",
   "title_sidebar": "Contenidos",
   "toc_cell": true,
   "toc_position": {
    "height": "calc(100% - 180px)",
    "left": "10px",
    "top": "150px",
    "width": "165px"
   },
   "toc_section_display": true,
   "toc_window_display": true
  }
 },
 "nbformat": 4,
 "nbformat_minor": 2
}
