{
 "cells": [
  {
   "cell_type": "markdown",
   "metadata": {
    "slideshow": {
     "slide_type": "notes"
    }
   },
   "source": [
    "<h1 align=\"center\">Programación &#8212; PRE2013A45</h1>\n",
    "<h3 align=\"center\">Docente: Andrés Quintero Zea, PhD.</h3>\n",
    "<h3 align=\"center\">e-mail: andres.quintero27@eia.edu.co</h3>\n",
    "<h3 align=\"center\">Semana 08: Diccionarios y Conjuntos</h3>"
   ]
  },
  {
   "cell_type": "markdown",
   "metadata": {},
   "source": [
    "# 1. Diccionarios"
   ]
  },
  {
   "cell_type": "markdown",
   "metadata": {},
   "source": [
    "Los **diccionarios** son un tipo contenedor, como lo son las listas o las tuplas. La principal característica que los diferencia de otros tipos contenedor es que los valores contenidos en un diccionario están *indexados* mediante claves. Esto significa que para acceder a un valor contenido en un diccionario, debemos conocer la clave correspondiente, de manera parecida a como para acceder a un elemento concreto de una lista o una tupla necesitamos conocer la posición que ocupa dicho elemento.\n",
    "\n",
    "A diferencia de las listas y las tuplas, en las que las posiciones que ocupan los elementos están implícitas en la propia definición de la lista, en los diccionarios debemos especificar explícitamente una clave para cada elemento.\n",
    "\n",
    "Veamos algunos ejemplos de inicialización y acceso a elementos de un diccionario, comparándolo con una tupla:"
   ]
  },
  {
   "cell_type": "code",
   "execution_count": null,
   "metadata": {},
   "outputs": [],
   "source": [
    "datos_personales_tupla = (\"Pepito\", \"Pérez\", 24, 1.75, 72.3)\n",
    "# Acceso al elemento indexado en la posición 0\n",
    "print(datos_personales_tupla[0])\n",
    "\n",
    "datos_personales_diccionario = {\"nombre\": \"Pepito\", \"apellidos\": \"Pérez\", \"edad\": 24, \"altura\": 1.75, \"peso\": 72.3}\n",
    "# Acceso al elemento indexado con la clave \"nombre\"\n",
    "print(datos_personales_diccionario[\"nombre\"])"
   ]
  },
  {
   "cell_type": "markdown",
   "metadata": {},
   "source": [
    "Tal como se ve en el ejemplo, los diccionarios son una alternativa al uso de tuplas para representar información heterogénea sobre algún tipo de entidad. La ventaja fundamental es que mientras la tupla nos obliga a recordar la posición que ocupa cada uno de los datos de la entidad, para poder utilizarla en el resto del código, el acceso a los datos a través del diccionario se hace mediante claves que son más fáciles de recordar, repercutiendo en un código más legible. \n",
    "\n",
    "Los diccionarios son **mutables**, lo que significa que podemos añadir o eliminar parejas clave-valor, como veremos más adelante. Los valores pueden ser de cualquier tipo; sin embargo, **las claves deben ser obligatoriamente de algún tipo inmutable**. Lo más frecuente es que sean cadenas o números, o bien tuplas formadas por cadenas y/o números. "
   ]
  },
  {
   "cell_type": "markdown",
   "metadata": {
    "collapsed": true
   },
   "source": [
    "## 1.1. Inicialización de diccionarios"
   ]
  },
  {
   "cell_type": "markdown",
   "metadata": {},
   "source": [
    "Existen múltiples opciones para inicializar un diccionario. A continuación se muestran distintos ejemplos:"
   ]
  },
  {
   "cell_type": "code",
   "execution_count": null,
   "metadata": {},
   "outputs": [],
   "source": [
    "# 1. Diccionario vacío, mediante función dict\n",
    "diccionario = dict()  \n",
    "print(\"1:\", diccionario)\n",
    "\n",
    "# 2. Diccionario vacío, mediante llaves\n",
    "diccionario = {}      # Diccionario vacío\n",
    "print(\"2:\", diccionario)\n",
    "\n",
    "# 3. Mediante una secuencia de tuplas, de dos elementos cada tupla (cada tupla representa una pareja clave-valor)\n",
    "diccionario = dict([(\"clave1\", \"valor1\"), (\"clave2\", \"valor2\"), (\"clave3\", \"valor3\")])\n",
    "print(\"3:\", diccionario)\n",
    "\n",
    "# 4. También podemos pasar cada pareja clave-valor como un parámetro por nombre a la función dict.\n",
    "# En este caso, las claves siempre serán cadenas\n",
    "diccionario = dict(clave1 = \"valor1\", clave2 = \"valor2\", clave3 = \"valor3\")\n",
    "print(\"4:\", diccionario)\n",
    "\n",
    "# 5. Si tenemos las claves y las tuplas en dos secuencias, podemos usar zip\n",
    "claves = [\"clave1\", \"clave2\", \"clave3\"]\n",
    "valores = [\"valor1\", \"valor2\", \"valor3\"]\n",
    "diccionario = dict(zip(claves, valores))\n",
    "print(\"5:\", diccionario)\n",
    "\n",
    "# 6. Mediante las llaves, podemos especificar una serie de parejas clave-valor\n",
    "# Esta es quizás la opción más frecuente cuando se quiere inicializar un diccionario con unos valores conocidos.\n",
    "diccionario = {\"clave1\": \"valor1\", \"clave2\": \"valor2\", \"clave3\": \"valor3\"}\n",
    "print(\"6:\", diccionario)"
   ]
  },
  {
   "cell_type": "markdown",
   "metadata": {},
   "source": [
    "Aunque al mostrar los diccionarios las claves y valores asociados aparecen en el mismo orden en que fueron escritos al inicializar el diccionario, dichas parejas clave-valor no tienen un orden determinado dentro del diccionario. Por tanto, **dos diccionarios serán iguales si tienen las mismas parejas**, independientemente del orden en que fueran insertadas en el diccionario:"
   ]
  },
  {
   "cell_type": "code",
   "execution_count": null,
   "metadata": {},
   "outputs": [],
   "source": [
    "diccionario2 = {\"clave2\": \"valor2\", \"clave3\": \"valor3\", \"clave1\": \"valor1\"}\n",
    "print(\"¿Son iguales diccionario y diccionario2?\", diccionario == diccionario2)"
   ]
  },
  {
   "cell_type": "markdown",
   "metadata": {},
   "source": [
    "En los ejemplos anteriores tanto las claves como los valores son de tipo cadena. Por supuesto, podemos usar otros tipos, tanto para las claves como para los valores (recordando que los tipos de las claves deben ser inmutables, como señalamos antes). Es frecuente que los valores sean a su vez de algún tipo de contenedor. Por ejemplo:\n",
    "```python\n",
    "# Glosario de un libro, indicando las páginas en las que aparecen distintos conceptos\n",
    "# Las claves son de tipo cadena y los valores de tipo lista\n",
    "glosario = {'programación estructurada': [14,15,18,24,85,86], 'funciones': [2,3,4,8,9,10,11,14,15,18], ...}\n",
    "```"
   ]
  },
  {
   "cell_type": "markdown",
   "metadata": {},
   "source": [
    "## 1.2. Operaciones con diccionarios"
   ]
  },
  {
   "cell_type": "markdown",
   "metadata": {},
   "source": [
    "Repasaremos en esta sección las operaciones más comunes con diccionarios.\n",
    "\n",
    "Para **acceder a un valor a partir de una clave**, podemos utilizar los corchetes (de forma parecida a como accedemos a los elementos de una lista) o el método get:"
   ]
  },
  {
   "cell_type": "code",
   "execution_count": null,
   "metadata": {},
   "outputs": [],
   "source": [
    "diccionario = {\"clave1\": \"valor1\", \"clave2\": \"valor2\", \"clave3\": \"valor3\"}\n",
    "\n",
    "# 1. Acceso a un valor a partir de una clave mediante corchetes o mediante método get\n",
    "print(\"1. El valor asociado a clave1 es\", diccionario[\"clave1\"])\n",
    "print(\"1. El valor asociado a clave1 es\", diccionario.get(\"clave1\"))\n",
    "\n",
    "\n",
    "# 2. Si utilizo en los corchetes una clave que no existe en el diccionario, se produce un error\n",
    "# Descomenta la instrucción de abajo si quieres comprobarlo\n",
    "# print(\"2. El valor asociado a clave4 es\", diccionario[\"clave4\"])\n",
    "\n",
    "# 3. Sin embargo, si utilizo el método get con una clave no existente, obtengo un valor por defecto (None):\n",
    "print(\"3. El valor asociado a clave4 es\", diccionario.get(\"clave4\"))\n",
    "\n",
    "# 4. Podemos cambiar el valor por defecto que devuelve get cuando no encuentra una clave, mediante un segundo parámetro:\n",
    "print(\"4. El valor asociado a clave4 es\", diccionario.get(\"clave4\",\"No existe\"))"
   ]
  },
  {
   "cell_type": "markdown",
   "metadata": {},
   "source": [
    "---\n",
    "Para **añadir una nueva pareja clave-valor** o **modificar el valor para una clave ya existente** podemos usar una instrucción de asignación, junto con el operador de acceso anterior (los corchetes):"
   ]
  },
  {
   "cell_type": "code",
   "execution_count": null,
   "metadata": {},
   "outputs": [],
   "source": [
    "# Inserción de una nueva pareja\n",
    "diccionario[\"clave4\"] = \"valor4\"\n",
    "\n",
    "# Modificación del valor para una clave existente\n",
    "diccionario[\"clave1\"] = \"valor1_modificado\"\n",
    "\n",
    "print(diccionario)"
   ]
  },
  {
   "cell_type": "markdown",
   "metadata": {},
   "source": [
    "---\n",
    "Si queremos **volcar toda la información contenida en un diccionario en otro diccionario**, usaremos el método *update*. Debemos tener en cuenta que al hacer esto puede que estemos sobrescribiendo los valores asociados a algunas claves del diccionario que estamos actualizando; esto ocurrirá cuando en el diccionario que estamos volcando haya claves iguales a las claves del diccionario que estamos actualizando:"
   ]
  },
  {
   "cell_type": "code",
   "execution_count": null,
   "metadata": {},
   "outputs": [],
   "source": [
    "diccionario2 = {\"clave4\": \"valor4_modificado\", \"clave5\": \"valor5\", \"clave6\": \"valor6\"}\n",
    "\n",
    "diccionario.update(diccionario2)\n",
    "print(diccionario)"
   ]
  },
  {
   "cell_type": "markdown",
   "metadata": {},
   "source": [
    "---\n",
    "Si usamos la función predefinida *len* sobre un diccionario, **obtenemos el número de parejas clave-valor que contiene el diccionario**:"
   ]
  },
  {
   "cell_type": "code",
   "execution_count": null,
   "metadata": {},
   "outputs": [],
   "source": [
    "print(\"Número de items que tiene el diccionario:\", len(diccionario))"
   ]
  },
  {
   "cell_type": "markdown",
   "metadata": {},
   "source": [
    "---\n",
    "Para **eliminar una pareja clave-valor**, utilizamos la instrucción *del*:"
   ]
  },
  {
   "cell_type": "code",
   "execution_count": null,
   "metadata": {},
   "outputs": [],
   "source": [
    "# Borrado de una pareja clave-valor\n",
    "del diccionario[\"clave4\"]\n",
    "print(diccionario)\n",
    "\n",
    "# Si intento borrar una clave inexistente, obtengo un error\n",
    "del diccionario[\"clave4\"]"
   ]
  },
  {
   "cell_type": "markdown",
   "metadata": {},
   "source": [
    "Podemos **borrar todo el contenido de un diccionario**, mediante el método clear:"
   ]
  },
  {
   "cell_type": "code",
   "execution_count": null,
   "metadata": {},
   "outputs": [],
   "source": [
    "diccionario.clear()\n",
    "print(diccionario)"
   ]
  },
  {
   "cell_type": "markdown",
   "metadata": {},
   "source": [
    "---\n",
    "En ocasiones necesitaremos realizar alguna tarea utilizando únicamente las claves o los valores de un diccionario. Para **obtener todas las claves o los valores** de un diccionario usaremos los métodos *keys* y *values*:"
   ]
  },
  {
   "cell_type": "code",
   "execution_count": null,
   "metadata": {},
   "outputs": [],
   "source": [
    "diccionario = {\"clave1\": \"valor1\", \"clave2\": \"valor2\", \"clave3\": \"valor3\"}\n",
    "print(diccionario.keys())\n",
    "print(diccionario.values())"
   ]
  },
  {
   "cell_type": "markdown",
   "metadata": {},
   "source": [
    " Las claves o los valores se obtienen encapsulados en un objeto especial. Lo único que debemos saber de estos objetos es que son iterables, es decir, que podemos recorrerlos en un bucle *for* (lo veremos más adelante), o utilizarlos para inicializar una lista, por ejemplo. "
   ]
  },
  {
   "cell_type": "markdown",
   "metadata": {},
   "source": [
    "También podemos **obtener las parejas clave-valor**, en forma de tuplas, mediante el método *items*:"
   ]
  },
  {
   "cell_type": "code",
   "execution_count": null,
   "metadata": {},
   "outputs": [],
   "source": [
    "print(diccionario.items())"
   ]
  },
  {
   "cell_type": "markdown",
   "metadata": {},
   "source": [
    "---\n",
    "Para acabar con las operaciones básicas, podemos consultar la pertenencia de una clave a un diccionario mediante el operador *in*, que puede aparecer combinado con el operador *not*:"
   ]
  },
  {
   "cell_type": "code",
   "execution_count": null,
   "metadata": {},
   "outputs": [],
   "source": [
    "if \"clave1\" in diccionario:\n",
    "    print(\"Existe clave1\")\n",
    "\n",
    "if \"clave4\" not in diccionario:\n",
    "    print(\"No existe clave4\")"
   ]
  },
  {
   "cell_type": "markdown",
   "metadata": {},
   "source": [
    "## 1.3. Recorrido de diccionarios"
   ]
  },
  {
   "cell_type": "markdown",
   "metadata": {},
   "source": [
    "Si utilizamos un diccionario en una instrucción ```for ... in ...```, obtendremos en cada iteración una clave del diccionario:"
   ]
  },
  {
   "cell_type": "code",
   "execution_count": null,
   "metadata": {},
   "outputs": [],
   "source": [
    "for clave in diccionario:\n",
    "    print(clave)"
   ]
  },
  {
   "cell_type": "markdown",
   "metadata": {},
   "source": [
    "Si queremos acceder en cada paso del bucle también al valor correspondiente, podemos hacerlo así:"
   ]
  },
  {
   "cell_type": "code",
   "execution_count": null,
   "metadata": {},
   "outputs": [],
   "source": [
    "for clave in diccionario:\n",
    "    valor = diccionario[clave]\n",
    "    print(clave, valor)"
   ]
  },
  {
   "cell_type": "markdown",
   "metadata": {},
   "source": [
    "O usando el método *items*, lo cual queda quizás más compacto y legible:"
   ]
  },
  {
   "cell_type": "code",
   "execution_count": null,
   "metadata": {},
   "outputs": [],
   "source": [
    "for clave, valor in diccionario.items():\n",
    "    print(clave, valor)"
   ]
  },
  {
   "cell_type": "markdown",
   "metadata": {},
   "source": [
    "Si no necesitamos la información de las claves para el tratamiento que estamos implementando, es posible iterar únicamente sobre los valores:"
   ]
  },
  {
   "cell_type": "code",
   "execution_count": null,
   "metadata": {},
   "outputs": [],
   "source": [
    "for valor in diccionario.values():\n",
    "    print(valor)"
   ]
  },
  {
   "cell_type": "markdown",
   "metadata": {},
   "source": [
    "## 1.4. Definición de diccionarios por comprensión"
   ]
  },
  {
   "cell_type": "markdown",
   "metadata": {},
   "source": [
    "Al igual que con las listas, es posible definir un diccionario por comprensión. La sintaxis es parecida a la de la definición de listas por comprensión, con dos diferencias:\n",
    "* Se usan las llaves en lugar de los corchetes.\n",
    "* En donde escribíamos la expresión generadora, ahora debemos escribir dos expresiones, separadas por dos puntos. La primera de ellas indica cómo se generan las claves, y la segunda cómo se generan los valores. \n",
    "\n",
    "En el siguiente ejemplo construimos un diccionario a partir de una lista de nombres. Las claves serán cada uno de los nombres de la lista, y el valor asociado será la posición que ocupa ese nombre en la lista, empezando en 1:"
   ]
  },
  {
   "cell_type": "code",
   "execution_count": null,
   "metadata": {},
   "outputs": [],
   "source": [
    "nombres = [\"Miguel\", \"Ana\", \"José María\", \"Guillermo\", \"María\", \"Luisa\"]\n",
    "ranking = {nombre: nombres.index(nombre) + 1 for nombre in nombres}\n",
    "\n",
    "print(ranking)"
   ]
  },
  {
   "cell_type": "markdown",
   "metadata": {},
   "source": [
    "Este otro ejemplo muestra cómo construir un diccionario que almacene la frecuencia de aparición de cada carácter de un texto de entrada:"
   ]
  },
  {
   "cell_type": "code",
   "execution_count": null,
   "metadata": {},
   "outputs": [],
   "source": [
    "texto = \"este es un pequeño texto para probar la siguiente definición por comprensión\"\n",
    "frecuencias_caracteres = {caracter: texto.count(caracter) for caracter in sorted(texto) if caracter!=\" \"}\n",
    "print(frecuencias_caracteres)"
   ]
  },
  {
   "cell_type": "markdown",
   "metadata": {},
   "source": [
    "Un último ejemplo, en el que a partir de un texto construimos un diccionario con las palabras indexadas por sus iniciales:"
   ]
  },
  {
   "cell_type": "code",
   "execution_count": null,
   "metadata": {},
   "outputs": [],
   "source": [
    "texto = \"este es un pequeño texto para probar la siguiente definición por comprensión\"\n",
    "iniciales = [palabra[0] for palabra in texto.split()]\n",
    "palabras_por_iniciales = {inicial: [palabra for palabra in texto.split() \n",
    "                                    if palabra[0]==inicial] \n",
    "                          for inicial in sorted(iniciales)}\n",
    "print(palabras_por_iniciales)"
   ]
  },
  {
   "cell_type": "markdown",
   "metadata": {},
   "source": [
    "# 2. Conjuntos"
   ]
  },
  {
   "cell_type": "markdown",
   "metadata": {},
   "source": [
    "Los conjuntos son el último tipo contenedor que estudiaremos en la asignatura. Sus principales características son:\n",
    "* Son **mutables**.\n",
    "* **No admiten duplicados**. Si insertamos un nuevo elemento que ya existía en el conjunto, simplemente no se añade.\n",
    "* **Los elementos no tienen una posición asociada**, como si tenían en las listas o en las tuplas. Por tanto, podemos recorrer los elementos de un conjunto, o preguntar si contiene a un elemento determinado, pero no acceder a una posición concreta."
   ]
  },
  {
   "cell_type": "markdown",
   "metadata": {},
   "source": [
    "## 2.1. Operaciones sobre conjuntos\n",
    "Para inicializar un conjunto, podemos hacerlo usando las llaves, o la función *set*:"
   ]
  },
  {
   "cell_type": "code",
   "execution_count": null,
   "metadata": {},
   "outputs": [],
   "source": [
    "# 1. Inicializar un conjunto vacío\n",
    "# NO SE PUEDEN USAR LAS LLAVES, puesto que entonces Python entiende que estamos inicializando un diccionario.\n",
    "conjunto = set()\n",
    "print(\"1. Conjunto vacío:\", conjunto)\n",
    "\n",
    "# 2. Inicializar un conjunto explícitamente\n",
    "conjunto = {1, 2, 3}\n",
    "print(\"2. Conjunto explícito:\", conjunto)\n",
    "\n",
    "# 3. Inicializar un conjunto a partir de los elementos de una secuencia\n",
    "lista = [1, 5, 5, 2, 2, 4, 3, -4, -1]\n",
    "conjunto = set(lista)\n",
    "print(\"3. Conjunto a partir de secuencia:\", conjunto)"
   ]
  },
  {
   "cell_type": "markdown",
   "metadata": {},
   "source": [
    "Observa que en el ejemplo anterior al inicializar un conjunto a partir de una secuencia se eliminan los duplicados. Precisamente este es **uno de los usos más habituales de los conjuntos: obtener los valores distintos contenidos en una secuencia**. "
   ]
  },
  {
   "cell_type": "markdown",
   "metadata": {},
   "source": [
    "\n",
    "Los conjuntos **son iterables** mediante un *for*. A diferencia de las listas, no podemos saber en qué orden se recorrerán sus elementos:"
   ]
  },
  {
   "cell_type": "code",
   "execution_count": null,
   "metadata": {},
   "outputs": [],
   "source": [
    "for elemento in conjunto:\n",
    "    print(elemento)"
   ]
  },
  {
   "cell_type": "markdown",
   "metadata": {},
   "source": [
    "También podemos utilizar el **operador de pertenencia** *in*, para preguntar por la pertenencia de un elemento al conjunto. Aunque esto es algo que podíamos hacer con las listas, en el caso de los conjuntos la operación es mucho más eficiente. Por tanto, si en un algoritmo se realizan una gran cantidad de operaciones de pertenencia, puede ser apropiado volcar los elementos en un conjunto en lugar de en una lista.\n",
    "\n",
    "Vamos a comprobarlo experimentalmente:"
   ]
  },
  {
   "cell_type": "code",
   "execution_count": null,
   "metadata": {},
   "outputs": [],
   "source": [
    "# Importamos este módulo para hacer mediciones del tiempo de ejecución\n",
    "import time\n",
    "import random\n",
    "\n",
    "lista_numeros = list(range(1000)) # Creamos una lista con los números del 0 al 999\n",
    "\n",
    "inicio = time.time()\n",
    "for i in range(1000000):\n",
    "    numero = random.randint(0,1000)  # Generamos un número aleatorio\n",
    "    if numero in lista_numeros:  # Ejecutamos operación de pertenencia sobre la lista\n",
    "        pass\n",
    "fin = time.time()\n",
    "print(f\"Tiempo de ejecución con lista: {fin - inicio:0.4f} segundos.\")\n",
    "\n",
    "conjunto_numeros = set(lista_numeros)\n",
    "inicio = time.time()\n",
    "for i in range(1000000):\n",
    "    numero = random.randint(0,1000) # Generamos un número aleatorio\n",
    "    if numero in conjunto_numeros:  # Ejecutamos operación de pertenencia sobre el conjunto\n",
    "        pass\n",
    "fin = time.time()\n",
    "print(f\"Tiempo de ejecución con conjunto: {fin - inicio:0.4f} segundos.\")"
   ]
  },
  {
   "cell_type": "markdown",
   "metadata": {},
   "source": [
    "## 2.2. Operaciones entre conjuntos\n",
    "Todas las operaciones matemáticas entre conjuntos están implementadas en Python mediante operadores. En concreto, podemos hacer:\n",
    "* **Unión de conjuntos**, mediante el operador |.\n",
    "* **Intersección de conjuntos**, mediante el operador &.\n",
    "* **Diferencia de conjuntos**, mediante el operador -.\n",
    "* **Diferencia simétrica de conjuntos**, mediante el operador ^. \n",
    "\n",
    "Puedes experimentar cómo funcionan estas operaciones en el siguiente ejemplo, modificando los elementos de los conjuntos iniciales:"
   ]
  },
  {
   "cell_type": "code",
   "execution_count": null,
   "metadata": {},
   "outputs": [],
   "source": [
    "a = {1, 2, 3, 4, 5}\n",
    "b = {4, 5, 6, 7, 8}\n",
    "\n",
    "print(\"Unión:\\n\", a | b, ' o ', a.union(b))\n",
    "print(\"Intersección:\\n\", a & b, ' o ', a.intersection(b))\n",
    "print(\"Diferencia:\\n (a -b)\", a - b, 'y (b - a)', b - a)\n",
    "print(\"Diferencia simétrica:\\n\", a ^ b)"
   ]
  },
  {
   "cell_type": "markdown",
   "metadata": {},
   "source": [
    "También es posible interpelar a Python acerca de si un conjunto es un subconjunto de otro, con el operador <= (o con el operador <, para preguntar si es un subconjunto propio). Igualmente podemos usar los operadores > y >= para averigüar si un conjunto es un superconjunto (propio) de otro:"
   ]
  },
  {
   "cell_type": "code",
   "execution_count": null,
   "metadata": {},
   "outputs": [],
   "source": [
    "a = {1, 2, 3, 4, 5, 6}\n",
    "b = {1, 2, 3}\n",
    "\n",
    "print(\"¿Es b un subconjunto de a?\", b <= a)\n",
    "print(\"¿Es a un subconjunto de sí mismo?\", a <= a)\n",
    "print(\"¿Es a un subconjunto propio de sí mismo?\", a < a)"
   ]
  },
  {
   "cell_type": "markdown",
   "metadata": {
    "collapsed": true
   },
   "source": [
    "Además de las operaciones propias de conjuntos, también pueden usarse algunas de las operaciones para secuencias que vimos en el notebook 5 (a pesar de que los conjuntos **no** son secuencias):"
   ]
  },
  {
   "cell_type": "code",
   "execution_count": null,
   "metadata": {},
   "outputs": [],
   "source": [
    "print(type(a))\n",
    "print(\"Cardinalidad del conjunto a:\", len(a))\n",
    "print(\"Suma de elementos de a:\", sum(a))\n",
    "print(\"Mínimo de a:\", min(a))\n",
    "print(\"Máximo de a:\", max(a))\n",
    "print(\"Elementos de a, ordenados:\", sorted(a))"
   ]
  },
  {
   "attachments": {
    "image-2.png": {
     "image/png": "[encoded data removed]"
    },
    "image-3.png": {
     "image/png": "[encoded data removed]"
    },
    "image.png": {
     "image/png": "[encoded data removed]"
    }
   },
   "cell_type": "markdown",
   "metadata": {},
   "source": [
    "# Mini _challenge_ 8\n",
    "\n",
    "1. En el archivo **client_data.csv** encontrará una base de datos de 1000 personas, separados por `;`. Deberá desarrollar un programa que lea la base de datos y luego pregunte por consola por un número de serie (columna *serial*), buscarlo en la base de datos e imprimir los datos personales de la persona con este ID, siguiendo la estrutura:\n",
    "\n",
    "    <tt> {first_name} {last_name} with ID number {id} lives at {address_street}, {address_line}, works at {company} as {job_title}. You can reach {him/her/them -  depending on gender} at {email} writing in {mother_tongue}.</tt>\n",
    "\n",
    "2. En el archivo **Monthlydata.csv** se registran los niveles mensuales promedio de radiación solar en la ciudad de Edimburgo, Escocia, desde el año 2005 al año 2020. Los nombes de las columnas indican lo siguiente (Source: PVGIS (c) European Union):\n",
    "    - H(h)_m: Irradiation on horizontal plane (kWh/m2/mo) \n",
    "    - H(i_opt)_m: Irradiation on optimally inclined plane (kWh/m2/mo) \n",
    "    - Hb(n)_m: Monthly beam (direct) irradiation on a plane always normal to sun rays (kWh/m2/mo)\n",
    "    - Kd: Ratio of diffuse to global irradiation (-)\n",
    "    - T2m: 24 hour average of temperature (degree Celsius)\n",
    "    \n",
    "    Con estos datos, deberá crear una visualización adecuada para mostrar:\n",
    "    + Evolución en el tiempo de cada variable (gráfica de líneas en diferentes ejes)\n",
    "    ![image.png](attachment:image.png)\n",
    "    + Comparativo de valores promedio por año (gráficos de caja y bigotes)\n",
    "    ![image-2.png](attachment:image-2.png)\n",
    "    + Comparativo de valores promedio por mes (gráfico de violín)\n",
    "    ![image-3.png](attachment:image-3.png)\n",
    "\n",
    "## Condiciones de entrega\n",
    "Para este Mini *challenge* se debe hacer entrega, a través del aula digital, de un archivo RAR o ZIP con las soluciones a los problemas y que tenga la siguiente estructura:\n",
    "```\n",
    ". \n",
    "└── EntregaMC6\n",
    "    ├── mini_challenge_6.ipynb \n",
    "    └── archivos_csv\n",
    "        ├── client_data.csv\n",
    "        └── Monthlydata.csv\n",
    "```\n",
    "El archivo IPYNB debe contar con lo siguiente:\n",
    "- Un primer bloque en Markdown a manera de portada, con la siguiente información centrada:\n",
    "    * Identificación del curso\n",
    "    * Nombre del estudiante\n",
    "    * Identificación del mini *challenge*\n",
    "    * Fecha\n",
    "- Presentación de cada ejercicio en celda Markdown\n",
    "- Celdas ejecutables con los problemas desarrollados"
   ]
  },
  {
   "cell_type": "markdown",
   "metadata": {},
   "source": [
    "<img src=\"Images/by_nc_sa.svg\" style=\"float:left;width: 50px;\"/> &nbsp; El material de este curso está bajo una licencia Creative Commons [Atribución-NoComercial-CompartirIgual 4.0 Internacional](LICENSE.MD) (CC BY-NC-SA 4.0)"
   ]
  }
 ],
 "metadata": {
  "kernelspec": {
   "display_name": "Python 3 (ipykernel)",
   "language": "python",
   "name": "python3"
  },
  "language_info": {
   "codemirror_mode": {
    "name": "ipython",
    "version": 3
   },
   "file_extension": ".py",
   "mimetype": "text/x-python",
   "name": "python",
   "nbconvert_exporter": "python",
   "pygments_lexer": "ipython3",
   "version": "3.10.9"
  },
  "latex_envs": {
   "LaTeX_envs_menu_present": true,
   "autocomplete": true,
   "bibliofile": "biblio.bib",
   "cite_by": "apalike",
   "current_citInitial": 1,
   "eqLabelWithNumbers": true,
   "eqNumInitial": 1,
   "hotkeys": {
    "equation": "Ctrl-E",
    "itemize": "Ctrl-I"
   },
   "labels_anchors": false,
   "latex_user_defs": false,
   "report_style_numbering": true,
   "user_envs_cfg": true
  },
  "toc": {
   "base_numbering": 1,
   "nav_menu": {},
   "number_sections": true,
   "sideBar": true,
   "skip_h1_title": true,
   "title_cell": "Tabla de Contenidos",
   "title_sidebar": "Contenidos",
   "toc_cell": true,
   "toc_position": {
    "height": "calc(100% - 180px)",
    "left": "10px",
    "top": "150px",
    "width": "165px"
   },
   "toc_section_display": true,
   "toc_window_display": true
  }
 },
 "nbformat": 4,
 "nbformat_minor": 4
}
