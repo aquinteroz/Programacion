{
 "cells": [
  {
   "cell_type": "markdown",
   "metadata": {
    "slideshow": {
     "slide_type": "notes"
    }
   },
   "source": [
    "<h1 align=\"center\">Programación &#8212; PRE2013A45</h1>\n",
    "<h3 align=\"center\">Docente: Andrés Quintero Zea, PhD.</h3>\n",
    "<h3 align=\"center\">e-mail: andres.quintero27@eia.edu.co</h3>\n",
    "<h3 align=\"center\">Semana 12: Ecosistema Python - Pandas</h3>"
   ]
  },
  {
   "cell_type": "markdown",
   "metadata": {},
   "source": [
    "# 1. Objetos de `Pandas`"
   ]
  },
  {
   "cell_type": "markdown",
   "metadata": {},
   "source": [
    "En un nivel muy básico, los objetos de `Pandas` se pueden considerar como versiones mejoradas de matrices estructuradas de `NumPy` en las que las filas y columnas se identifican con etiquetas en lugar de simples índices enteros.\n",
    "Como veremos a lo largo de esta clase, `Pandas` proporciona una gran cantidad de herramientas, métodos y funcionalidades útiles además de las estructuras de datos básicas, pero casi todo lo que sigue requerirá una comprensión de cuáles son estas estructuras.\n",
    "Por lo tanto, antes de continuar, presentemos estas tres estructuras de datos fundamentales de Pandas: `Series`, `DataFrame` e `Index`.\n",
    "\n",
    "Comenzaremos nuestras sesiones de código con las importaciones estándar de `NumPy` y `Pandas`:"
   ]
  },
  {
   "cell_type": "code",
   "execution_count": null,
   "metadata": {
    "scrolled": true
   },
   "outputs": [],
   "source": [
    "import numpy as np\n",
    "import pandas as pd"
   ]
  },
  {
   "cell_type": "markdown",
   "metadata": {},
   "source": [
    "## 1.2 El objeto `Series`\n",
    "\n",
    "Un objeto `Series` de Pandas es una matriz unidimensional de datos indexados. \n",
    "La documentación completa sobre `DataFrame` puede ser consultada en la página web de [Pandas](https://pandas.pydata.org/docs/reference/series.html)\n",
    "Se puede crear a partir de una lista o matriz de la siguiente manera:"
   ]
  },
  {
   "cell_type": "code",
   "execution_count": null,
   "metadata": {},
   "outputs": [],
   "source": [
    "data = pd.Series([0.25, 0.5, 0.75, 1.0])\n",
    "data"
   ]
  },
  {
   "cell_type": "markdown",
   "metadata": {},
   "source": [
    "Como vemos en la salida, `Series` envuelve tanto una secuencia de valores como una secuencia de índices, a los que podemos acceder con los atributos `values` e `index`. Los valores son simplemente una matriz NumPy:"
   ]
  },
  {
   "cell_type": "code",
   "execution_count": null,
   "metadata": {},
   "outputs": [],
   "source": [
    "data.values"
   ]
  },
  {
   "cell_type": "markdown",
   "metadata": {},
   "source": [
    "The ``index`` is an array-like object of type ``pd.Index``, which we'll discuss in more detail momentarily."
   ]
  },
  {
   "cell_type": "code",
   "execution_count": null,
   "metadata": {},
   "outputs": [],
   "source": [
    "data.index"
   ]
  },
  {
   "cell_type": "markdown",
   "metadata": {},
   "source": [
    "Al igual que con una matriz NumPy, los valores se pueden acceder a través de indexación:"
   ]
  },
  {
   "cell_type": "code",
   "execution_count": null,
   "metadata": {},
   "outputs": [],
   "source": [
    "data[1]"
   ]
  },
  {
   "cell_type": "code",
   "execution_count": null,
   "metadata": {},
   "outputs": [],
   "source": [
    "data[1:3]"
   ]
  },
  {
   "cell_type": "markdown",
   "metadata": {},
   "source": [
    "Sin embargo, la `Series` de Pandas es mucho más general y flexible que la matriz NumPy unidimensional que emula."
   ]
  },
  {
   "cell_type": "markdown",
   "metadata": {},
   "source": [
    "### 1.2.1 ``Series`` como matriz NumPy generalizada"
   ]
  },
  {
   "cell_type": "markdown",
   "metadata": {},
   "source": [
    "Por lo que hemos visto hasta ahora, puede parecer que el objeto ``Series`` es básicamente intercambiable con una matriz NumPy unidimensional.\n",
    "La diferencia esencial es la presencia del índice: mientras que Numpy Array tiene un índice entero *implícitamente definido* que se usa para acceder a los valores, Pandas ``Series`` tiene un índice *explícitamente definido* asociado con los valores.\n",
    "\n",
    "Esta definición de índice explícito le da al objeto ``Series`` capacidades adicionales. Por ejemplo, el índice no necesita ser un número entero, pero puede consistir en valores de cualquier tipo deseado.\n",
    "Por ejemplo, si lo deseamos, podemos usar cadenas como índice:"
   ]
  },
  {
   "cell_type": "code",
   "execution_count": null,
   "metadata": {},
   "outputs": [],
   "source": [
    "data = pd.Series([0.25, 0.5, 0.75, 1.0],\n",
    "                 index=['a', 'b', 'c', 'd'])\n",
    "data"
   ]
  },
  {
   "cell_type": "code",
   "execution_count": null,
   "metadata": {},
   "outputs": [],
   "source": [
    "data['b']"
   ]
  },
  {
   "cell_type": "markdown",
   "metadata": {},
   "source": [
    "Incluso podemos usar índices no contiguos o no secuenciales:"
   ]
  },
  {
   "cell_type": "code",
   "execution_count": null,
   "metadata": {},
   "outputs": [],
   "source": [
    "data = pd.Series([0.25, 0.5, 0.75, 1.0],\n",
    "                 index=[2, 5, 3, 7])\n",
    "data"
   ]
  },
  {
   "cell_type": "code",
   "execution_count": null,
   "metadata": {},
   "outputs": [],
   "source": [
    "data[5]"
   ]
  },
  {
   "cell_type": "markdown",
   "metadata": {},
   "source": [
    "### 1.2.2 `Series`como diccionario especializado\n",
    "\n",
    "De esta forma, puedes pensar en una ``Serie`` de Pandas un poco como una especialización de un diccionario de Python. Un diccionario es una estructura que asigna claves arbitrarias a un conjunto de valores arbitrarios y una ``Serie`` es una estructura que asigna claves tipificadas a un conjunto de valores tipificados."
   ]
  },
  {
   "cell_type": "code",
   "execution_count": null,
   "metadata": {},
   "outputs": [],
   "source": [
    "population_dict = {'California': 38332521,\n",
    "                   'Texas': 26448193,\n",
    "                   'New York': 19651127,\n",
    "                   'Florida': 19552860,\n",
    "                   'Illinois': 12882135}\n",
    "population = pd.Series(population_dict)\n",
    "population"
   ]
  },
  {
   "cell_type": "code",
   "execution_count": null,
   "metadata": {},
   "outputs": [],
   "source": [
    "population['California']"
   ]
  },
  {
   "cell_type": "markdown",
   "metadata": {},
   "source": [
    "Sin embargo, a diferencia de un diccionario, ``Series`` también admite operaciones de estilo de matriz, como el corte:"
   ]
  },
  {
   "cell_type": "code",
   "execution_count": null,
   "metadata": {},
   "outputs": [],
   "source": [
    "population['California':'Texas']"
   ]
  },
  {
   "cell_type": "markdown",
   "metadata": {},
   "source": [
    "## 1.3 El objeto `DataFrame`\n",
    "\n",
    "La siguiente estructura fundamental en Pandas es ``DataFrame``. Al igual que el objeto ``Series`` discutido en la sección anterior, ``DataFrame`` se puede considerar como una generalización de una matriz NumPy o como una especialización de un diccionario de Python.\n",
    "Ahora vamos a echar un vistazo a cada una de estas perspectivas.\n",
    "La documentación completa sobre `DataFrame` puede ser consultada en la página web de [Pandas](https://pandas.pydata.org/docs/reference/frame.html)"
   ]
  },
  {
   "cell_type": "markdown",
   "metadata": {},
   "source": [
    "### 1.3.1 DataFrame como una matriz NumPy generalizada\n",
    "Si una ``Serie`` es un análogo de una matriz unidimensional con índices flexibles, un ``DataFrame`` es un análogo de una matriz bidimensional con índices de fila flexibles y nombres de columna flexibles.\n",
    "Así como podría pensar en una matriz bidimensional como una secuencia ordenada de columnas unidimensionales alineadas, puede pensar en un ``DataFrame`` como una secuencia de objetos ``Series`` alineados.\n",
    "Aquí, por \"alineados\" queremos decir que comparten el mismo índice.\n",
    "\n",
    "Para demostrar esto, primero construyamos una nueva ``Serie`` que enumere el área de cada uno de los cinco estados discutidos en la sección anterior:"
   ]
  },
  {
   "cell_type": "code",
   "execution_count": null,
   "metadata": {},
   "outputs": [],
   "source": [
    "area_dict = {'California': 423967, 'Texas': 695662, 'New York': 141297,\n",
    "             'Florida': 170312, 'Illinois': 149995}\n",
    "area = pd.Series(area_dict)\n",
    "area"
   ]
  },
  {
   "cell_type": "markdown",
   "metadata": {},
   "source": [
    "Ahora que tenemos esto junto con la serie `population` de antes, podemos usar un diccionario para construir un solo objeto bidimensional que contenga esta información:"
   ]
  },
  {
   "cell_type": "code",
   "execution_count": null,
   "metadata": {},
   "outputs": [],
   "source": [
    "states = pd.DataFrame({'Population': population,\n",
    "                       'Area': area})\n",
    "states"
   ]
  },
  {
   "cell_type": "markdown",
   "metadata": {},
   "source": [
    "Al igual que el objeto ``Series``, ``DataFrame`` tiene un atributo ``index`` que da acceso a las etiquetas de índice:"
   ]
  },
  {
   "cell_type": "code",
   "execution_count": null,
   "metadata": {},
   "outputs": [],
   "source": [
    "states.index"
   ]
  },
  {
   "cell_type": "markdown",
   "metadata": {},
   "source": [
    "Additionally, the ``DataFrame`` has a ``columns`` attribute, which is an ``Index`` object holding the column labels:"
   ]
  },
  {
   "cell_type": "code",
   "execution_count": null,
   "metadata": {},
   "outputs": [],
   "source": [
    "states.columns"
   ]
  },
  {
   "cell_type": "markdown",
   "metadata": {},
   "source": [
    "Por lo tanto, ``DataFrame`` se puede considerar como una generalización de una matriz NumPy bidimensional, donde tanto las filas como las columnas tienen un índice generalizado para acceder a los datos."
   ]
  },
  {
   "cell_type": "markdown",
   "metadata": {},
   "source": [
    "### 1.3.2 DataFrame como diccionario especializado\n",
    "\n",
    "De manera similar, también podemos pensar en un ``DataFrame`` como una especialización de un diccionario.\n",
    "Donde un diccionario asigna una clave a un valor, un ``DataFrame`` asigna un nombre de columna a una ``Serie`` de datos de columna.\n",
    "Por ejemplo, pedir el atributo ``'Area'`` devuelve el objeto ``Series`` que contiene las áreas que vimos anteriormente:"
   ]
  },
  {
   "cell_type": "code",
   "execution_count": null,
   "metadata": {},
   "outputs": [],
   "source": [
    "states['Area']"
   ]
  },
  {
   "cell_type": "markdown",
   "metadata": {},
   "source": [
    "Observe el posible punto de confusión aquí: en una matriz NumPy de dos dimensiones, ``data[0]`` devolverá la primera *fila*. Para un ``DataFrame``, ``data['col0']`` devolverá la primera *columna*.\n",
    "Debido a esto, probablemente sea mejor pensar en ``DataFrame``s como diccionarios generalizados en lugar de arreglos generalizados, aunque ambas formas de ver la situación pueden ser útiles."
   ]
  },
  {
   "cell_type": "markdown",
   "metadata": {},
   "source": [
    "### 1.3.3 Construcción de objetos DataFrame\n",
    "\n",
    "Un ``DataFrame`` de Pandas se puede construir de varias formas. Aquí daremos varios ejemplos."
   ]
  },
  {
   "cell_type": "markdown",
   "metadata": {},
   "source": [
    "#### Desde un solo objeto Series\n",
    "\n",
    "Un ``DataFrame`` es una colección de objetos ``Series`` y un ``DataFrame`` de una sola columna se puede construir a partir de una única ``Serie``:"
   ]
  },
  {
   "cell_type": "code",
   "execution_count": null,
   "metadata": {},
   "outputs": [],
   "source": [
    "pd.DataFrame(population, columns=['Population'])"
   ]
  },
  {
   "cell_type": "markdown",
   "metadata": {},
   "source": [
    "#### De una lista de diccionarios\n",
    "\n",
    "Cualquier lista de diccionarios se puede convertir en un ``DataFrame``. Usaremos una lista simple de comprensión para crear algunos datos:"
   ]
  },
  {
   "cell_type": "code",
   "execution_count": null,
   "metadata": {},
   "outputs": [],
   "source": [
    "data = [{'x': i, 'x^2': i**2}\n",
    "        for i in range(1,6)]\n",
    "pd.DataFrame(data)"
   ]
  },
  {
   "cell_type": "markdown",
   "metadata": {},
   "source": [
    "Incluso si faltan algunas claves en el diccionario, Pandas las completará con valores ``NaN`` (es decir, \"no es un número\"):"
   ]
  },
  {
   "cell_type": "code",
   "execution_count": null,
   "metadata": {},
   "outputs": [],
   "source": [
    "pd.DataFrame([{'a': 1, 'b': 2}, {'b': 3, 'c': 4}])"
   ]
  },
  {
   "cell_type": "markdown",
   "metadata": {},
   "source": [
    "#### De un diccionario de objetos Series\n",
    "\n",
    "Como vimos antes, un ``DataFrame`` también se puede construir a partir de un diccionario de objetos ``Series``:"
   ]
  },
  {
   "cell_type": "code",
   "execution_count": null,
   "metadata": {},
   "outputs": [],
   "source": [
    "pd.DataFrame({'Population': population,\n",
    "              'Area': area})"
   ]
  },
  {
   "cell_type": "markdown",
   "metadata": {},
   "source": [
    "#### A partir de una matriz NumPy bidimensional\n",
    "\n",
    "Dada una matriz bidimensional de datos, podemos crear un ``DataFrame`` con cualquier nombre de columna e índice especificado.\n",
    "Si se omite, se utilizará un índice entero para cada uno:"
   ]
  },
  {
   "cell_type": "code",
   "execution_count": null,
   "metadata": {},
   "outputs": [],
   "source": [
    "pd.DataFrame(np.random.rand(3, 2).round(3),\n",
    "             columns=['foo', 'bar'],\n",
    "             index=['a', 'b', 'c'])"
   ]
  },
  {
   "cell_type": "markdown",
   "metadata": {},
   "source": [
    "## 1.4 El objeto `Index`\n",
    "\n",
    "Hemos visto aquí que tanto los objetos ``Series`` como ``DataFrame`` contienen un *índice* explícito que permite hacer referencia y modificar datos.\n",
    "Este objeto ``Índice`` es una estructura interesante en sí misma y se puede considerar como una *matriz inmutable* o como un *conjunto ordenado* (técnicamente, un conjunto múltiple, ya que los objetos ``Index`` pueden contener valores repetidos).\n",
    "La documentación completa sobre `DataFrame` puede ser consultada en la página web de [Pandas](https://pandas.pydata.org/docs/reference/indexing.html)\n",
    "\n",
    "Como ejemplo simple, construyamos un ``Index`` a partir de una lista de enteros:"
   ]
  },
  {
   "cell_type": "code",
   "execution_count": null,
   "metadata": {},
   "outputs": [],
   "source": [
    "ind = pd.Index([2, 3, 5, 7, 11])\n",
    "ind"
   ]
  },
  {
   "cell_type": "markdown",
   "metadata": {},
   "source": [
    "### 1.4.1 Index como matriz inmutable\n",
    "\n",
    "Un objeto ``Index`` en muchos sentidos funciona como una matriz. Por ejemplo, podemos usar la notación de indexación estándar de Python para recuperar valores o segmentos:"
   ]
  },
  {
   "cell_type": "code",
   "execution_count": null,
   "metadata": {},
   "outputs": [],
   "source": [
    "ind[1]"
   ]
  },
  {
   "cell_type": "code",
   "execution_count": null,
   "metadata": {},
   "outputs": [],
   "source": [
    "ind[::2]"
   ]
  },
  {
   "cell_type": "markdown",
   "metadata": {},
   "source": [
    "Los objetos ``Index`` también tienen muchos de los atributos familiares de las matrices NumPy:"
   ]
  },
  {
   "cell_type": "code",
   "execution_count": null,
   "metadata": {},
   "outputs": [],
   "source": [
    "print(ind.size, ind.shape, ind.ndim, ind.dtype)"
   ]
  },
  {
   "cell_type": "markdown",
   "metadata": {},
   "source": [
    "Una diferencia entre los objetos ``Index`` y las matrices NumPy es que los índices son inmutables, es decir, no se pueden modificar por los medios normales:"
   ]
  },
  {
   "cell_type": "code",
   "execution_count": null,
   "metadata": {},
   "outputs": [],
   "source": [
    "ind[1] = 0"
   ]
  },
  {
   "cell_type": "markdown",
   "metadata": {},
   "source": [
    "Esta inmutabilidad hace que sea más seguro compartir índices entre múltiples ``DataFrame`` y arreglos, sin la posibilidad de efectos secundarios por la modificación inadvertida del índice."
   ]
  },
  {
   "cell_type": "markdown",
   "metadata": {},
   "source": [
    "### 1.4.2 Index como conjunto ordenado\n",
    "\n",
    "Los objetos de Pandas están diseñados para facilitar operaciones como las uniones entre conjuntos de datos, que dependen de muchos aspectos de la aritmética de conjuntos.\n",
    "El objeto ``Index`` sigue muchas de las convenciones utilizadas por la estructura de datos ``set`` de Python, de modo que las uniones, intersecciones, diferencias y otras combinaciones se pueden calcular de una manera familiar:"
   ]
  },
  {
   "cell_type": "code",
   "execution_count": null,
   "metadata": {},
   "outputs": [],
   "source": [
    "idx1 = pd.Index([1, 2, 3, 4])\n",
    "idx2 = pd.Index([3, 4, 5, 6])"
   ]
  },
  {
   "cell_type": "code",
   "execution_count": null,
   "metadata": {
    "scrolled": true
   },
   "outputs": [],
   "source": [
    "idx1.intersection(idx2)  # intersección"
   ]
  },
  {
   "cell_type": "code",
   "execution_count": null,
   "metadata": {},
   "outputs": [],
   "source": [
    "idx1.union(idx2)  # union"
   ]
  },
  {
   "cell_type": "markdown",
   "metadata": {},
   "source": [
    "# 2. Indexación y selección de datos\n",
    "\n",
    "En el módulo anterior estudiamos métodos y herramientas para acceder, establecer y modificar valores en matrices NumPy.\n",
    "Estos incluían indexación (p. ej., ``arr[2, 1]``), segmentación (p. ej., ``arr[:, 1:5]``), enmascaramiento (p. ej., ``arr[arr > 0]`` ), indexación elegante (p. ej., ``arr[0, [1, 5]]``) y combinaciones de los mismos (p. ej., ``arr[:, [1, 5]]``).\n",
    "Aquí veremos medios similares para acceder y modificar valores en los objetos ``Series`` y ``DataFrame`` de Pandas.\n",
    "Si ha utilizado los patrones NumPy, los patrones correspondientes en Pandas le resultarán muy familiares, aunque hay algunas peculiaridades que debe tener en cuenta.\n",
    "\n",
    "Comenzaremos con el caso simple del objeto ``Series`` unidimensional, y luego pasaremos al objeto ``DataFrame`` bidimensional más complicado."
   ]
  },
  {
   "cell_type": "markdown",
   "metadata": {},
   "source": [
    "## 2.1 Selección de datos en `Series`\n",
    "\n",
    "Como vimos en la sección anterior, un objeto ``Series`` actúa en muchos aspectos como una matriz NumPy unidimensional y en muchos aspectos como un diccionario estándar de Python.\n",
    "Si tenemos en cuenta estas dos analogías superpuestas, nos ayudará a comprender los patrones de indexación y selección de datos en estas matrices."
   ]
  },
  {
   "cell_type": "markdown",
   "metadata": {},
   "source": [
    "### 2.1.1 Series como diccionario\n",
    "\n",
    "Como un diccionario, el objeto ``Series`` proporciona un mapeo de una colección de claves a una colección de valores:"
   ]
  },
  {
   "cell_type": "code",
   "execution_count": null,
   "metadata": {},
   "outputs": [],
   "source": [
    "data = pd.Series([0.25, 0.5, 0.75, 1.0],\n",
    "                 index=['a', 'b', 'c', 'd'])\n",
    "data"
   ]
  },
  {
   "cell_type": "code",
   "execution_count": null,
   "metadata": {},
   "outputs": [],
   "source": [
    "data['b']"
   ]
  },
  {
   "cell_type": "markdown",
   "metadata": {},
   "source": [
    "También podemos usar expresiones y métodos de Python similares a un diccionario para examinar las claves/índices y valores:"
   ]
  },
  {
   "cell_type": "code",
   "execution_count": null,
   "metadata": {},
   "outputs": [],
   "source": [
    "'a' in data"
   ]
  },
  {
   "cell_type": "code",
   "execution_count": null,
   "metadata": {},
   "outputs": [],
   "source": [
    "data.keys()"
   ]
  },
  {
   "cell_type": "code",
   "execution_count": null,
   "metadata": {},
   "outputs": [],
   "source": [
    "list(data.items())"
   ]
  },
  {
   "cell_type": "markdown",
   "metadata": {},
   "source": [
    "Los objetos ``Series`` pueden incluso modificarse con una sintaxis similar a la de un diccionario.\n",
    "Así como puede extender un diccionario asignando una nueva clave, puede extender una ``Serie`` asignando un nuevo valor de índice:"
   ]
  },
  {
   "cell_type": "code",
   "execution_count": null,
   "metadata": {},
   "outputs": [],
   "source": [
    "data['e'] = 1.25\n",
    "data"
   ]
  },
  {
   "cell_type": "markdown",
   "metadata": {},
   "source": [
    "### 2.1.2 Series como matriz unidimensional\n",
    "\n",
    "Una ``Series`` se basa en esta interfaz similar a un diccionario y proporciona una selección de elementos de estilo de matriz a través de los mismos mecanismos básicos que las matrices NumPy, es decir, *segmentos*, *enmascaramiento* e *indexación elegante*.\n",
    "Ejemplos de estos son los siguientes:"
   ]
  },
  {
   "cell_type": "code",
   "execution_count": null,
   "metadata": {},
   "outputs": [],
   "source": [
    "data['a':'c']"
   ]
  },
  {
   "cell_type": "code",
   "execution_count": null,
   "metadata": {},
   "outputs": [],
   "source": [
    "data[0:2]"
   ]
  },
  {
   "cell_type": "code",
   "execution_count": null,
   "metadata": {},
   "outputs": [],
   "source": [
    "data[(data > 0.3) & (data < 0.8)]"
   ]
  },
  {
   "cell_type": "code",
   "execution_count": null,
   "metadata": {},
   "outputs": [],
   "source": [
    "data[['a', 'e']]"
   ]
  },
  {
   "cell_type": "markdown",
   "metadata": {},
   "source": [
    "Entre estos, el corte puede ser la fuente de mayor confusión.\n",
    "Tenga en cuenta que al dividir con un índice explícito (es decir, ``data['a':'c']``), el índice final está *incluido* en el segmento, mientras que al dividir con un índice implícito (es decir, `` data[0:2]``), el índice final se *excluye* del segmento."
   ]
  },
  {
   "cell_type": "markdown",
   "metadata": {},
   "source": [
    "### 2.1.3 Indexadores: `loc` e `iloc`\n",
    "\n",
    "Estas convenciones de segmentación e indexación pueden ser una fuente de confusión. Por ejemplo, si su objeto ``Series`` tiene un índice entero explícito, una operación de indexación como ``data[1]`` usará los índices explícitos, mientras que una operación de división como ``data[1:3]`` utilizará el índice implícito de estilo Python."
   ]
  },
  {
   "cell_type": "code",
   "execution_count": null,
   "metadata": {},
   "outputs": [],
   "source": [
    "data = pd.Series(['a', 'b', 'c'], index=[1, 3, 5])\n",
    "data"
   ]
  },
  {
   "cell_type": "code",
   "execution_count": null,
   "metadata": {},
   "outputs": [],
   "source": [
    "data[1]"
   ]
  },
  {
   "cell_type": "code",
   "execution_count": null,
   "metadata": {},
   "outputs": [],
   "source": [
    "data[1:3]"
   ]
  },
  {
   "cell_type": "markdown",
   "metadata": {},
   "source": [
    "Debido a esta posible confusión en el caso de los índices enteros, Pandas proporciona algunos atributos especiales de *indexador* que exponen explícitamente ciertos esquemas de indexación.\n",
    "Estos no son métodos funcionales, sino atributos que exponen una interfaz de corte particular a los datos en el objeto ``Series``.\n",
    "\n",
    "Primero, el atributo ``loc`` permite la indexación y el corte que siempre hace referencia al índice explícito:"
   ]
  },
  {
   "cell_type": "code",
   "execution_count": null,
   "metadata": {},
   "outputs": [],
   "source": [
    "data.loc[1]"
   ]
  },
  {
   "cell_type": "code",
   "execution_count": null,
   "metadata": {},
   "outputs": [],
   "source": [
    "data.loc[1:3]"
   ]
  },
  {
   "cell_type": "markdown",
   "metadata": {},
   "source": [
    "El atributo ``iloc`` permite la indexación y el corte que siempre hace referencia al índice implícito de estilo Python:"
   ]
  },
  {
   "cell_type": "code",
   "execution_count": null,
   "metadata": {},
   "outputs": [],
   "source": [
    "data.iloc[1]"
   ]
  },
  {
   "cell_type": "code",
   "execution_count": null,
   "metadata": {},
   "outputs": [],
   "source": [
    "data.iloc[1:3]"
   ]
  },
  {
   "cell_type": "markdown",
   "metadata": {},
   "source": [
    "Un principio rector del código de Python es que \"explícito es mejor que implícito\". La naturaleza explícita de ``loc`` y ``iloc`` los hace muy útiles para mantener un código limpio y legible; especialmente en el caso de índices enteros, recomiendo usarlos para hacer que el código sea más fácil de leer y comprender, y para evitar errores sutiles debido a la convención mixta de indexación/corte."
   ]
  },
  {
   "cell_type": "markdown",
   "metadata": {},
   "source": [
    "## 2.2 Selección de datos en DataFrame\n",
    "\n",
    "Recuerde que un ``DataFrame`` actúa en muchos aspectos como una matriz bidimensional y en otros aspectos como un diccionario de estructuras ``Series`` que comparten el mismo índice.\n",
    "Estas analogías pueden ser útiles para tener en cuenta a medida que exploramos la selección de datos dentro de esta estructura."
   ]
  },
  {
   "cell_type": "markdown",
   "metadata": {},
   "source": [
    "### 2.2.1 DataFrame como diccionario\n",
    "\n",
    "La primera analogía que consideraremos es ``DataFrame`` como un diccionario de objetos ``Series`` relacionados.\n",
    "Volvamos a nuestro ejemplo de áreas y poblaciones de estados:"
   ]
  },
  {
   "cell_type": "code",
   "execution_count": null,
   "metadata": {},
   "outputs": [],
   "source": [
    "area = pd.Series({'California': 423967, 'Texas': 695662,\n",
    "                  'New York': 141297, 'Florida': 170312,\n",
    "                  'Illinois': 149995})\n",
    "pop = pd.Series({'California': 38332521, 'Texas': 26448193,\n",
    "                 'New York': 19651127, 'Florida': 19552860,\n",
    "                 'Illinois': 12882135})\n",
    "data = pd.DataFrame({'area':area, 'pop':pop})\n",
    "data"
   ]
  },
  {
   "cell_type": "markdown",
   "metadata": {},
   "source": [
    "Se puede acceder a las ``Series`` individuales que componen las columnas del ``DataFrame`` a través de la indexación de estilo de diccionario del nombre de la columna:"
   ]
  },
  {
   "cell_type": "code",
   "execution_count": null,
   "metadata": {},
   "outputs": [],
   "source": [
    "data['area']"
   ]
  },
  {
   "cell_type": "markdown",
   "metadata": {},
   "source": [
    "De manera equivalente, podemos usar el acceso de estilo de atributo con nombres de columna que son cadenas:"
   ]
  },
  {
   "cell_type": "code",
   "execution_count": null,
   "metadata": {},
   "outputs": [],
   "source": [
    "data.area"
   ]
  },
  {
   "cell_type": "markdown",
   "metadata": {},
   "source": [
    "Este acceso a las columnas a través de un atributo en realidad accede exactamente al mismo objeto que el acceso de estilo de diccionario:"
   ]
  },
  {
   "cell_type": "code",
   "execution_count": null,
   "metadata": {},
   "outputs": [],
   "source": [
    "data.area is data['area']"
   ]
  },
  {
   "cell_type": "markdown",
   "metadata": {},
   "source": [
    "Aunque esta es una abreviatura útil, ¡tenga en cuenta que no funciona para todos los casos!. Por ejemplo, si los nombres de las columnas no son cadenas o si los nombres de las columnas entran en conflicto con los métodos de ``DataFrame``, este acceso de estilo de atributo no es posible.\n",
    "Por ejemplo, ``DataFrame`` tiene un método ``pop()``, por lo que ``data.pop`` apuntará a esto en lugar de a la columna ``\"pop\"``:"
   ]
  },
  {
   "cell_type": "code",
   "execution_count": null,
   "metadata": {},
   "outputs": [],
   "source": [
    "data.pop is data['pop']"
   ]
  },
  {
   "cell_type": "markdown",
   "metadata": {},
   "source": [
    "En particular, debe evitar la tentación de intentar la asignación de columnas a través de un atributo (es decir, use ``data['pop'] = z`` en lugar de ``data.pop = z``).\n",
    "\n",
    "Al igual que con los objetos ``Series`` discutidos anteriormente, esta sintaxis de estilo diccionario también se puede usar para modificar el objeto, en este caso agregando una nueva columna:"
   ]
  },
  {
   "cell_type": "code",
   "execution_count": null,
   "metadata": {},
   "outputs": [],
   "source": [
    "data['density'] = data['pop'] / data['area']\n",
    "data"
   ]
  },
  {
   "cell_type": "markdown",
   "metadata": {},
   "source": [
    "### 2.2.2 DataFrame como matriz bidimensional\n",
    "\n",
    "Como se mencionó anteriormente, también podemos ver el ``DataFrame`` como una matriz bidimensional mejorada.\n",
    "Podemos examinar la matriz de datos subyacente sin procesar usando el atributo ``values``:"
   ]
  },
  {
   "cell_type": "code",
   "execution_count": null,
   "metadata": {},
   "outputs": [],
   "source": [
    "data.values"
   ]
  },
  {
   "cell_type": "markdown",
   "metadata": {},
   "source": [
    "Con esta imagen en mente, se pueden realizar muchas observaciones similares a arreglos familiares en el mismo ``DataFrame``.\n",
    "Por ejemplo, podemos transponer el ``DataFrame`` completo para intercambiar filas y columnas:"
   ]
  },
  {
   "cell_type": "code",
   "execution_count": null,
   "metadata": {},
   "outputs": [],
   "source": [
    "data.T"
   ]
  },
  {
   "cell_type": "markdown",
   "metadata": {},
   "source": [
    "Sin embargo, cuando se trata de la indexación de objetos ``DataFrame``, está claro que la indexación de columnas al estilo de un diccionario impide nuestra capacidad de tratarlo simplemente como una matriz NumPy.\n",
    "En particular, pasar un solo índice a una matriz accede a una fila:"
   ]
  },
  {
   "cell_type": "code",
   "execution_count": null,
   "metadata": {},
   "outputs": [],
   "source": [
    "data.values[0]"
   ]
  },
  {
   "cell_type": "markdown",
   "metadata": {},
   "source": [
    "y pasar un solo índice a un ``DataFrame`` accede a una columna:"
   ]
  },
  {
   "cell_type": "code",
   "execution_count": null,
   "metadata": {},
   "outputs": [],
   "source": [
    "data['area']"
   ]
  },
  {
   "cell_type": "markdown",
   "metadata": {
    "collapsed": true
   },
   "source": [
    "Por lo tanto, para la indexación de estilo de matriz, necesitamos otra convención. Aquí Pandas vuelve a utilizar los indexadores ``loc``, ``iloc`` y ``ix`` mencionados anteriormente.\n",
    "Usando el indexador ``iloc`` podemos indexar la matriz subyacente como si fuera una matriz NumPy simple (usando el índice implícito de estilo Python), pero el índice ``DataFrame`` y las etiquetas de columna se mantienen en el resultado:"
   ]
  },
  {
   "cell_type": "code",
   "execution_count": null,
   "metadata": {},
   "outputs": [],
   "source": [
    "data.iloc[:3, :2]"
   ]
  },
  {
   "cell_type": "markdown",
   "metadata": {},
   "source": [
    "De manera similar, usando el indexador ``loc`` podemos indexar los datos subyacentes en un estilo similar a una matriz pero usando el índice explícito y los nombres de las columnas:"
   ]
  },
  {
   "cell_type": "code",
   "execution_count": null,
   "metadata": {
    "scrolled": false
   },
   "outputs": [],
   "source": [
    "data.loc[:'Illinois', :'pop']"
   ]
  },
  {
   "cell_type": "markdown",
   "metadata": {},
   "source": [
    "Cualquiera de los patrones familiares de acceso a datos de estilo NumPy se puede utilizar dentro de estos indexadores.\n",
    "Por ejemplo, en el indexador ``loc`` podemos combinar el enmascaramiento y la indexación elegante como se muestra a continuación:"
   ]
  },
  {
   "cell_type": "code",
   "execution_count": null,
   "metadata": {},
   "outputs": [],
   "source": [
    "data.loc[data.density > 100, ['pop', 'density']]"
   ]
  },
  {
   "cell_type": "markdown",
   "metadata": {},
   "source": [
    "Cualquiera de estas convenciones de indexación también se puede utilizar para establecer o modificar valores; esto se hace de la manera estándar a la que podría estar acostumbrado al trabajar con NumPy:"
   ]
  },
  {
   "cell_type": "code",
   "execution_count": null,
   "metadata": {},
   "outputs": [],
   "source": [
    "data.iloc[0, 2] = 90\n",
    "data"
   ]
  },
  {
   "cell_type": "markdown",
   "metadata": {},
   "source": [
    "Para aumentar su fluidez en la manipulación de datos de Pandas, le sugiero que pase un tiempo con un ``DataFrame`` simple y explore los tipos de indexación, corte, enmascaramiento e indexación elegante que permiten estos diversos enfoques de indexación."
   ]
  },
  {
   "cell_type": "markdown",
   "metadata": {},
   "source": [
    "### 2.2.3 Convenciones de indexación adicionales\n",
    "\n",
    "Hay un par de convenciones de indexación adicionales que pueden parecer contrarias a la discusión anterior, pero que pueden ser muy útiles en la práctica.\n",
    "Primero, mientras que *indexar* se refiere a columnas, *cortar* se refiere a filas:"
   ]
  },
  {
   "cell_type": "code",
   "execution_count": null,
   "metadata": {},
   "outputs": [],
   "source": [
    "data['Florida':'Illinois']"
   ]
  },
  {
   "cell_type": "markdown",
   "metadata": {},
   "source": [
    "Dichos segmentos también pueden referirse a filas por número en lugar de por índice:"
   ]
  },
  {
   "cell_type": "code",
   "execution_count": null,
   "metadata": {},
   "outputs": [],
   "source": [
    "data[1:3]"
   ]
  },
  {
   "cell_type": "markdown",
   "metadata": {},
   "source": [
    "De manera similar, las operaciones de enmascaramiento directo también se interpretan por filas en lugar de por columnas:"
   ]
  },
  {
   "cell_type": "code",
   "execution_count": null,
   "metadata": {},
   "outputs": [],
   "source": [
    "data[data.density > 100]"
   ]
  },
  {
   "cell_type": "markdown",
   "metadata": {},
   "source": [
    "Estas dos convenciones son sintácticamente similares a las de una matriz NumPy, y aunque es posible que no encajen con precisión en el molde de las convenciones de Pandas, son bastante útiles en la práctica."
   ]
  },
  {
   "cell_type": "markdown",
   "metadata": {},
   "source": [
    "# 3. Carga de datos a partir de archivos\n",
    "Pandas puede leer archivos de muchos tipos, como lo son <tt>csv</tt>, <tt>json</tt>, <tt>xls</tt> entre otros. Para leer un archivo siempre iniciamos con : `pd.read_filetype` "
   ]
  },
  {
   "cell_type": "code",
   "execution_count": null,
   "metadata": {},
   "outputs": [],
   "source": [
    "import pandas as pd\n",
    "pd.set_option('display.max_rows', None) \n",
    "\n",
    "# Lectura de datos desde archivo CSV\n",
    "df = pd.read_csv('./Files/primary_results.csv',sep=',')"
   ]
  },
  {
   "cell_type": "code",
   "execution_count": null,
   "metadata": {},
   "outputs": [],
   "source": [
    "df.head()"
   ]
  },
  {
   "cell_type": "markdown",
   "metadata": {},
   "source": [
    "**En la siguiente ejecución se puede generar una excepción, que se soluciona siguiendo los pasos descritos en la siguiente [página](https://bobbyhadz.com/blog/python-no-module-named-openpyxl)**. Además, puede tomar mucho tiempo cargar el archivo de Excel, debido a su tamaño, esta es una de las razones por las que las bases de datos se comparten principalmente en formato CSV."
   ]
  },
  {
   "cell_type": "code",
   "execution_count": null,
   "metadata": {},
   "outputs": [],
   "source": [
    "# Lectura de datos desde archivo XLSX\n",
    "df_excel = pd.read_excel('./Files/fallecidos_covid.xlsx')"
   ]
  },
  {
   "cell_type": "code",
   "execution_count": null,
   "metadata": {},
   "outputs": [],
   "source": [
    "# head() -> me muestra los 5 primeros registros de mi df, si quiero visualizar otra cantidad la debo especificar\n",
    "df_excel.head(2)"
   ]
  },
  {
   "cell_type": "markdown",
   "metadata": {
    "tags": []
   },
   "source": [
    "## 3.1 Exploración de la data\n",
    "\n",
    "La exploración de datos es la etapa donde obtenemos informacion sobre la data cargada, información como: cantidad de registros, visualizar registros de la data, cantidad de columnas, tipos de datos de las columnas, nombre de columnas, etc"
   ]
  },
  {
   "cell_type": "code",
   "execution_count": null,
   "metadata": {},
   "outputs": [],
   "source": [
    "df = pd.read_csv('./Files/primary_results.csv',sep=',')"
   ]
  },
  {
   "cell_type": "markdown",
   "metadata": {},
   "source": [
    "`shape` nos devuelve el número de filas y columnas"
   ]
  },
  {
   "cell_type": "code",
   "execution_count": null,
   "metadata": {},
   "outputs": [],
   "source": [
    "df.shape"
   ]
  },
  {
   "cell_type": "markdown",
   "metadata": {},
   "source": [
    "`head` retorna los primertos 5 resultados contenidos en el dataframe (df)"
   ]
  },
  {
   "cell_type": "code",
   "execution_count": null,
   "metadata": {},
   "outputs": [],
   "source": [
    "# head retorna los primeros 5 resultados del dataframe\n",
    "df.head(10)"
   ]
  },
  {
   "cell_type": "markdown",
   "metadata": {},
   "source": [
    "`tail` retorna los 5 últimos resultados contenidos en el dataframe (df)"
   ]
  },
  {
   "cell_type": "code",
   "execution_count": null,
   "metadata": {},
   "outputs": [],
   "source": [
    "# tail -> retorna los últimos 5 resultados del df\n",
    "df.tail()"
   ]
  },
  {
   "cell_type": "markdown",
   "metadata": {},
   "source": [
    "`dtypes` nos indica el tipo de dato para cada una de las columnas del df"
   ]
  },
  {
   "cell_type": "code",
   "execution_count": null,
   "metadata": {},
   "outputs": [],
   "source": [
    "df.dtypes"
   ]
  },
  {
   "cell_type": "markdown",
   "metadata": {},
   "source": [
    "`columns` nos indica las columnas que conforman el df"
   ]
  },
  {
   "cell_type": "code",
   "execution_count": null,
   "metadata": {},
   "outputs": [],
   "source": [
    "df.columns"
   ]
  },
  {
   "cell_type": "markdown",
   "metadata": {},
   "source": [
    "`describe` nos brinda un resumen de la cantidad de datos, promedio, desviación estandar, minimo, máximo, etc de los datos de las columnas posibles"
   ]
  },
  {
   "cell_type": "code",
   "execution_count": null,
   "metadata": {},
   "outputs": [],
   "source": [
    "# Describe -> nos brinda un resumen de la cantidad de datos, promedio, desviación estandar, minimo, máximo, etc \n",
    "# de los datos de las columnas posibles\n",
    "df.describe()"
   ]
  },
  {
   "cell_type": "markdown",
   "metadata": {
    "tags": []
   },
   "source": [
    "## 3.2 Trabajo con las columnas del DataFrame"
   ]
  },
  {
   "cell_type": "code",
   "execution_count": null,
   "metadata": {},
   "outputs": [],
   "source": [
    "df.columns"
   ]
  },
  {
   "cell_type": "code",
   "execution_count": null,
   "metadata": {},
   "outputs": [],
   "source": [
    "for c in df.columns:\n",
    "    print(c)"
   ]
  },
  {
   "cell_type": "markdown",
   "metadata": {},
   "source": [
    "El método `unique()` nos proporciona, cuando sea aplicable, una lista con los valores únicos de una columna."
   ]
  },
  {
   "cell_type": "code",
   "execution_count": null,
   "metadata": {},
   "outputs": [],
   "source": [
    "for idx in df['candidate'].unique():\n",
    "    print(idx)"
   ]
  },
  {
   "cell_type": "markdown",
   "metadata": {
    "tags": []
   },
   "source": [
    "# 4. Filtrado de información\n",
    "\n",
    "Podemos filtrar un dataframe mediante condiciones booleanas sobre columnas"
   ]
  },
  {
   "cell_type": "code",
   "execution_count": null,
   "metadata": {},
   "outputs": [],
   "source": [
    "# condicion -> se encarga de establecer la condicion de Verdad o Falsedad \n",
    "condicion = df['votes']>=590502\n",
    "condicion.head() "
   ]
  },
  {
   "cell_type": "code",
   "execution_count": null,
   "metadata": {},
   "outputs": [],
   "source": [
    "# usando la condicion como filtro\n",
    "df[condicion] "
   ]
  },
  {
   "cell_type": "markdown",
   "metadata": {},
   "source": [
    "podemos concatenar varias condiciones usando `&` para **AND** ,  `|` para **OR** y `~` como **NOT** o negacion.\n",
    "\n",
    "Tambien debemos recordar los operadores: `==` , `!=` , `>`, `<` , `>=` , `<=`"
   ]
  },
  {
   "cell_type": "code",
   "execution_count": null,
   "metadata": {},
   "outputs": [],
   "source": [
    "df[(df.county==\"Manhattan\") & (df.party==\"Democrat\")]"
   ]
  },
  {
   "cell_type": "markdown",
   "metadata": {},
   "source": [
    "Para ver más formas de filtrado [ver](https://towardsdatascience.com/filtering-data-frames-in-pandas-b570b1f834b9)"
   ]
  },
  {
   "cell_type": "markdown",
   "metadata": {
    "tags": []
   },
   "source": [
    "# 5. Procesadamiento de datos"
   ]
  },
  {
   "cell_type": "code",
   "execution_count": null,
   "metadata": {},
   "outputs": [],
   "source": [
    "df.head(2)"
   ]
  },
  {
   "cell_type": "markdown",
   "metadata": {},
   "source": [
    "podemos usar `sort_values` para orderar el dataframe acorde al valor de una columna o múltiples columnas"
   ]
  },
  {
   "cell_type": "code",
   "execution_count": null,
   "metadata": {},
   "outputs": [],
   "source": [
    "df_sorted = df.sort_values(by=[\"votes\",\"county\"], ascending=[True, False])\n",
    "df_sorted.head()"
   ]
  },
  {
   "cell_type": "markdown",
   "metadata": {},
   "source": [
    "utilizaremos `groupby` para realizar agrupamientos de informacion sobre una columnas"
   ]
  },
  {
   "cell_type": "code",
   "execution_count": null,
   "metadata": {},
   "outputs": [],
   "source": [
    "df.groupby([\"state\", \"party\"])"
   ]
  },
  {
   "cell_type": "markdown",
   "metadata": {},
   "source": [
    "El agrupamiento de datos implica utilizar funciones de agregacion como: `count`, `sum`, `mean`, `min`, `max` a una columna del df"
   ]
  },
  {
   "cell_type": "code",
   "execution_count": null,
   "metadata": {
    "scrolled": true,
    "tags": []
   },
   "outputs": [],
   "source": [
    "df.groupby([\"state\", \"party\"])[\"votes\"].sum()"
   ]
  },
  {
   "cell_type": "markdown",
   "metadata": {},
   "source": [
    "Es posible añadir una nueva columna al df utilizando un valor en especifico"
   ]
  },
  {
   "cell_type": "code",
   "execution_count": null,
   "metadata": {},
   "outputs": [],
   "source": [
    "# creo una columna 'nueva_columna' con el valor de 1 \n",
    "df['nueva_columna'] = 1\n",
    "df.head()"
   ]
  },
  {
   "cell_type": "markdown",
   "metadata": {},
   "source": [
    "podemos usar `apply` en una columna para obtener una nueva columna en función de sus valores"
   ]
  },
  {
   "cell_type": "code",
   "execution_count": null,
   "metadata": {
    "scrolled": true
   },
   "outputs": [],
   "source": [
    "# creo una nueva columna a partir de los datos de otra\n",
    "df['letra_inicial'] = df.state_abbreviation.apply(lambda s: s[0])  # obtengo primera letra de state_abbreviation"
   ]
  },
  {
   "cell_type": "code",
   "execution_count": null,
   "metadata": {},
   "outputs": [],
   "source": [
    "def get_label(fraction:float):\n",
    "    \n",
    "    if fraction>0.2:\n",
    "        return \"Mayor\"\n",
    "    else:\n",
    "        return \"Menor\""
   ]
  },
  {
   "cell_type": "code",
   "execution_count": null,
   "metadata": {},
   "outputs": [],
   "source": [
    "df['etiqueta_votos'] = df.fraction_votes.apply(get_label)"
   ]
  },
  {
   "cell_type": "code",
   "execution_count": null,
   "metadata": {},
   "outputs": [],
   "source": [
    "df.head()"
   ]
  },
  {
   "cell_type": "code",
   "execution_count": null,
   "metadata": {},
   "outputs": [],
   "source": [
    "df.groupby(\"letra_inicial\")[\"votes\"].sum().sort_values()"
   ]
  },
  {
   "cell_type": "markdown",
   "metadata": {},
   "source": [
    "Podemos unir dos dataframes en funcion de sus columnas comunes usando `merge`\n",
    "\n",
    "La operacion merge implica combinar 2 df a partir de uno o más valores llave o `key`"
   ]
  },
  {
   "cell_type": "code",
   "execution_count": null,
   "metadata": {},
   "outputs": [],
   "source": [
    "# Descargamos datos de pobreza por condado en US en https://www.ers.usda.gov/data-products/county-level-data-sets/county-level-data-sets-download-data/\n",
    "df_pobreza = pd.read_csv(\"./Files/PovertyEstimates.csv\")"
   ]
  },
  {
   "cell_type": "code",
   "execution_count": null,
   "metadata": {},
   "outputs": [],
   "source": [
    "df_pobreza.head()"
   ]
  },
  {
   "cell_type": "code",
   "execution_count": null,
   "metadata": {},
   "outputs": [],
   "source": [
    "df.head(2)"
   ]
  },
  {
   "cell_type": "code",
   "execution_count": null,
   "metadata": {},
   "outputs": [],
   "source": [
    "# Combinando ambas fuentes de datos en un único dataframe a partir de los valores llave\n",
    "df = df.merge(df_pobreza, left_on=\"fips\", right_on=\"FIPStxt\")\n",
    "df.head()"
   ]
  },
  {
   "cell_type": "markdown",
   "metadata": {},
   "source": [
    "Como punto general existen diferentes formas de combinar los dataframe, siendo el método `inner` el utilizado por defecto"
   ]
  },
  {
   "cell_type": "markdown",
   "metadata": {},
   "source": [
    "Como punto final aplicamos un agrupamiento aplicando múltiples funciones de agregacion al df"
   ]
  },
  {
   "cell_type": "code",
   "execution_count": null,
   "metadata": {
    "scrolled": true
   },
   "outputs": [],
   "source": [
    "county_votes = df.groupby([\"county\",\"party\"]).agg({\n",
    "    \"fraction_votes\":\"mean\",\n",
    "    \"PCTPOVALL_2015\": \"mean\"   \n",
    "   }\n",
    ")"
   ]
  },
  {
   "cell_type": "code",
   "execution_count": null,
   "metadata": {},
   "outputs": [],
   "source": [
    "county_votes"
   ]
  },
  {
   "cell_type": "markdown",
   "metadata": {},
   "source": [
    "# Mini _challenge_ 11\n",
    "\n",
    "### Para todos los puntos de este Mini challenge debe hacer uso de métodos y funciones de `Pandas`.\n",
    "\n",
    "1. En el archivo <tt>titanic.csv</tt> encontrará una data sobre los pasajeros del Titanic. Cargue los datos en un `DataFrame`y realice cálculos que permitan respoder las siguientes preguntas:\n",
    "    1. Número de pasajeros que sobrevivieron por cada clase (Columna <tt>Pclass</tt>)\n",
    "    1. Proporción de hombres y mujeres que murieron\n",
    "    1. Tarifa promedio por clase para sobrevivientes y muertos\n",
    "\n",
    "2. El archivo <tt>boston_dataset.xlsx</tt> contiene 13 atributos:\n",
    "    | Stretch/Untouched | ProbDistribution |\n",
    "    |:---:|:-----|\n",
    "    |CRIM | tasa de criminalidad per cápita por ciudad                                             |\n",
    "    |ZN | proporción de terreno residencial zonificado para lotes de más de 25,000 pies cuadrados. |\n",
    "    |INDUS | proporción de acres comerciales no minoristas por ciudad.                             |\n",
    "    |NOX | concentración de óxidos nítricos (partes por 10 millones)                               |\n",
    "    |RM | número promedio de cuartos por vivienda                                                  |\n",
    "    |AGE | proporción de unidades ocupadas por propietarios construidas antes de 1940              |\n",
    "    |DIS | distancias ponderadas a cinco centros de empleo de Boston                               |\n",
    "    |RAD | índice de accesibilidad a las carreteras radiales                                       |\n",
    "    |TAX| tasa de impuestos sobre la propiedad de valor total por cada USD 10,000                  |\n",
    "    |PTRATIO | ratio alumno/profesor por localidad                                                 |\n",
    "    |B | 1000(Bk - 0.63)^2 donde Bk es la proporción de negros por ciudad                          |\n",
    "    |LSTAT | \\% estado más bajo de la población                                                    |\n",
    "    |MEDV | valor medio de las viviendas ocupadas por sus propietarios en miles de dólares         |\n",
    "\n",
    "    Calcule las estadísticas descriptivas (Media, Desviación, etc.) de cada columna por ciudad (columna <tt>TOWN</tt>)\n",
    "\n",
    "## Condiciones de entrega\n",
    "Para este Mini *challenge* se debe hacer entrega, a través del aula digital, de un archivo IPYNB con las soluciones a los problemas y que cuente con lo siguiente:\n",
    "- Un primer bloque en Markdown a manera de portada, con la siguiente información centrada:\n",
    "    * Identificación del curso\n",
    "    * Nombre del estudiante\n",
    "    * Identificación del mini *challenge*\n",
    "    * Fecha\n",
    "- Presentación de cada ejercicio en celda Markdown\n",
    "- Celdas ejecutables con los problemas desarrollados"
   ]
  },
  {
   "cell_type": "markdown",
   "metadata": {},
   "source": [
    "<img src=\"Images/by_nc_sa.svg\" style=\"float:left;width: 50px;\"/> &nbsp; El material de este curso está bajo una licencia Creative Commons [Atribución-NoComercial-CompartirIgual 4.0 Internacional](LICENSE.MD) (CC BY-NC-SA 4.0)\n",
    "Este *Notebook* está parcialmente basado en el material complementario del libro [Python Data Science Handbook](https://www.oreilly.com/library/view/python-data-science/9781491912126/) disponible en [GitHub](https://github.com/jakevdp/PythonDataScienceHandbook)."
   ]
  }
 ],
 "metadata": {
  "kernelspec": {
   "display_name": "Python 3 (ipykernel)",
   "language": "python",
   "name": "python3"
  },
  "language_info": {
   "codemirror_mode": {
    "name": "ipython",
    "version": 3
   },
   "file_extension": ".py",
   "mimetype": "text/x-python",
   "name": "python",
   "nbconvert_exporter": "python",
   "pygments_lexer": "ipython3",
   "version": "3.10.10"
  },
  "latex_envs": {
   "LaTeX_envs_menu_present": true,
   "autocomplete": true,
   "bibliofile": "biblio.bib",
   "cite_by": "apalike",
   "current_citInitial": 1,
   "eqLabelWithNumbers": true,
   "eqNumInitial": 1,
   "hotkeys": {
    "equation": "Ctrl-E",
    "itemize": "Ctrl-I"
   },
   "labels_anchors": false,
   "latex_user_defs": false,
   "report_style_numbering": true,
   "user_envs_cfg": true
  },
  "toc": {
   "base_numbering": 1,
   "nav_menu": {},
   "number_sections": true,
   "sideBar": true,
   "skip_h1_title": true,
   "title_cell": "Tabla de Contenidos",
   "title_sidebar": "Contenidos",
   "toc_cell": true,
   "toc_position": {
    "height": "calc(100% - 180px)",
    "left": "10px",
    "top": "150px",
    "width": "165px"
   },
   "toc_section_display": true,
   "toc_window_display": true
  }
 },
 "nbformat": 4,
 "nbformat_minor": 4
}
