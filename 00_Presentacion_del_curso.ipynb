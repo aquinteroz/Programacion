{
 "cells": [
  {
   "cell_type": "markdown",
   "metadata": {
    "slideshow": {
     "slide_type": "notes"
    }
   },
   "source": [
    "<h1 align=\"center\">Programación &#8212; PRE2013A45</h1>\n",
    "<h3 align=\"center\">Docente: Andrés Quintero Zea, PhD.</h3>\n",
    "<h3 align=\"center\">e-mail: andres.quintero27@eia.edu.co</h3>"
   ]
  },
  {
   "cell_type": "markdown",
   "metadata": {
    "slideshow": {
     "slide_type": "notes"
    }
   },
   "source": [
    "# Presentación del curso\n",
    "\n",
    "## Objetivo General\n",
    "\n",
    "Desarrollar habilidades y competencias en el lenguaje de programación `Python` para la solución de problemas orientados al análisis matemático y la ciencia de datos. \n",
    "\n",
    "\n",
    "## Objetivos específicos\n",
    "\n",
    "- Conocer la sintaxis de Python a través de los fundamentos de programación. \n",
    "- Entender las bases de la ciencia de datos para el análisis y visualización de datos. \n",
    "\n",
    "## Resultados de aprendizaje\n",
    "\n",
    "Al finalizar la asignatura, el estudiante estará en capacidad de: \n",
    "* Pensar creativamente para plantear solución a problemas usando lenguaje de programación `Python`\n",
    "* Expresar las soluciones planteadas de manera clara, acertada y concisa\n",
    "* Plantear y desarrollar metodologías para el análisis y visualización de datos\n",
    "\n",
    "## Contenido programático\n",
    "\n",
    "|**Semana**| **Fecha**|**Contenido**|\n",
    "|:-----:|:-------------:|:------------------|\n",
    "|01\t| 23-ene a 27-ene\t|Introducción a lenguaje [Python](http://www.python.org) y entorno [Colab](http://colab.research.google.com)|\n",
    "|02\t| 30-ene a 3-feb\t| Variables, operadores y expresiones|\t\n",
    "|03\t| 6-feb a 10-feb\t| Control de flujo condicional|\n",
    "|04\t| 13-feb a 17-feb\t| Control de flujo repetitivo|\n",
    "|05\t| 20-feb a 24-feb\t| Funciones y módulos|\n",
    "|06\t| 27-feb a 3-mar\t| Listas y Tuplas|\n",
    "|07\t| 6-mar a 10-mar\t| Cadenas de caracteres (strings)|\n",
    "|08\t| 13-mar a 17-mar\t| Diccionarios y conjuntos|\n",
    "|09\t| 27-mar - 31-mar\t| Manejo de archivos y excepciones|\n",
    "|10\t| 10-abr - 14-abr\t| Manejo de bases de datos|\n",
    "|11\t| 17-abr - 21-abr\t| Visualización de datos: [Matplotlib](https://matplotlib.org/) y [Seaborn](https://seaborn.pydata.org/)|\n",
    "|12\t| 24-abr - 28-abr\t| Manipulación de datos: [Numpy](https://numpy.org/)|\n",
    "|13\t| 1-may - 5-may\t\t| Análisis de datos: [Pandas](https://pandas.pydata.org/) (1)|\t\n",
    "|14\t| 8-may - 12-may\t| Análisis de datos: Pandas (2)|\n",
    "|15\t| 15-may - 19-may\t| Programación orientada a objetos|\n",
    "|16\t| 22-may - 26-may\t| Herencia|\n",
    "\n",
    "## Evaluación\n",
    "\n",
    "|**Actividad**|**Fecha**|**Ponderación**|\n",
    "|:------------|:-------:|:-------------:|\n",
    "|Examen parcial|18/03 a 25/03|20%|\n",
    "|Examen final|29/05 a 05/06|30%|\n",
    "|Mini _challenge_ Python|18/03|15%|\n",
    "|Mini _challenge_ data|18/03|15%|\n",
    "|Proyecto final|27/05|15%|\n",
    "|[Boo!](https://bartbonte.com/)|27/05|5%|\n",
    "\n",
    "## Metodología\n",
    "\n",
    "La asignatura se imparte de forma **presencial** en la modalidad de clase invertida, es decir, incorpora algunas lecturas y extensos ejercicios de aprendizaje activo. El objetivo es brindar al estudiante más experiencia práctica y orientación práctica a medida que aprende a resolver problemas a través de la programación de computadoras. Esto significa que se espera que complete la instrucción directa, generalmente en forma de lecturas y videos, antes de venir a clase. \n",
    "\n",
    "Cada clase se compone de tres elementos. La primera parte es una clase de entre 45 y 50 minutos que incluye una sesión de repaso, preguntas y respuestas, es responsabilidad del estudiante revisar las temáticas que se abordan en <a href=\"Material/Planeación_Clase_A_Clase.xlsx\"> cada clase</a>. Luego hay una sesión práctica de aprendizaje activo, con una duración promedio de 45 minutos, en la que los estudiantes ejecutan, con el apoyo del profesor, diferentes programas. Finalmente, la clase termina con el desarrollo de pequeños desafíos (llamados mini challenge) en los que el estudiante deberá usar la temática abordada para dar solución a diferentes problemas.\n",
    "\n",
    "Las notas son responsabilidad del estudiante, **NO DEL PROFESOR**. Al final del semestre por favor evitar enviar correos del tipo:\n",
    "\n",
    "- “por favor colocarme un trabajo adicional”\n",
    "\n",
    "- “me van a quitar la beca”\n",
    "\n",
    "- “el promedio me va a quedar muy bajito”\n",
    "\n",
    "- “aunque la pierda que me quede altica”\n",
    "\n",
    "**Asesorías:** Si durante el proceso formativo se le presenta algún inconveniente o duda, no se la guarde y contacte al profesor por medio de Teams o presencialmente en la oficina (Escuela de ciencias de la vida).\n",
    "\n",
    "**Repositorio en GitHub**: El material de clase se encuentra disponible en un repositorio alojado en [GitHub](https://github.com/aquinteroz/Programacion.git)."
   ]
  },
  {
   "cell_type": "markdown",
   "metadata": {},
   "source": [
    "<img src=\"Images/by_nc_sa.svg\" style=\"float:left;width: 50px;\"/> &nbsp; El material de este curso está bajo una licencia Creative Commons [Atribución-NoComercial-CompartirIgual 4.0 Internacional](LICENSE.MD) (CC BY-NC-SA 4.0)"
   ]
  }
 ],
 "metadata": {
  "kernelspec": {
   "display_name": "Python 3 (ipykernel)",
   "language": "python",
   "name": "python3"
  },
  "language_info": {
   "codemirror_mode": {
    "name": "ipython",
    "version": 3
   },
   "file_extension": ".py",
   "mimetype": "text/x-python",
   "name": "python",
   "nbconvert_exporter": "python",
   "pygments_lexer": "ipython3",
   "version": "3.10.8"
  },
  "latex_envs": {
   "LaTeX_envs_menu_present": true,
   "autocomplete": true,
   "bibliofile": "biblio.bib",
   "cite_by": "apalike",
   "current_citInitial": 1,
   "eqLabelWithNumbers": true,
   "eqNumInitial": 1,
   "hotkeys": {
    "equation": "Ctrl-E",
    "itemize": "Ctrl-I"
   },
   "labels_anchors": false,
   "latex_user_defs": false,
   "report_style_numbering": true,
   "user_envs_cfg": true
  },
  "toc": {
   "base_numbering": 1,
   "nav_menu": {},
   "number_sections": true,
   "sideBar": true,
   "skip_h1_title": true,
   "title_cell": "Tabla de Contenidos",
   "title_sidebar": "Contenidos",
   "toc_cell": true,
   "toc_position": {
    "height": "calc(100% - 180px)",
    "left": "10px",
    "top": "150px",
    "width": "165px"
   },
   "toc_section_display": true,
   "toc_window_display": true
  }
 },
 "nbformat": 4,
 "nbformat_minor": 2
}
