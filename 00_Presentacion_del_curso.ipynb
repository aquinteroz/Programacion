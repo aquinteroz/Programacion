{
 "cells": [
  {
   "cell_type": "markdown",
   "metadata": {
    "slideshow": {
     "slide_type": "notes"
    }
   },
   "source": [
    "<h1 style=\"text-align: center;\">Programación &#8212; PRE2013A45</h1>\n",
    "<h3 align=\"center\">Docente: Andrés Quintero Zea, PhD.</h3>\n",
    "<h3 align=\"center\">e-mail: andres.quintero27@eia.edu.co</h3>"
   ]
  },
  {
   "cell_type": "markdown",
   "metadata": {
    "slideshow": {
     "slide_type": "notes"
    }
   },
   "source": [
    "# Presentación del curso\n",
    "\n",
    "## Objetivo General\n",
    "\n",
    "- Desarrollar habilidades de pensamiento de orden superior, como el razonamiento abstracto, el pensamiento crítico y la resolución de problemas, con base en los conceptos de la computación.\n",
    "\n",
    "\n",
    "\n",
    "## Objetivos específicos\n",
    "\n",
    "- Abstraer la información relevante de un problema cotidiano y proponer una estrategia metódica de solución.\n",
    "\n",
    "\n",
    "- Desarrollar algoritmos y programas simples en Python.\n",
    "\n",
    "\n",
    "- Entender y aplicar conceptos básicos de ciencias de la computación, tales como: representación de datos, algoritmia, funciones, patrones, entre otros.\n",
    "\n",
    "## Competencias\n",
    "\n",
    "Tras participar del proceso cognoscitivo y práctico, se espera que el alumno este en capacidad de:\n",
    "* Entender la sintaxis de lenguaje `Python` al leer fuentes de otros programadores.\n",
    "* Crear(Escribir) Scripts en `Python`, para crear diferentes tipos de aplicaciones.\n",
    "\n",
    "## Contenido programático\n",
    "\n",
    "|**Semana** | **Fecha**         |**Contenido** |\n",
    "|:-----:|:-------------:|:------------------|\n",
    "01\t| 23-ene a 27-ene\t| Presentación del curso Introducción a lenguaje [Python](http://www.python.org) y entorno [Colab](http://colab.research.google.com)\n",
    "02\t| 30-ene a 3-feb\t| Variables, operadores y expresiones\t\n",
    "03\t| 6-feb a 10-feb\t| Control de flujo condicional\t\n",
    "04\t| 13-feb a 17-feb\t| Control de flujo repetitivo\t\n",
    "05\t| 20-feb a 24-feb\t| Funciones y módulos\t\n",
    "06\t| 27-feb a 3-mar\t| Listas y Tuplas\t\n",
    "07\t| 6-mar a 10-mar\t| Cadenas de caracteres (strings)\t\n",
    "08\t| 13-mar a 17-mar\t| Diccionarios y conjuntos\t\n",
    "09\t| 27-mar - 31-mar\t| Manejo de archivos y excepciones\t\n",
    "10\t| 10-abr - 14-abr\t| Manejo de bases de datos\t\n",
    "11\t| 17-abr - 21-abr\t| Visualización de datos: Matplotlib y Seaborn\t\n",
    "12\t| 24-abr - 28-abr\t| Manipulación de datos: Numpy\t\n",
    "13\t| 1-may - 5-may\t\t| Análisis de datos: Pandas (1)\t\n",
    "14\t| 8-may - 12-may\t| Análisis de datos: Pandas (2)\t\n",
    "15\t| 15-may - 19-may\t| Programación orientada a objetos\t\n",
    "16\t| 22-may - 26-may\t| Herencia\n",
    "\n",
    "## Evaluación\n",
    "\n",
    "|**Actividad**|**Fecha**|**Ponderación**|\n",
    "|:------------|:-------:|:-------------:|\n",
    "|Examen parcial|18/03 a 25/03|20%|\n",
    "|Examen final|29/05 a 05/06|30%|\n",
    "|Mini _challenge_ Python|18/03|15%|\n",
    "|Mini _challenge_ data|18/03|15%|\n",
    "|Proyecto final|27/05|15%|\n",
    "|[Boo!](https://bartbonte.com/)|27/05|5%|\n",
    "\n",
    "## Metodología\n",
    "\n",
    "La modalidad del curso es ***presencial*** sin embargo, entendiendo la actual situación por la que atravesamos, los estudiantes que tengan dificultad de asistir presencialmente en el campus de la Universidad lo podrán hacer a través de TEAMS. ***Las clases no serán grabadas***.\n",
    "\n",
    "Aunque la asistencia a clases en la Universidad es voluntaria, se tomará asistencia por cuestiones de controles internos. Se recomienda asistir a todas las clases y aprovechar los espacios de discusión en tiempo real.\n",
    "\n",
    "Las notas son responsabilidad del estudiante, NO DEL PROFESOR. Al final del semestre por favor evitar enviar correos del tipo:\n",
    "\n",
    "- “por favor colocarme un trabajo adicional”\n",
    "\n",
    "- “me van a quitar la beca”\n",
    "\n",
    "- “el promedio me va a quedar muy bajito”\n",
    "\n",
    "- “aunque la pierda que me quede altica”\n",
    "\n",
    "\n",
    "\n",
    "***Clases magistrales:*** Desde la primera clase el estudiante contará con la totalidad del material de estudio, por lo que será su respobsabilidad repasar las clases anteriores y actual antes de cada clase.\n",
    "\n",
    "\n",
    "***Clases prácticas donde se desarrollan talleres:*** terminar todos los talleres y ejercicios de las clases anteriores para ir al día con el curso\n",
    "\n",
    "\n",
    "***Asesorías:*** primero tratar de utilizar el canal de dudas de Teams. Luego llevar dudas puntuales a la asesoría. Evite estudiar y aprender empleando Youtube.\n",
    "\n",
    "- [x] Write the press release\n",
    "- [ ] Update the website\n",
    "- [ ] Contact the media\n",
    "\n",
    "Gone camping! :tent: Be back soon.\n",
    "\n",
    "That is so funny! :joy:\n",
    ":warning:"
   ]
  },
  {
   "cell_type": "markdown",
   "metadata": {},
   "source": [
    "## Recursos de programación"
   ]
  },
  {
   "cell_type": "markdown",
   "metadata": {
    "slideshow": {
     "slide_type": "slide"
    }
   },
   "source": [
    "### Por qué usar Python?"
   ]
  },
  {
   "cell_type": "markdown",
   "metadata": {
    "slideshow": {
     "slide_type": "fragment"
    }
   },
   "source": [
    "`Python` es un lenguaje de programación multiplataforma, algunas de sus ventajas son: ayuda a mejorar la productividad ya que permite trabajar mucho más rápido que cualquier otro lenguaje, es versátil y soporta programación orientada a objetos, cuenta con una gran extensión de bibliotecas para un mejor uso, es un lenguaje de programación sostenible lo cual permite leer y modificar de una manera fácil los programas.\n",
    "\n",
    "- Lenguaje de programación de alto nivel creado por [Guido van Rossum](https://gvanrossum.github.io/ \"Guido van Rossum's home page\") a finales de los 80's. \n",
    "\n",
    "\n",
    "- Actualmente ocupa los promeros lugares como uno de los lenguajes de programación más ampliamente usados a nivel mundial. [TIOBE index enero/2021](https://www.tiobe.com/tiobe-index/ \"tiobe.com\") y [PYPL PopularitY of Programming Language](https://pypl.github.io/PYPL.html \"PYPL\")\n",
    "\n",
    "\n",
    "- Una de las mayores ventajas es su \"simplicidad\": En general, se requiere de muchas menos líneas de programación para ejecutar una determinada tarea que en otros lenguajes (`C/C++`, `java`, $\\ldots$.).\n",
    "\n",
    "\n",
    "- Viene con una amplica colección de bibliotecas que permiten extender las capacidades del lenguaje.\n",
    "\n",
    "\n",
    "- [Este](https://www.youtube.com/watch?v=Og847HVwRSI&feature=emb_logo \"Most popular programming languges 1965 - 2019\") es un video muy interesante que muestra la evolución de los lenguajes de programación más usados a nivel mundial desde 1965 y hasta 2019. Ampliamente recomndable su visualización:"
   ]
  },
  {
   "cell_type": "markdown",
   "metadata": {},
   "source": [
    "### Con Python se pueden hacer:"
   ]
  },
  {
   "cell_type": "markdown",
   "metadata": {
    "slideshow": {
     "slide_type": "subslide"
    }
   },
   "source": [
    "- Aplicaciones Web.\n",
    "\n",
    "- Análisis de Datos.\n",
    "\n",
    "- Aprendizajes de Maquina.\n",
    "\n",
    "- Visión Artificial.\n",
    "\n",
    "- Robótica, programar \"pequeñas\" computadoras(Raspberry Pi).\n",
    "\n",
    "- Juegos.\n",
    "\n",
    "- Web Scraping.\n",
    "\n",
    "- Automatizar(Scripts)"
   ]
  },
  {
   "cell_type": "markdown",
   "metadata": {},
   "source": [
    "### Algunas Empresas que usan Python:"
   ]
  },
  {
   "cell_type": "markdown",
   "metadata": {},
   "source": [
    "<img src=\"https://github.com/carlosalvarezh/FundamentosProgramacion/blob/main/images/Sem01Img02.PNG?raw=true\" width=\"500\" />\n",
    "</p>\n"
   ]
  },
  {
   "cell_type": "markdown",
   "metadata": {},
   "source": [
    "### Por dónde empiezo? "
   ]
  },
  {
   "cell_type": "markdown",
   "metadata": {
    "slideshow": {
     "slide_type": "slide"
    }
   },
   "source": [
    "Lo primero es elegir una herramienta de trabajo sobre la cual realizar el código. A continuación me permito compartirles solo algunas herramientas de esas que he tenido la oportunidad de revisar y me parecen apropiadas para un curso de este nivel. No son las únicas, por el contrario, existen muchas otras más, quizás mejores, dependiendo del interés particular de desarrollo de cada quién. "
   ]
  },
  {
   "cell_type": "markdown",
   "metadata": {
    "slideshow": {
     "slide_type": "slide"
    }
   },
   "source": [
    "Algunos Aplicativos usados para programar, enfoncándonos luego en `Python`, son:\n",
    "\n",
    "\n",
    "- **[VPL - Laboratorio de programación virtual para Moodle](https://contenidosint.org/login/index.php \"VPL- Virtual Programming Lab\"):** es un módulo de actividades que gestiona las asignaciones de programación y cuyas características destacadas son: Editar el código fuente de los programas en el navegador. Ejecutar programas de forma interactiva en el navegador. Ejecutar pruebas para revisar los programas. Buscar similitudes entre archivos. Establecer restricciones de edición y evitar el pegado de texto externo.\n",
    "\n",
    "\n",
    "- **[PSeInt](http://pseint.sourceforge.net/ \"PSeInt\"):** \"*PSeInt es una herramienta para asistir a un estudiante en sus primeros pasos en programación. Mediante un simple e intuitivo pseudolenguaje en español (complementado con un editor de diagramas de flujo), le permite centrar su atención en los conceptos fundamentales de la algoritmia computacional, minimizando las dificultades propias de un lenguaje y proporcionando un entorno de trabajo con numerosas ayudas y recursos didácticos*\".\n",
    "\n",
    "\n",
    "- **[Anaconda](https://www.anaconda.com/ \"Anaconda\")**: suite de trabajo para desarrollo de programas en [Python](https://www.python.org/ \"Python.org\") o [R](https://www.r-project.org/ \"R\") para proyectos de computación científica, que incluye el Notebook [Jupyter](http://jupyter.org/ \"Jupyter\"), plataforma en la que están hechas estas notas del curso, y el IDE [Spyder](https://www.spyder-ide.org/ \"Spyder\"), entre otras herramientas.\n",
    "\n",
    "\n",
    "- **[Google Colab](https://colab.research.google.com/ \"Google Colaboratory\"):** *Colaboratory* (también conocido como *Colab*) es un entorno de *notebook Jupyter* gratuito que se ejecuta en la nube y almacena sus notebooks en *Google Drive*. *Colab* fue originalmente un proyecto interno de *Google* y a partir de octubre de 2019 *Colab* solo le permite crear notebooks con núcleos `Python 2` y `Python 3`; sin embargo, si tiene una computadora portátil con kernels `ir` o `swift`, funcionará, ya que tanto `R` como `Swift` están instalados en el contenedor. Otros núcleos como `Julia` aún no son compatibles.\n",
    "\n",
    "\n",
    "**IDE** (*Integrated Development Environment*) o *Entorno de Desarrollo Integrado*, es una aplicación informática que permite la integración de varios servicios que permiten el desarrollo de un software o programa de computador. \n",
    "\n",
    "Normalmente consiste de:\n",
    "\n",
    "- Editor de Código fuente\n",
    "\n",
    "- Depurador\n",
    "\n",
    "A seguir enunciaremos algunos IDE ampliamente usados en la industria:\n",
    "\n",
    "- **[PyCharm](https://www.jetbrains.com/pycharm-edu/ \"PyCharm\"):** es un entorno de desarrollo integrado (*IDE*) utilizado en la programación de computadoras, específicamente para el lenguaje `Python`. Es desarrollado por la compañía checa [JetBrains](https://www.jetbrains.com/ \"JetBrains\"). Proporciona análisis de código, un depurador gráfico, un probador de unidad integrado, integración con sistemas de control de versiones (*VCS*) y admite el desarrollo web con *Django*, así como Data Science con *Anaconda*.\n",
    "\n",
    "\n",
    "- **[repl.it](https://www.repl.it \"repl.it\"):** es una start-up basada en San Francisco y un *IDE* en línea. Su nombre proviene de \"[read – eval – print loop](https://en.wikipedia.org/wiki/Read%E2%80%93eval%E2%80%93print_loop \"repl\")\". Es compatible [*+50* lenguajes de programación](https://repl.it/languages \"repl.it languages\"): *JavaScript*, *Python*, *PHP*, *C/C++*, *Fortran* o incluso *QBasic*, entre muchos otros, así como de frameworks populares como Django, Ruby on Rails y Sinatra. Y si quieres lastimarte y escribir en Brainfuck, también puedes hacerlo.\n",
    "\n",
    "\n",
    "- **[Visual Studio Code](https://code.visualstudio.com/ \"Visual Studio Code\"):** es un editor de código fuente gratuito creado por Microsoft para Windows, Linux y macOS. Las características incluyen soporte para depuración, resaltado de sintaxis, finalización inteligente de código, fragmentos, refactorización de código y Git integrado \n",
    "\n",
    "\n",
    "También se puede desarrollar código empleando un bloc de notas y grabando el archivo del código creado con extensión `.py` que será reconocido por el compilador del lenguaje `python`. Adicionalmente a los bloc de notas \"clásico\" del windows, se tiene:\n",
    "\n",
    "- **[Notepad++](http://notepad-plus-plus.org/ \"Notepad\"):** es un editor de código fuente (ojo, no ejecuta!!! solo edita!!!). Presenta resaltado de sintaxis, plegado de código y autocompletado limitado para lenguajes de programación, scripting y marcado, pero no terminación de código inteligente o verificación de sintaxis. Como tal, puede resaltar correctamente el código escrito en un esquema compatible, pero no se puede verificar si la sintaxis es internamente sólida o compilable. A partir de la versión 7.6.3, *Notepad++* puede resaltar los elementos sintácticos de *+70 lenguajes de programación*. Solo se cuenta para trabajar en el SO *Windows*.\n"
   ]
  },
  {
   "cell_type": "markdown",
   "metadata": {
    "slideshow": {
     "slide_type": "slide"
    }
   },
   "source": [
    "### De dónde obtengo información para aprender a programar?"
   ]
  },
  {
   "cell_type": "markdown",
   "metadata": {},
   "source": [
    "#### Algoritmia"
   ]
  },
  {
   "cell_type": "markdown",
   "metadata": {
    "slideshow": {
     "slide_type": "slide"
    }
   },
   "source": [
    "Algunos libros introductorios en [Algoritmia](https://es.wikiversity.org/wiki/Algoritmia_y_programaci%C3%B3n_b%C3%A1sica/Aspectos_introductorios \"Algoritmia\"), que no emplean ningún lenguaje en particular \n",
    "\n",
    "- [Farrell, Joyce](http://latinoamerica.cengage.com/ls/introduccion-a-la-programacion-logica-y-diseno-7a-ed/ \"Farrell, Joyce. Introducción a la programación Lógica y Diseño\"). Introducción a la programación Lógica y Diseño (en físico, $$).\n",
    "\n",
    "\n",
    "- [Pinales y Velázquez](http://www.uaa.mx/direcciones/dgdv/editorial/docs/algoritmos.pdf \"Pinales y Velázquez. Algoritmos Resueltos con Diagramas de Flujo y Pseudocódigo\"). Algoritmos Resueltos con Diagramas de Flujo y Pseudocódigo (en pdf, libre descarga)."
   ]
  },
  {
   "cell_type": "markdown",
   "metadata": {},
   "source": [
    "#### Python como lenguaje de programación (uno entre muchos)"
   ]
  },
  {
   "cell_type": "markdown",
   "metadata": {
    "slideshow": {
     "slide_type": "slide"
    }
   },
   "source": [
    "- [Python.org](https://www.python.org/ \"Python.org\"): Página oficial del lenguaje de programación Python (inglés)\n",
    "\n",
    "\n",
    "- [Downey, Allen B. Think Python. 2a Ed. Green Tea Press.](http://greenteapress.com/wp/think-python-2e/ \"Downey, Allen B. Think Python\"): Libro en PDF de libre descarga (inglés).  "
   ]
  },
  {
   "cell_type": "markdown",
   "metadata": {},
   "source": [
    "#### MooCs"
   ]
  },
  {
   "cell_type": "markdown",
   "metadata": {},
   "source": [
    "**MooC** es la abreviatura de **Curso masivo abierto en línea** (*Massive open online Course*, en inglés) . En términos simples, es un curso de estudio puesto a disposición por Internet para una gran cantidad de personas. Algunas de las compañías de cursos en línea más comunes que compiten por este nuevo negocio educativo son: [Udemy](https://www.udemy.com/ \"Udemy\"), [Edx](https://www.edx.org/ \"Edx\"), [Coursera](https://www.coursera.org/ \"Coursera\") y [DataCamp](https://www.datacamp.com/ \"DataCamp\"), entre muchos otros.\n",
    "\n",
    "Los *MooC* generalmente tienen fechas específicas de inicio y finalización. Los interesados miran conferencias de video en línea, completan las tareas y reciben la calificación de inmediato la mayor parte del tiempo. Con el auge de la globalización y la tecnología, la accesibilidad a la educación superior ha aumentado dramáticamente.\n",
    "\n",
    "Los MooC son generalmente gratuitos, y los cursos ofrecidos en línea a menudo provienen de algunas de las universidades más prestigiosas como *Harvard*, *MIT* y *Stanford*. Cada año, los *MooC* se vuelven más populares. Hay más cursos disponibles y la calidad de la educación en línea aumenta. Los MooC se caracterizan por su masividad, apertura y conectividad. Utilizan estrategias similares a las redes sociales, conectando a las masas con los beneficios del aprendizaje.\n",
    "\n",
    "Pero... cuál de todos escoger? en [este enlace](https://coolcollegehelpers.com/udemy-vs-edx-coursera-udacity/ \"Udemy vs Edx vs Coursera vs Udacity\") pueden encontrar una excelente descripción de cada uno de ellos y encontrar cuál se adapta más a sus necesidades de capacitación, o en [este](https://medium.com/@adiyagil/udemy-vs-coursera-vs-lynda-the-ultimate-comparison-70586665dca5 \"Ultimate comparison\") también, y [aquí](https://www.thecrowder.com/online-courses-sites?utm_source=me&utm_medium=organic&utm_campaign=education&utm_content=Udemy-VS-Coursera-VS-Lynda&ref=me-organic-education-Udemy-VS-Coursera-VS-Lynda \"Online Courses Sites\") encontrará un cuadro comparativo y acceso directo a algunas de esas plataformas. "
   ]
  },
  {
   "cell_type": "markdown",
   "metadata": {},
   "source": [
    "#### Tutoriales on-line:"
   ]
  },
  {
   "cell_type": "markdown",
   "metadata": {
    "slideshow": {
     "slide_type": "slide"
    }
   },
   "source": [
    "Algunas páginas que ofrecen cursos on-line en diferentes áreas de las *TICs* (inglés/español). Algunos son libres (\"grátis\") pero si necesita certificado debes pagar.\n",
    "\n",
    "- **[Python Course](https://www.python-course.eu/index.php):** Excelente página para aprender `Python`a nivel básico, intermedio y/o avanzado (inglés)\n",
    "\n",
    "\n",
    "- **[SocraticaStudios](https://www.youtube.com/user/SocraticaStudios \"Socratica\")** Canal de [Youtube](https://www.youtube.com/ \"Youtube\") con algunos recursos en español."
   ]
  },
  {
   "cell_type": "markdown",
   "metadata": {},
   "source": [
    "#### Apps para Smartphones y Tablets"
   ]
  },
  {
   "cell_type": "markdown",
   "metadata": {
    "slideshow": {
     "slide_type": "slide"
    }
   },
   "source": [
    "- **[Sololearn](https://www.sololearn.com/Course/Python/)**"
   ]
  },
  {
   "cell_type": "markdown",
   "metadata": {},
   "source": [
    "#### Repositorios"
   ]
  },
  {
   "cell_type": "markdown",
   "metadata": {
    "slideshow": {
     "slide_type": "slide"
    }
   },
   "source": [
    "En los repositorios de software encontrarán abundante información de códigos ya creados que les permitirán avanzar en el conocimiento de los diferentes esquemas de programación, así como ver cómo es que otros programan y tienen (posiblemente) buenas prácticas de programación que te servirán para tener unos códigos muy eficientes y límpios.\n",
    "\n",
    "- **[Github](https://github.com/ \"Github\")**"
   ]
  },
  {
   "cell_type": "markdown",
   "metadata": {},
   "source": [
    "<img src=\"Images/mit_license_icon.svg\" style=\"float:left;width: 25px;\"/> &nbsp; *Este archivo se comparte bajo los términos de la licencia* **[MIT](LICENSE)**"
   ]
  }
 ],
 "metadata": {
  "kernelspec": {
   "display_name": "Python 3 (ipykernel)",
   "language": "python",
   "name": "python3"
  },
  "language_info": {
   "codemirror_mode": {
    "name": "ipython",
    "version": 3
   },
   "file_extension": ".py",
   "mimetype": "text/x-python",
   "name": "python",
   "nbconvert_exporter": "python",
   "pygments_lexer": "ipython3",
   "version": "3.10.8"
  },
  "latex_envs": {
   "LaTeX_envs_menu_present": true,
   "autocomplete": true,
   "bibliofile": "biblio.bib",
   "cite_by": "apalike",
   "current_citInitial": 1,
   "eqLabelWithNumbers": true,
   "eqNumInitial": 1,
   "hotkeys": {
    "equation": "Ctrl-E",
    "itemize": "Ctrl-I"
   },
   "labels_anchors": false,
   "latex_user_defs": false,
   "report_style_numbering": true,
   "user_envs_cfg": true
  },
  "toc": {
   "base_numbering": 1,
   "nav_menu": {},
   "number_sections": true,
   "sideBar": true,
   "skip_h1_title": true,
   "title_cell": "Tabla de Contenidos",
   "title_sidebar": "Contenidos",
   "toc_cell": true,
   "toc_position": {
    "height": "calc(100% - 180px)",
    "left": "10px",
    "top": "150px",
    "width": "165px"
   },
   "toc_section_display": true,
   "toc_window_display": true
  }
 },
 "nbformat": 4,
 "nbformat_minor": 2
}
