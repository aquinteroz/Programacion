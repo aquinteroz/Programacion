{
 "cells": [
  {
   "cell_type": "code",
   "execution_count": null,
   "id": "1ba5498e",
   "metadata": {
    "scrolled": false
   },
   "outputs": [],
   "source": [
    "import warnings\n",
    "warnings.filterwarnings('ignore')\n",
    "import pandas as pd\n",
    "serie_1 = pd.Series([5, 6, 7, 8, 9, 10])\n",
    "print(serie_1)"
   ]
  },
  {
   "cell_type": "code",
   "execution_count": null,
   "id": "424d8192",
   "metadata": {
    "scrolled": true
   },
   "outputs": [],
   "source": [
    "print(serie_1.values)\n",
    "print('====================')\n",
    "print(serie_1[4])"
   ]
  },
  {
   "cell_type": "code",
   "execution_count": null,
   "id": "6293e743",
   "metadata": {},
   "outputs": [],
   "source": [
    "serie_2 = pd.Series([5, 6, 7, 8, 9, 10], index = ['a', 'b', 'c', 'd', 'e', 'f'])\n",
    "print(serie_2.values)\n",
    "print('====================')\n",
    "print(serie_2['f'])"
   ]
  },
  {
   "cell_type": "code",
   "execution_count": null,
   "id": "6cc27eb9",
   "metadata": {
    "scrolled": true
   },
   "outputs": [],
   "source": [
    "serie_3 = serie_2[serie_2>6]\n",
    "print(serie_3.values)\n",
    "print('====================')\n",
    "serie_3 = serie_3**2 + 2\n",
    "print(serie_3)"
   ]
  },
  {
   "cell_type": "code",
   "execution_count": null,
   "id": "6417e0a5",
   "metadata": {},
   "outputs": [],
   "source": [
    "df_1 = pd.DataFrame({\n",
    "    'País':['Kasajistán','Rusia','Bielorrusia','Ucrania'],\n",
    "    'Población':[17.04, 143.5, 9.5, 45.5],\n",
    "    'Superficie':[2724902, 17125191, 207600, 603628]\n",
    "})\n",
    "print(df_1)"
   ]
  },
  {
   "cell_type": "code",
   "execution_count": null,
   "id": "b5115bb6",
   "metadata": {},
   "outputs": [],
   "source": [
    "lista = [[0, 1, 2], [3, 4, 5], [6, 7, 8]]\n",
    "df_2 = pd.DataFrame(lista)\n",
    "print(df_2)\n",
    "print('====================')\n",
    "df_2.columns = ['V1', 'V2', 'V3']\n",
    "print(df_2)"
   ]
  },
  {
   "cell_type": "code",
   "execution_count": null,
   "id": "0a5a919b",
   "metadata": {},
   "outputs": [],
   "source": [
    "print(df_1.columns)\n",
    "print('====================')\n",
    "print(df_1.index)"
   ]
  },
  {
   "cell_type": "code",
   "execution_count": null,
   "id": "8c19b491",
   "metadata": {},
   "outputs": [],
   "source": [
    "df_3 = pd.DataFrame({\n",
    "    'País':['Kasajistán','Rusia','Bielorrusia','Ucrania'],\n",
    "    'Población':[17.04, 143.5, 9.5, 45.5],\n",
    "    'Superficie':[2724902, 17125191, 207600, 603628]},\n",
    "    index = ['KZ', 'RU', 'KY', 'UA'])\n",
    "print(df_3)"
   ]
  },
  {
   "cell_type": "code",
   "execution_count": null,
   "id": "209fead0",
   "metadata": {
    "scrolled": true
   },
   "outputs": [],
   "source": [
    "df_4 = pd.DataFrame({\n",
    "    'País':['Kasajistán','Rusia','Bielorrusia','Ucrania'],\n",
    "    'Población':[17.04, 143.5, 9.5, 45.5],\n",
    "    'Superficie':[2724902, 17125191, 207600, 603628]})\n",
    "print(df_4)\n",
    "print('====================')\n",
    "df_4.index = ['KZ', 'RU', 'KY', 'UA']\n",
    "df_4.index.name = 'Código de país'\n",
    "print(df_4)"
   ]
  },
  {
   "cell_type": "code",
   "execution_count": null,
   "id": "1439c11a",
   "metadata": {
    "scrolled": true
   },
   "outputs": [],
   "source": [
    "print(df_4.loc['KZ'])"
   ]
  },
  {
   "cell_type": "code",
   "execution_count": null,
   "id": "d20b648a",
   "metadata": {
    "scrolled": true
   },
   "outputs": [],
   "source": [
    "print(df_4.iloc[0])"
   ]
  },
  {
   "cell_type": "code",
   "execution_count": null,
   "id": "a30307c0",
   "metadata": {
    "scrolled": true
   },
   "outputs": [],
   "source": [
    "print(df_4[df_4.Población>10][['País', 'Superficie']])"
   ]
  },
  {
   "cell_type": "code",
   "execution_count": null,
   "id": "5dd2172c",
   "metadata": {
    "scrolled": true
   },
   "outputs": [],
   "source": [
    "import numpy as np\n",
    "df_5 = pd.DataFrame(np.arange(12).reshape(3, 4), \n",
    "                    columns=['A', 'B', 'C', 'D'])\n",
    "print(df_5)\n",
    "df_5 = df_5.drop(['B', 'C'], axis=1)\n",
    "print('====================')\n",
    "print(df_5)"
   ]
  },
  {
   "cell_type": "code",
   "execution_count": null,
   "id": "4a02cbde",
   "metadata": {},
   "outputs": [],
   "source": [
    "df_6 = pd.read_csv('MonthlyData.csv', sep =';')\n",
    "df_6.head()"
   ]
  },
  {
   "cell_type": "code",
   "execution_count": null,
   "id": "8d71f826",
   "metadata": {},
   "outputs": [],
   "source": [
    "df_5.to_csv('prueba.csv')"
   ]
  },
  {
   "cell_type": "code",
   "execution_count": null,
   "id": "2bc26c6a",
   "metadata": {},
   "outputs": [],
   "source": [
    "import pandas as pd\n",
    "import numpy as nop\n",
    "from matplotlib import pyplot as plt\n",
    "import seaborn as sns\n",
    "\n",
    "data1 = pd.read_csv('pokemon.csv')\n",
    "data1.head()"
   ]
  },
  {
   "cell_type": "code",
   "execution_count": null,
   "id": "0e69ace1",
   "metadata": {
    "scrolled": true
   },
   "outputs": [],
   "source": [
    "data1.describe()"
   ]
  },
  {
   "cell_type": "code",
   "execution_count": null,
   "id": "f0097851",
   "metadata": {
    "scrolled": true
   },
   "outputs": [],
   "source": [
    "plt.hist(data1['Speed'], \n",
    "         histtype = 'bar', \n",
    "         ec = 'black')\n",
    "plt.xlabel('Velocidad del Pokémon')\n",
    "plt.ylabel('Frecuencia')\n",
    "plt.show()"
   ]
  },
  {
   "cell_type": "code",
   "execution_count": null,
   "id": "eda3c10c",
   "metadata": {
    "scrolled": true
   },
   "outputs": [],
   "source": [
    "plt.hist(data1['Speed'], \n",
    "         histtype = 'bar', \n",
    "         ec = 'black', \n",
    "         bins = list(range(0,160,10)))\n",
    "plt.xlabel('Velocidad del Pokémon')\n",
    "plt.ylabel('Frecuencia')\n",
    "plt.show()"
   ]
  },
  {
   "cell_type": "code",
   "execution_count": null,
   "id": "9eadcd09",
   "metadata": {
    "scrolled": true
   },
   "outputs": [],
   "source": [
    "plt.hist(data1['Speed'], \n",
    "         histtype = 'bar', \n",
    "         ec = 'black', \n",
    "         bins = 15)\n",
    "plt.xlabel('Velocidad del Pokémon')\n",
    "plt.ylabel('Frecuencia')\n",
    "plt.show()"
   ]
  },
  {
   "cell_type": "code",
   "execution_count": null,
   "id": "0a94625f",
   "metadata": {
    "scrolled": false
   },
   "outputs": [],
   "source": [
    "sns.set_style()\n",
    "sns.displot(data = data1.Speed,\n",
    "           kde = True)"
   ]
  },
  {
   "cell_type": "code",
   "execution_count": null,
   "id": "8ea0137a",
   "metadata": {},
   "outputs": [],
   "source": [
    "sns.lmplot(x = 'Attack', \n",
    "           y = 'Defense', \n",
    "           data = data1, \n",
    "           fit_reg = False)"
   ]
  },
  {
   "cell_type": "code",
   "execution_count": null,
   "id": "5bb8b85b",
   "metadata": {
    "scrolled": true
   },
   "outputs": [],
   "source": [
    "sns.lmplot(x = 'Attack', \n",
    "           y = 'Defense', \n",
    "           data = data1, \n",
    "           hue = 'Generation',\n",
    "           fit_reg = False)"
   ]
  },
  {
   "cell_type": "code",
   "execution_count": null,
   "id": "46d013b7",
   "metadata": {
    "scrolled": false
   },
   "outputs": [],
   "source": [
    "sns.boxplot(data = data1[['HP', 'Attack',\n",
    "                          'Defense', 'Sp. Atk', \n",
    "                          'Sp. Def', 'Speed']])"
   ]
  },
  {
   "cell_type": "code",
   "execution_count": null,
   "id": "0936a2b6",
   "metadata": {
    "scrolled": true
   },
   "outputs": [],
   "source": [
    "sns.violinplot(data = data1[['HP', 'Attack',\n",
    "                          'Defense', 'Sp. Atk', \n",
    "                          'Sp. Def', 'Speed']])"
   ]
  },
  {
   "cell_type": "code",
   "execution_count": null,
   "id": "777c2169",
   "metadata": {},
   "outputs": [],
   "source": [
    "plt.figure(figsize = (15,6))\n",
    "sns.violinplot(x = 'Type 1',\n",
    "               y = 'Attack',\n",
    "              data =data1,\n",
    "              inner = None,\n",
    "              palette = 'Set2')\n",
    "sns.swarmplot(x = 'Type 1',\n",
    "              y = 'Attack',\n",
    "              data =data1,\n",
    "              color = 'k',\n",
    "              alpha = 0.7)"
   ]
  }
 ],
 "metadata": {
  "kernelspec": {
   "display_name": "Python 3 (ipykernel)",
   "language": "python",
   "name": "python3"
  },
  "language_info": {
   "codemirror_mode": {
    "name": "ipython",
    "version": 3
   },
   "file_extension": ".py",
   "mimetype": "text/x-python",
   "name": "python",
   "nbconvert_exporter": "python",
   "pygments_lexer": "ipython3",
   "version": "3.11.5"
  }
 },
 "nbformat": 4,
 "nbformat_minor": 5
}
