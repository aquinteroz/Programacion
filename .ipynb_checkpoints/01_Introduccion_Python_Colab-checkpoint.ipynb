{
 "cells": [
  {
   "cell_type": "markdown",
   "metadata": {
    "slideshow": {
     "slide_type": "notes"
    }
   },
   "source": [
    "<h1 align=\"center\">Programación &#8212; PRE2013A45</h1>\n",
    "<h3 align=\"center\">Docente: Andrés Quintero Zea, PhD.</h3>\n",
    "<h3 align=\"center\">e-mail: andres.quintero27@eia.edu.co</h3>\n",
    "<h3 align=\"center\">Semana 01: Introducción a lenguaje <a href=\"http://www.python.org\">Python</a> y entorno <a href=\"http://colab.research.google.com\">Colab</a></h3>"
   ]
  },
  {
   "cell_type": "markdown",
   "metadata": {},
   "source": [
    "# Creación de código con `Python` y `Colab`\n",
    "\n",
    "- `Python` es un lenguaje de programación interpretado de alto nivel, cuya filosofía se centra en la producción de código limpio y legible. Además, es un lenguaje de programación multiparadigma, ya que soporta programación tanto imperativa como imperativa. Es un lenguaje interpretado, dinámico y multiplataforma.\n",
    "- En este curso usaremos `Colab` para escribir y ejecutar código de `Python`. En términos técnicos, `Colab` es un servicio de notebooks de `Jupyter` alojados que no requiere instalación para usarlo y brinda acceso sin costo a recursos computacionales, incluidas GPU. \n",
    "\n",
    "<div class=\"alert alert-block alert-warning\", style= \"text-align:center\"> <b>Nota: </b>Es necesario contar con una cuenta de Gmail para poder acceder a todas las funcionalidades de <tt>Colab</tt>. </div>\n",
    "    \n",
    "- El uso de `Colab` es facultativo, pero todo el trabajo de la asignatura se hará por medio de Notebooks de `Jupyter`, por lo que podrá hacer uso de cualquier entorno que permita desarrollar Notebooks (*e.g.* Anaconda, VS Code).\n",
    "\n",
    "## Jupyter Notebooks\n",
    "\n",
    "**Jupyter Notebook** es un entorno de trabajo interactivo web que permite desarrollar código en Python de manera dinámica, a la vez que integrar en un mismo documento tanto bloques de código como texto, gráficas o imágenes. Te permite editar y ejecutar documentos de notebook a través de cualquier navegador web. \n",
    "\n",
    "En un Notebook de `Jupyter` existen dos tipos de celdas:\n",
    "- **Celda de código:** Usada para escribir el programa que se ejecutará.\n",
    "- **Celda de texto:** Usada para darle estructura y orden al programa. Para su creación se usa el lenguaje de marcado ligero [Markdown](https://daringfireball.net/projects/markdown/).\n",
    "\n",
    "## Ejemplo de ejecución de código: `Hola, mundo` \n",
    "\n",
    "Para ejecutar el contenido de una celda, una vez seleccionada podemos hacer click en el botón Run (flecha), o hacer o presionar la combinación de teclas <kbd>Ctrl</kbd> + <kbd>Enter</kbd>. Si queremos ejecutar y avanzar automáticamente a la siguiente celda podemos presionar la combinación de teclas <kbd>Shift</kbd> + <kbd>Enter</kbd>.\n",
    "\n",
    "Una vez ejecutado el código de una celda, se mostrará immediatamente el resultado de la operación realizada. Cualquier función o variable creada en una celda ejecutada puede ser utilizada en una nueva celda.\n",
    "\n",
    "A continuación encontrará la típica instrucción para imprimir en pantalla \"**¡Hola, Mundo!**\" mediante lenguaje `Python`.\n",
    "```Python\n",
    "print(\"¡Hola, mundo!\")\n",
    "```\n",
    "Ejecútela y observe su comportamiento:"
   ]
  },
  {
   "cell_type": "code",
   "execution_count": null,
   "metadata": {},
   "outputs": [],
   "source": [
    "print(\"¡Hola, mundo!\")"
   ]
  },
  {
   "cell_type": "markdown",
   "metadata": {},
   "source": [
    "El código anterior es bastante básico, ¿Qué pasará si queremos personalizar el saludo, por ejemplo, con el nombre del usuario? En este caso debemos capturar el nombre mediante el uso del comando \n",
    "\n",
    "```Python\n",
    "input(\"Alguna instrucción\")\n",
    "```"
   ]
  },
  {
   "cell_type": "code",
   "execution_count": null,
   "metadata": {},
   "outputs": [],
   "source": [
    "input(\"¿Cuál es su nombre?\")\n",
    "print(\"hello, world\")"
   ]
  },
  {
   "cell_type": "markdown",
   "metadata": {},
   "source": [
    "Sin embargo, las instrucciones anteriores por sí solas no permitirán que su programa use lo que ingresa el usuario. Para eso, se debe hacer uso de **variables**. Una variable es solo un contenedor para un valor dentro del  programa. El código anterior se puede mejorar de la siguiente manera:"
   ]
  },
  {
   "cell_type": "code",
   "execution_count": null,
   "metadata": {},
   "outputs": [],
   "source": [
    "name = input(\"¿Cuál es su nombre? \")\n",
    "print(\"hello, world\")"
   ]
  },
  {
   "cell_type": "markdown",
   "metadata": {},
   "source": [
    "Tenga en cuenta que este signo igual `=` en medio de `name = input(\"¿Cuál es su nombre?\")` tiene un papel especial en la programación. Este signo igual asigna literalmente lo que está a la derecha a lo que está a la izquierda. Por lo tanto, el valor devuelto por `input(\"¿Cuál es su nombre?\")` se asigna a `name`.\n",
    "\n",
    "Si edita su código de la siguiente manera, notará una discrepancia."
   ]
  },
  {
   "cell_type": "code",
   "execution_count": null,
   "metadata": {},
   "outputs": [],
   "source": [
    "name = input(\"¿Cuál es su nombre? \")\n",
    "print(\"hello, name\")"
   ]
  },
  {
   "cell_type": "markdown",
   "metadata": {},
   "source": [
    "Para mejorar esto, se puede implementar el siguiente cambio:"
   ]
  },
  {
   "cell_type": "code",
   "execution_count": null,
   "metadata": {},
   "outputs": [],
   "source": [
    "name = input(\"¿Cuál es su nombre? \")\n",
    "print(\"Hola,\")\n",
    "print(name)"
   ]
  },
  {
   "cell_type": "markdown",
   "metadata": {},
   "source": [
    "Note que el nombre ingresado por el usuario se imprime en una nueva línea, esto se puede mejorar de la siguiente forma:"
   ]
  },
  {
   "cell_type": "code",
   "execution_count": null,
   "metadata": {},
   "outputs": [],
   "source": [
    "# Preguntar al usuario su nombre\n",
    "name = input(\"¿Cuál es su nombre? \")\n",
    "\n",
    "# Imprimir saludo \n",
    "print(\"Hola, \" + name)\n",
    "print(\"Hola,\",name)"
   ]
  },
  {
   "cell_type": "markdown",
   "metadata": {},
   "source": [
    "En el código anterior se puede ver el uso de `#` para escribir comentarios. Además, note que la función `print` se puede usar de diferentes formas para crear la misma salida en consola (el primer comando tiene coma, no así el segundo). Para conocer la sintaxis de la función `print`, puede consultar la [documentación](https://docs.python.org/3/library/functions.html#print) de la misma. Mirando esta documentación, aprenderá que la función de impresión incluye automáticamente un fragmento de código `end='\\n'`. Este `\\n` indica que la función `print` creará automáticamente un salto de línea cuando se ejecute. Sin embargo, técnicamente podemos proporcionar un argumento para `end`, de modo que no se cree una nueva línea. Podemos entonces modificar nuestro código de la siguiente manera:"
   ]
  },
  {
   "cell_type": "code",
   "execution_count": null,
   "metadata": {},
   "outputs": [],
   "source": [
    "# Preguntar al usuario su nombre\n",
    "name = input(\"¿Cuál es su nombre? \")\n",
    "\n",
    "# Imprimir saludo \n",
    "print(\"Hola, \",end='')\n",
    "print(name)"
   ]
  },
  {
   "cell_type": "markdown",
   "metadata": {},
   "source": [
    "Ahora bien, con la impresión de texto en consola surgen diferentes problemas con las entradas por teclado, como el caso de comilla. Este problema se puede enfrentar de dos maneras:"
   ]
  },
  {
   "cell_type": "code",
   "execution_count": null,
   "metadata": {},
   "outputs": [],
   "source": [
    "# Impresión de expresiones con comillas\n",
    "print('Carlos \"El Pibe\" Valderrama')\n",
    "print(\"Carlos \\\"El Pibe\\\" Valderrama\")"
   ]
  },
  {
   "cell_type": "markdown",
   "metadata": {},
   "source": [
    "Hasta ahora hemos usado la función `print` con un tipo de `string` conocido como **literal string** (su valor es fijo y se establece entre comillas simples o dobles) o su concatenación con el valor de una variable (usando `print` con un argumento uniendo con `+` o con dos argumentos separados por `,`).\n",
    "\n",
    "<div class=\"alert alert-block alert-warning\"> A continuación veremos algunos ejemplos en los que se usará <tt>print</tt> con un tipo especial de <tt>string</tt>, llamdos <b>f-string</b> para los que es necesario contar con una versión de <tt>Python</tt> superior a la 3.6.</div>"
   ]
  },
  {
   "cell_type": "code",
   "execution_count": null,
   "metadata": {},
   "outputs": [],
   "source": [
    "!python --version\n",
    "\n",
    "print(\"\")\n",
    "# Uso de caracteres de escape \\t, \\n\n",
    "s = 'Pepito \\t Pérez'\n",
    "print(s)\n",
    "\n",
    "t = \"Pepito \\nPérez\"\n",
    "print(t)\n",
    "\n",
    "#String multilínea\n",
    "m = '''Pepito\n",
    "    Pérez'''\n",
    "print(m)\n",
    "\n",
    "# f-string\n",
    "# Recordar que la variable 'name' ya está adquirida\n",
    "print(f\"Hola, {name}\")\n",
    "\n",
    "# r-string\n",
    "# Recordar que la variable 'name' ya está adquirida\n",
    "print(r\"Hola, {name}\")"
   ]
  },
  {
   "cell_type": "markdown",
   "metadata": {},
   "source": [
    "## Algunas manipulaciones de cadenas de caracteres (`string`)\n",
    "\n",
    "Nunca se debe esperar que un usuario coopere según lo previsto. Por lo tanto, deberá asegurarse de que la entrada de su usuario sea corregida o verificada. En python, los *strings* están equipados con una serie de métodos que hacen que el trabajo con ellos sea más ameno (ver [documentación](https://docs.python.org/3/library/stdtypes.html#str)). A continuación revisaremos algunos ejemplos."
   ]
  },
  {
   "cell_type": "code",
   "execution_count": null,
   "metadata": {},
   "outputs": [],
   "source": [
    "# Preguntar al usuario su nombre\n",
    "name = input(\"¿Cuál es su nombre? \")\n",
    "\n",
    "# Uso de str.strip()\n",
    "name = name.strip()\n",
    "\n",
    "# Imprimir saludo \n",
    "print(f\"Hola, {name}\")"
   ]
  },
  {
   "cell_type": "markdown",
   "metadata": {},
   "source": [
    "En el código anterior se ilustró el uso del método `str.strip()`, que se encarga de eliminar los espacios sobrantes antes y después de la cadena de caracteres. Otro problema que puede aparecer al adquirir datos por teclado es que, en el caso de nombres propios, el usuario no use mayúcula inicial. Esto se puede corregir con el método `str.title()`, que se encarga de poner mayúscula en cada palabra."
   ]
  },
  {
   "cell_type": "code",
   "execution_count": null,
   "metadata": {},
   "outputs": [],
   "source": [
    "# Preguntar al usuario su nombre\n",
    "name = input(\"¿Cuál es su nombre? \")\n",
    "\n",
    "# Uso de str.strip()\n",
    "name = name.title()\n",
    "\n",
    "# Imprimir saludo \n",
    "print(f\"Hola, {name}\")"
   ]
  },
  {
   "cell_type": "markdown",
   "metadata": {},
   "source": [
    "Se pueden aplicar varios métodos al mismo tiempo."
   ]
  },
  {
   "cell_type": "code",
   "execution_count": null,
   "metadata": {},
   "outputs": [],
   "source": [
    "# Preguntar al usuario su nombre\n",
    "name = input(\"¿Cuál es su nombre? \")\n",
    "\n",
    "# Uso de str.strip() y str.title()\n",
    "name = name.title().strip()\n",
    "\n",
    "# Imprimir saludo \n",
    "print(f\"Hola, {name}\")"
   ]
  },
  {
   "cell_type": "markdown",
   "metadata": {},
   "source": [
    "Incluso los métodos los podemos aplcar directamente sobre la entrada de texto."
   ]
  },
  {
   "cell_type": "code",
   "execution_count": null,
   "metadata": {},
   "outputs": [],
   "source": [
    "# Preguntar al usuario su nombre y aplicación de str.strip() y str.title()\n",
    "name = input(\"¿Cuál es su nombre? \").title().strip()\n",
    "\n",
    "# Imprimir saludo \n",
    "print(f\"Hola, {name}\")"
   ]
  },
  {
   "cell_type": "markdown",
   "metadata": {},
   "source": [
    "## Trabajo con números enteros (`int`) y de punto flotante (`float`)"
   ]
  },
  {
   "cell_type": "markdown",
   "metadata": {},
   "source": [
    "En Python, un número entero se denomina `int` y un número de punto flotante `float` y podemos usarlos para calcular diferentes operaciones matemáticas, como se ejemplifica a continuación."
   ]
  },
  {
   "cell_type": "code",
   "execution_count": null,
   "metadata": {},
   "outputs": [],
   "source": [
    "# Asignación estática de valores enteros a variables\n",
    "x = 1\n",
    "y = 2\n",
    "\n",
    "z = X + Y\n",
    "\n",
    "print(z)"
   ]
  },
  {
   "cell_type": "code",
   "execution_count": null,
   "metadata": {},
   "outputs": [],
   "source": [
    "# Asignación de valores por teclado (CON ERROR)\n",
    "x = input(\"Ingrese el valor de 'x': \")\n",
    "y = input(\"Ingrese el valor de 'y': \")\n",
    "\n",
    "z = x + y\n",
    "\n",
    "print(z)"
   ]
  },
  {
   "cell_type": "code",
   "execution_count": null,
   "metadata": {},
   "outputs": [],
   "source": [
    "# Asignación de valores por teclado (CORRECTO)\n",
    "x = int(input(\"Ingrese el valor de 'x': \"))\n",
    "y = int(input(\"Ingrese el valor de 'y': \"))\n",
    "\n",
    "z = x + y\n",
    "\n",
    "print(z)"
   ]
  },
  {
   "cell_type": "code",
   "execution_count": null,
   "metadata": {},
   "outputs": [],
   "source": [
    "# Asignación de valores por teclado (CORRECTO)\n",
    "x = float(input(\"Ingrese el valor de 'x': \"))\n",
    "y = float(input(\"Ingrese el valor de 'y': \"))\n",
    "\n",
    "z = x + y\n",
    "\n",
    "print(z)"
   ]
  },
  {
   "cell_type": "code",
   "execution_count": null,
   "metadata": {},
   "outputs": [],
   "source": [
    "# Asignación de valores por teclado (CORRECTO)\n",
    "x = float(input(\"Ingrese el valor de 'x': \"))\n",
    "y = float(input(\"Ingrese el valor de 'y': \"))\n",
    "\n",
    "# Redondeo usando round(number[n, ndigits])\n",
    "z = round(x + y,2)\n",
    "\n",
    "print(z)\n",
    "print(f\"{z:,}\")"
   ]
  },
  {
   "cell_type": "code",
   "execution_count": null,
   "metadata": {},
   "outputs": [],
   "source": [
    "# Asignación de valores por teclado (CORRECTO)\n",
    "x = float(input(\"Ingrese el valor de 'x': \"))\n",
    "y = float(input(\"Ingrese el valor de 'y': \"))\n",
    "\n",
    "z = round(x / y,2)\n",
    "print(z)\n",
    "\n",
    "z = x / y\n",
    "print(f\"{z:.2f}\")\n",
    "print(f\"{z:g}\")"
   ]
  },
  {
   "cell_type": "markdown",
   "metadata": {},
   "source": [
    "## Creación de funciones (`def`)"
   ]
  },
  {
   "cell_type": "markdown",
   "metadata": {},
   "source": [
    "La palabra clave `def` de `Python` se usa para definir una función y se escribe antes del nombre de la función que se desee crear. Veamos un ejemplo, primero consideremos nuevamente el siguiente código:"
   ]
  },
  {
   "cell_type": "code",
   "execution_count": null,
   "metadata": {},
   "outputs": [],
   "source": [
    "name = input(\"¿Cuál es su nombre? \").title().strip()\n",
    "\n",
    "# Imprimir saludo \n",
    "print(f\"Hola, {name}\")"
   ]
  },
  {
   "cell_type": "markdown",
   "metadata": {},
   "source": [
    "Podemos crear una función que se encargue de imprimir el saludo, una vez se adquiera el nombre del usuario, asi:"
   ]
  },
  {
   "cell_type": "code",
   "execution_count": null,
   "metadata": {},
   "outputs": [],
   "source": [
    "# Función con parámetro por defecto\n",
    "def hello(to=\"mundo\"):\n",
    "    print(\"Hola,\", to)\n",
    "\n",
    "name = input(\"¿Cuál es su nombre? \").title().strip()\n",
    "hello(name)\n",
    "\n",
    "hello()"
   ]
  },
  {
   "cell_type": "markdown",
   "metadata": {},
   "source": [
    "O crear funciones que retornen algún argumento:"
   ]
  },
  {
   "cell_type": "code",
   "execution_count": null,
   "metadata": {},
   "outputs": [],
   "source": [
    "def main():\n",
    "    x = int(input(\"Ingrese el valor de 'x': \"))\n",
    "    print(\"'x' al cuadrado es\", square(x))\n",
    "\n",
    "def square(n):\n",
    "    return n * n\n",
    "\n",
    "main()"
   ]
  },
  {
   "cell_type": "markdown",
   "metadata": {},
   "source": [
    "# Ejercicios\n",
    "\n",
    "1. Implemente una función que pida al usuario ingresar una frase y luego la muestre en consola usando solo minúsculas y luego solo mayúsculas.\n",
    "2. Implemente una función que pida al usuario ingresar una frase, luego reemplace cada espacio por puntos suspensivos y finalmente la muestre en consola.\n",
    "3. Una forma de calcular el precio de venta $p$ de un artículo con base en el porcentaje de ganancia esperado $G$ y el costo de manufactura $c$ viene dada por la expresión: $$p = \\frac{c}{1-g},$$ donde $g$ es el valor de $G$ expresado como decimal (i.e. 48\\% = 0.48). Complete el siguiente código de manera que calcule automáticamente el precio de venta de un artículo y lo imprima en consola.\n",
    "\n",
    "```python\n",
    "def main():\n",
    "    costo = costo_float()\n",
    "    margen = margen_float()\n",
    "    # TODO\n",
    "    # Calcular el precio de venta\n",
    "    # Imprimir en consola el precio de venta usando f-string\n",
    "\n",
    "def costo_float():\n",
    "    # TODO\n",
    "    # Debe preguntar al usuario el costo y devolverlo como float\n",
    "    \n",
    "def margen_float():\n",
    "    # TODO\n",
    "    # Debe preguntar al usuario el porcentaje de ganancia, expresarlo en decimal y devolverlo como float\n",
    "    \n",
    "main()\n",
    "```"
   ]
  },
  {
   "cell_type": "markdown",
   "metadata": {},
   "source": [
    "<img src=\"Images/mit_license_icon.svg\" style=\"float:left;width: 25px;\"/> &nbsp; *Este archivo se comparte bajo los términos de la licencia* **[MIT](LICENSE)**"
   ]
  }
 ],
 "metadata": {
  "kernelspec": {
   "display_name": "Python 3 (ipykernel)",
   "language": "python",
   "name": "python3"
  },
  "language_info": {
   "codemirror_mode": {
    "name": "ipython",
    "version": 3
   },
   "file_extension": ".py",
   "mimetype": "text/x-python",
   "name": "python",
   "nbconvert_exporter": "python",
   "pygments_lexer": "ipython3",
   "version": "3.10.8"
  },
  "latex_envs": {
   "LaTeX_envs_menu_present": true,
   "autocomplete": true,
   "bibliofile": "biblio.bib",
   "cite_by": "apalike",
   "current_citInitial": 1,
   "eqLabelWithNumbers": true,
   "eqNumInitial": 1,
   "hotkeys": {
    "equation": "Ctrl-E",
    "itemize": "Ctrl-I"
   },
   "labels_anchors": false,
   "latex_user_defs": false,
   "report_style_numbering": true,
   "user_envs_cfg": true
  },
  "toc": {
   "base_numbering": 1,
   "nav_menu": {},
   "number_sections": true,
   "sideBar": true,
   "skip_h1_title": true,
   "title_cell": "Tabla de Contenidos",
   "title_sidebar": "Contenidos",
   "toc_cell": true,
   "toc_position": {
    "height": "calc(100% - 180px)",
    "left": "10px",
    "top": "150px",
    "width": "165px"
   },
   "toc_section_display": true,
   "toc_window_display": true
  }
 },
 "nbformat": 4,
 "nbformat_minor": 2
}
